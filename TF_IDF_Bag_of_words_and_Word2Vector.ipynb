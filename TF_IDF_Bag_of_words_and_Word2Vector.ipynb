{
  "cells": [
    {
      "cell_type": "code",
      "execution_count": null,
      "metadata": {
        "colab": {
          "base_uri": "https://localhost:8080/"
        },
        "id": "pQJsXb2merHT",
        "outputId": "e9c8eeda-2fc5-4231-bc34-69be1dda6418"
      },
      "outputs": [
        {
          "name": "stderr",
          "output_type": "stream",
          "text": [
            "[nltk_data] Downloading package stopwords to /root/nltk_data...\n",
            "[nltk_data]   Unzipping corpora/stopwords.zip.\n"
          ]
        }
      ],
      "source": [
        "import pandas as pd\n",
        "import matplotlib.pyplot as plt\n",
        "import re\n",
        "import time\n",
        "import warnings\n",
        "import numpy as np\n",
        "from nltk.corpus import stopwords\n",
        "from sklearn.preprocessing import normalize\n",
        "from sklearn.feature_extraction.text import CountVectorizer\n",
        "from sklearn.feature_extraction.text import TfidfVectorizer\n",
        "import scipy\n",
        "from scipy import *\n",
        "warnings.filterwarnings(\"ignore\")\n",
        "import sys\n",
        "import os \n",
        "import pandas as pd\n",
        "import numpy as np\n",
        "from tqdm import tqdm\n",
        "# exctract word2vec vectors\n",
        "# https://github.com/explosion/spaCy/issues/1721\n",
        "# http://landinghub.visualstudio.com/visual-cpp-build-tools\n",
        "import spacy\n",
        "from scipy import spatial\n",
        "from nltk.corpus import stopwords\n",
        "import nltk\n",
        "nltk.download('stopwords')\n",
        "STOP_WORDS = stopwords.words(\"english\")\n",
        "from sklearn.model_selection import train_test_split\n",
        "import xgboost as xgb\n",
        "import sklearn.metrics as classification_report\n",
        "from sklearn.metrics import confusion_matrix\n",
        "from sklearn.metrics import accuracy_score, log_loss\n",
        "from sklearn.metrics import precision_recall_curve, auc, roc_curve ,f1_score\n",
        "from sklearn.model_selection import RandomizedSearchCV\n",
        "from sklearn.linear_model import SGDClassifier\n",
        "\n",
        "from sklearn import model_selection\n",
        "from sklearn.linear_model import LogisticRegression\n",
        "from sklearn.calibration import CalibratedClassifierCV\n",
        "from sklearn.ensemble import RandomForestClassifier\n",
        "from sklearn.ensemble import AdaBoostClassifier\n",
        "from sklearn.tree import DecisionTreeClassifier"
      ]
    },
    {
      "cell_type": "code",
      "execution_count": null,
      "metadata": {
        "colab": {
          "base_uri": "https://localhost:8080/",
          "height": 215
        },
        "id": "c0VD-8EugeAH",
        "outputId": "7e518ab3-7fbc-4bc4-8ecb-83be29ef89df"
      },
      "outputs": [
        {
          "data": {
            "text/html": [
              "\n",
              "  <div id=\"df-e751164d-e2cc-4802-83a9-48e26e480c96\">\n",
              "    <div class=\"colab-df-container\">\n",
              "      <div>\n",
              "<style scoped>\n",
              "    .dataframe tbody tr th:only-of-type {\n",
              "        vertical-align: middle;\n",
              "    }\n",
              "\n",
              "    .dataframe tbody tr th {\n",
              "        vertical-align: top;\n",
              "    }\n",
              "\n",
              "    .dataframe thead th {\n",
              "        text-align: right;\n",
              "    }\n",
              "</style>\n",
              "<table border=\"1\" class=\"dataframe\">\n",
              "  <thead>\n",
              "    <tr style=\"text-align: right;\">\n",
              "      <th></th>\n",
              "      <th>id</th>\n",
              "      <th>qid1</th>\n",
              "      <th>qid2</th>\n",
              "      <th>question1</th>\n",
              "      <th>question2</th>\n",
              "      <th>is_duplicate</th>\n",
              "    </tr>\n",
              "  </thead>\n",
              "  <tbody>\n",
              "    <tr>\n",
              "      <th>0</th>\n",
              "      <td>0</td>\n",
              "      <td>1</td>\n",
              "      <td>2</td>\n",
              "      <td>What is the step by step guide to invest in sh...</td>\n",
              "      <td>What is the step by step guide to invest in sh...</td>\n",
              "      <td>0</td>\n",
              "    </tr>\n",
              "    <tr>\n",
              "      <th>1</th>\n",
              "      <td>1</td>\n",
              "      <td>3</td>\n",
              "      <td>4</td>\n",
              "      <td>What is the story of Kohinoor (Koh-i-Noor) Dia...</td>\n",
              "      <td>What would happen if the Indian government sto...</td>\n",
              "      <td>0</td>\n",
              "    </tr>\n",
              "    <tr>\n",
              "      <th>2</th>\n",
              "      <td>2</td>\n",
              "      <td>5</td>\n",
              "      <td>6</td>\n",
              "      <td>How can I increase the speed of my internet co...</td>\n",
              "      <td>How can Internet speed be increased by hacking...</td>\n",
              "      <td>0</td>\n",
              "    </tr>\n",
              "    <tr>\n",
              "      <th>3</th>\n",
              "      <td>3</td>\n",
              "      <td>7</td>\n",
              "      <td>8</td>\n",
              "      <td>Why am I mentally very lonely? How can I solve...</td>\n",
              "      <td>Find the remainder when [math]23^{24}[/math] i...</td>\n",
              "      <td>0</td>\n",
              "    </tr>\n",
              "    <tr>\n",
              "      <th>4</th>\n",
              "      <td>4</td>\n",
              "      <td>9</td>\n",
              "      <td>10</td>\n",
              "      <td>Which one dissolve in water quikly sugar, salt...</td>\n",
              "      <td>Which fish would survive in salt water?</td>\n",
              "      <td>0</td>\n",
              "    </tr>\n",
              "  </tbody>\n",
              "</table>\n",
              "</div>\n",
              "      <button class=\"colab-df-convert\" onclick=\"convertToInteractive('df-e751164d-e2cc-4802-83a9-48e26e480c96')\"\n",
              "              title=\"Convert this dataframe to an interactive table.\"\n",
              "              style=\"display:none;\">\n",
              "        \n",
              "  <svg xmlns=\"http://www.w3.org/2000/svg\" height=\"24px\"viewBox=\"0 0 24 24\"\n",
              "       width=\"24px\">\n",
              "    <path d=\"M0 0h24v24H0V0z\" fill=\"none\"/>\n",
              "    <path d=\"M18.56 5.44l.94 2.06.94-2.06 2.06-.94-2.06-.94-.94-2.06-.94 2.06-2.06.94zm-11 1L8.5 8.5l.94-2.06 2.06-.94-2.06-.94L8.5 2.5l-.94 2.06-2.06.94zm10 10l.94 2.06.94-2.06 2.06-.94-2.06-.94-.94-2.06-.94 2.06-2.06.94z\"/><path d=\"M17.41 7.96l-1.37-1.37c-.4-.4-.92-.59-1.43-.59-.52 0-1.04.2-1.43.59L10.3 9.45l-7.72 7.72c-.78.78-.78 2.05 0 2.83L4 21.41c.39.39.9.59 1.41.59.51 0 1.02-.2 1.41-.59l7.78-7.78 2.81-2.81c.8-.78.8-2.07 0-2.86zM5.41 20L4 18.59l7.72-7.72 1.47 1.35L5.41 20z\"/>\n",
              "  </svg>\n",
              "      </button>\n",
              "      \n",
              "  <style>\n",
              "    .colab-df-container {\n",
              "      display:flex;\n",
              "      flex-wrap:wrap;\n",
              "      gap: 12px;\n",
              "    }\n",
              "\n",
              "    .colab-df-convert {\n",
              "      background-color: #E8F0FE;\n",
              "      border: none;\n",
              "      border-radius: 50%;\n",
              "      cursor: pointer;\n",
              "      display: none;\n",
              "      fill: #1967D2;\n",
              "      height: 32px;\n",
              "      padding: 0 0 0 0;\n",
              "      width: 32px;\n",
              "    }\n",
              "\n",
              "    .colab-df-convert:hover {\n",
              "      background-color: #E2EBFA;\n",
              "      box-shadow: 0px 1px 2px rgba(60, 64, 67, 0.3), 0px 1px 3px 1px rgba(60, 64, 67, 0.15);\n",
              "      fill: #174EA6;\n",
              "    }\n",
              "\n",
              "    [theme=dark] .colab-df-convert {\n",
              "      background-color: #3B4455;\n",
              "      fill: #D2E3FC;\n",
              "    }\n",
              "\n",
              "    [theme=dark] .colab-df-convert:hover {\n",
              "      background-color: #434B5C;\n",
              "      box-shadow: 0px 1px 3px 1px rgba(0, 0, 0, 0.15);\n",
              "      filter: drop-shadow(0px 1px 2px rgba(0, 0, 0, 0.3));\n",
              "      fill: #FFFFFF;\n",
              "    }\n",
              "  </style>\n",
              "\n",
              "      <script>\n",
              "        const buttonEl =\n",
              "          document.querySelector('#df-e751164d-e2cc-4802-83a9-48e26e480c96 button.colab-df-convert');\n",
              "        buttonEl.style.display =\n",
              "          google.colab.kernel.accessAllowed ? 'block' : 'none';\n",
              "\n",
              "        async function convertToInteractive(key) {\n",
              "          const element = document.querySelector('#df-e751164d-e2cc-4802-83a9-48e26e480c96');\n",
              "          const dataTable =\n",
              "            await google.colab.kernel.invokeFunction('convertToInteractive',\n",
              "                                                     [key], {});\n",
              "          if (!dataTable) return;\n",
              "\n",
              "          const docLinkHtml = 'Like what you see? Visit the ' +\n",
              "            '<a target=\"_blank\" href=https://colab.research.google.com/notebooks/data_table.ipynb>data table notebook</a>'\n",
              "            + ' to learn more about interactive tables.';\n",
              "          element.innerHTML = '';\n",
              "          dataTable['output_type'] = 'display_data';\n",
              "          await google.colab.output.renderOutput(dataTable, element);\n",
              "          const docLink = document.createElement('div');\n",
              "          docLink.innerHTML = docLinkHtml;\n",
              "          element.appendChild(docLink);\n",
              "        }\n",
              "      </script>\n",
              "    </div>\n",
              "  </div>\n",
              "  "
            ],
            "text/plain": [
              "   id  qid1  qid2                                          question1  \\\n",
              "0   0     1     2  What is the step by step guide to invest in sh...   \n",
              "1   1     3     4  What is the story of Kohinoor (Koh-i-Noor) Dia...   \n",
              "2   2     5     6  How can I increase the speed of my internet co...   \n",
              "3   3     7     8  Why am I mentally very lonely? How can I solve...   \n",
              "4   4     9    10  Which one dissolve in water quikly sugar, salt...   \n",
              "\n",
              "                                           question2  is_duplicate  \n",
              "0  What is the step by step guide to invest in sh...             0  \n",
              "1  What would happen if the Indian government sto...             0  \n",
              "2  How can Internet speed be increased by hacking...             0  \n",
              "3  Find the remainder when [math]23^{24}[/math] i...             0  \n",
              "4            Which fish would survive in salt water?             0  "
            ]
          },
          "execution_count": 2,
          "metadata": {},
          "output_type": "execute_result"
        }
      ],
      "source": [
        "df= pd.read_csv(\"/content/drive/MyDrive/FYP/train.csv\") # importing the dataset\n",
        "\n",
        "df['question1'] = df['question1'].apply(lambda x: str(x))\n",
        "df['question2'] = df['question2'].apply(lambda x: str(x))\n",
        "df.head()"
      ]
    },
    {
      "cell_type": "code",
      "execution_count": null,
      "metadata": {
        "colab": {
          "base_uri": "https://localhost:8080/",
          "height": 554
        },
        "id": "PqVLsohfgxMd",
        "outputId": "72e44e82-4974-45cd-c928-a40deef130aa"
      },
      "outputs": [
        {
          "data": {
            "text/html": [
              "\n",
              "  <div id=\"df-076c3250-613b-4925-af13-a4b56fb51928\">\n",
              "    <div class=\"colab-df-container\">\n",
              "      <div>\n",
              "<style scoped>\n",
              "    .dataframe tbody tr th:only-of-type {\n",
              "        vertical-align: middle;\n",
              "    }\n",
              "\n",
              "    .dataframe tbody tr th {\n",
              "        vertical-align: top;\n",
              "    }\n",
              "\n",
              "    .dataframe thead th {\n",
              "        text-align: right;\n",
              "    }\n",
              "</style>\n",
              "<table border=\"1\" class=\"dataframe\">\n",
              "  <thead>\n",
              "    <tr style=\"text-align: right;\">\n",
              "      <th></th>\n",
              "      <th>id</th>\n",
              "      <th>qid1</th>\n",
              "      <th>qid2</th>\n",
              "      <th>question1</th>\n",
              "      <th>question2</th>\n",
              "      <th>is_duplicate</th>\n",
              "    </tr>\n",
              "  </thead>\n",
              "  <tbody>\n",
              "    <tr>\n",
              "      <th>0</th>\n",
              "      <td>0</td>\n",
              "      <td>1</td>\n",
              "      <td>2</td>\n",
              "      <td>What is the step by step guide to invest in sh...</td>\n",
              "      <td>What is the step by step guide to invest in sh...</td>\n",
              "      <td>0</td>\n",
              "    </tr>\n",
              "    <tr>\n",
              "      <th>1</th>\n",
              "      <td>1</td>\n",
              "      <td>3</td>\n",
              "      <td>4</td>\n",
              "      <td>What is the story of Kohinoor (Koh-i-Noor) Dia...</td>\n",
              "      <td>What would happen if the Indian government sto...</td>\n",
              "      <td>0</td>\n",
              "    </tr>\n",
              "    <tr>\n",
              "      <th>2</th>\n",
              "      <td>2</td>\n",
              "      <td>5</td>\n",
              "      <td>6</td>\n",
              "      <td>How can I increase the speed of my internet co...</td>\n",
              "      <td>How can Internet speed be increased by hacking...</td>\n",
              "      <td>0</td>\n",
              "    </tr>\n",
              "    <tr>\n",
              "      <th>3</th>\n",
              "      <td>3</td>\n",
              "      <td>7</td>\n",
              "      <td>8</td>\n",
              "      <td>Why am I mentally very lonely? How can I solve...</td>\n",
              "      <td>Find the remainder when [math]23^{24}[/math] i...</td>\n",
              "      <td>0</td>\n",
              "    </tr>\n",
              "    <tr>\n",
              "      <th>4</th>\n",
              "      <td>4</td>\n",
              "      <td>9</td>\n",
              "      <td>10</td>\n",
              "      <td>Which one dissolve in water quikly sugar, salt...</td>\n",
              "      <td>Which fish would survive in salt water?</td>\n",
              "      <td>0</td>\n",
              "    </tr>\n",
              "    <tr>\n",
              "      <th>5</th>\n",
              "      <td>5</td>\n",
              "      <td>11</td>\n",
              "      <td>12</td>\n",
              "      <td>Astrology: I am a Capricorn Sun Cap moon and c...</td>\n",
              "      <td>I'm a triple Capricorn (Sun, Moon and ascendan...</td>\n",
              "      <td>1</td>\n",
              "    </tr>\n",
              "    <tr>\n",
              "      <th>6</th>\n",
              "      <td>6</td>\n",
              "      <td>13</td>\n",
              "      <td>14</td>\n",
              "      <td>Should I buy tiago?</td>\n",
              "      <td>What keeps childern active and far from phone ...</td>\n",
              "      <td>0</td>\n",
              "    </tr>\n",
              "    <tr>\n",
              "      <th>7</th>\n",
              "      <td>7</td>\n",
              "      <td>15</td>\n",
              "      <td>16</td>\n",
              "      <td>How can I be a good geologist?</td>\n",
              "      <td>What should I do to be a great geologist?</td>\n",
              "      <td>1</td>\n",
              "    </tr>\n",
              "    <tr>\n",
              "      <th>8</th>\n",
              "      <td>8</td>\n",
              "      <td>17</td>\n",
              "      <td>18</td>\n",
              "      <td>When do you use シ instead of し?</td>\n",
              "      <td>When do you use \"&amp;\" instead of \"and\"?</td>\n",
              "      <td>0</td>\n",
              "    </tr>\n",
              "    <tr>\n",
              "      <th>9</th>\n",
              "      <td>9</td>\n",
              "      <td>19</td>\n",
              "      <td>20</td>\n",
              "      <td>Motorola (company): Can I hack my Charter Moto...</td>\n",
              "      <td>How do I hack Motorola DCX3400 for free internet?</td>\n",
              "      <td>0</td>\n",
              "    </tr>\n",
              "    <tr>\n",
              "      <th>10</th>\n",
              "      <td>10</td>\n",
              "      <td>21</td>\n",
              "      <td>22</td>\n",
              "      <td>Method to find separation of slits using fresn...</td>\n",
              "      <td>What are some of the things technicians can te...</td>\n",
              "      <td>0</td>\n",
              "    </tr>\n",
              "    <tr>\n",
              "      <th>11</th>\n",
              "      <td>11</td>\n",
              "      <td>23</td>\n",
              "      <td>24</td>\n",
              "      <td>How do I read and find my YouTube comments?</td>\n",
              "      <td>How can I see all my Youtube comments?</td>\n",
              "      <td>1</td>\n",
              "    </tr>\n",
              "    <tr>\n",
              "      <th>12</th>\n",
              "      <td>12</td>\n",
              "      <td>25</td>\n",
              "      <td>26</td>\n",
              "      <td>What can make Physics easy to learn?</td>\n",
              "      <td>How can you make physics easy to learn?</td>\n",
              "      <td>1</td>\n",
              "    </tr>\n",
              "    <tr>\n",
              "      <th>13</th>\n",
              "      <td>13</td>\n",
              "      <td>27</td>\n",
              "      <td>28</td>\n",
              "      <td>What was your first sexual experience like?</td>\n",
              "      <td>What was your first sexual experience?</td>\n",
              "      <td>1</td>\n",
              "    </tr>\n",
              "    <tr>\n",
              "      <th>14</th>\n",
              "      <td>14</td>\n",
              "      <td>29</td>\n",
              "      <td>30</td>\n",
              "      <td>What are the laws to change your status from a...</td>\n",
              "      <td>What are the laws to change your status from a...</td>\n",
              "      <td>0</td>\n",
              "    </tr>\n",
              "    <tr>\n",
              "      <th>15</th>\n",
              "      <td>15</td>\n",
              "      <td>31</td>\n",
              "      <td>32</td>\n",
              "      <td>What would a Trump presidency mean for current...</td>\n",
              "      <td>How will a Trump presidency affect the student...</td>\n",
              "      <td>1</td>\n",
              "    </tr>\n",
              "    <tr>\n",
              "      <th>16</th>\n",
              "      <td>16</td>\n",
              "      <td>33</td>\n",
              "      <td>34</td>\n",
              "      <td>What does manipulation mean?</td>\n",
              "      <td>What does manipulation means?</td>\n",
              "      <td>1</td>\n",
              "    </tr>\n",
              "    <tr>\n",
              "      <th>17</th>\n",
              "      <td>17</td>\n",
              "      <td>35</td>\n",
              "      <td>36</td>\n",
              "      <td>Why do girls want to be friends with the guy t...</td>\n",
              "      <td>How do guys feel after rejecting a girl?</td>\n",
              "      <td>0</td>\n",
              "    </tr>\n",
              "    <tr>\n",
              "      <th>18</th>\n",
              "      <td>18</td>\n",
              "      <td>37</td>\n",
              "      <td>38</td>\n",
              "      <td>Why are so many Quora users posting questions ...</td>\n",
              "      <td>Why do people ask Quora questions which can be...</td>\n",
              "      <td>1</td>\n",
              "    </tr>\n",
              "    <tr>\n",
              "      <th>19</th>\n",
              "      <td>19</td>\n",
              "      <td>39</td>\n",
              "      <td>40</td>\n",
              "      <td>Which is the best digital marketing institutio...</td>\n",
              "      <td>Which is the best digital marketing institute ...</td>\n",
              "      <td>0</td>\n",
              "    </tr>\n",
              "  </tbody>\n",
              "</table>\n",
              "</div>\n",
              "      <button class=\"colab-df-convert\" onclick=\"convertToInteractive('df-076c3250-613b-4925-af13-a4b56fb51928')\"\n",
              "              title=\"Convert this dataframe to an interactive table.\"\n",
              "              style=\"display:none;\">\n",
              "        \n",
              "  <svg xmlns=\"http://www.w3.org/2000/svg\" height=\"24px\"viewBox=\"0 0 24 24\"\n",
              "       width=\"24px\">\n",
              "    <path d=\"M0 0h24v24H0V0z\" fill=\"none\"/>\n",
              "    <path d=\"M18.56 5.44l.94 2.06.94-2.06 2.06-.94-2.06-.94-.94-2.06-.94 2.06-2.06.94zm-11 1L8.5 8.5l.94-2.06 2.06-.94-2.06-.94L8.5 2.5l-.94 2.06-2.06.94zm10 10l.94 2.06.94-2.06 2.06-.94-2.06-.94-.94-2.06-.94 2.06-2.06.94z\"/><path d=\"M17.41 7.96l-1.37-1.37c-.4-.4-.92-.59-1.43-.59-.52 0-1.04.2-1.43.59L10.3 9.45l-7.72 7.72c-.78.78-.78 2.05 0 2.83L4 21.41c.39.39.9.59 1.41.59.51 0 1.02-.2 1.41-.59l7.78-7.78 2.81-2.81c.8-.78.8-2.07 0-2.86zM5.41 20L4 18.59l7.72-7.72 1.47 1.35L5.41 20z\"/>\n",
              "  </svg>\n",
              "      </button>\n",
              "      \n",
              "  <style>\n",
              "    .colab-df-container {\n",
              "      display:flex;\n",
              "      flex-wrap:wrap;\n",
              "      gap: 12px;\n",
              "    }\n",
              "\n",
              "    .colab-df-convert {\n",
              "      background-color: #E8F0FE;\n",
              "      border: none;\n",
              "      border-radius: 50%;\n",
              "      cursor: pointer;\n",
              "      display: none;\n",
              "      fill: #1967D2;\n",
              "      height: 32px;\n",
              "      padding: 0 0 0 0;\n",
              "      width: 32px;\n",
              "    }\n",
              "\n",
              "    .colab-df-convert:hover {\n",
              "      background-color: #E2EBFA;\n",
              "      box-shadow: 0px 1px 2px rgba(60, 64, 67, 0.3), 0px 1px 3px 1px rgba(60, 64, 67, 0.15);\n",
              "      fill: #174EA6;\n",
              "    }\n",
              "\n",
              "    [theme=dark] .colab-df-convert {\n",
              "      background-color: #3B4455;\n",
              "      fill: #D2E3FC;\n",
              "    }\n",
              "\n",
              "    [theme=dark] .colab-df-convert:hover {\n",
              "      background-color: #434B5C;\n",
              "      box-shadow: 0px 1px 3px 1px rgba(0, 0, 0, 0.15);\n",
              "      filter: drop-shadow(0px 1px 2px rgba(0, 0, 0, 0.3));\n",
              "      fill: #FFFFFF;\n",
              "    }\n",
              "  </style>\n",
              "\n",
              "      <script>\n",
              "        const buttonEl =\n",
              "          document.querySelector('#df-076c3250-613b-4925-af13-a4b56fb51928 button.colab-df-convert');\n",
              "        buttonEl.style.display =\n",
              "          google.colab.kernel.accessAllowed ? 'block' : 'none';\n",
              "\n",
              "        async function convertToInteractive(key) {\n",
              "          const element = document.querySelector('#df-076c3250-613b-4925-af13-a4b56fb51928');\n",
              "          const dataTable =\n",
              "            await google.colab.kernel.invokeFunction('convertToInteractive',\n",
              "                                                     [key], {});\n",
              "          if (!dataTable) return;\n",
              "\n",
              "          const docLinkHtml = 'Like what you see? Visit the ' +\n",
              "            '<a target=\"_blank\" href=https://colab.research.google.com/notebooks/data_table.ipynb>data table notebook</a>'\n",
              "            + ' to learn more about interactive tables.';\n",
              "          element.innerHTML = '';\n",
              "          dataTable['output_type'] = 'display_data';\n",
              "          await google.colab.output.renderOutput(dataTable, element);\n",
              "          const docLink = document.createElement('div');\n",
              "          docLink.innerHTML = docLinkHtml;\n",
              "          element.appendChild(docLink);\n",
              "        }\n",
              "      </script>\n",
              "    </div>\n",
              "  </div>\n",
              "  "
            ],
            "text/plain": [
              "    id  qid1  qid2                                          question1  \\\n",
              "0    0     1     2  What is the step by step guide to invest in sh...   \n",
              "1    1     3     4  What is the story of Kohinoor (Koh-i-Noor) Dia...   \n",
              "2    2     5     6  How can I increase the speed of my internet co...   \n",
              "3    3     7     8  Why am I mentally very lonely? How can I solve...   \n",
              "4    4     9    10  Which one dissolve in water quikly sugar, salt...   \n",
              "5    5    11    12  Astrology: I am a Capricorn Sun Cap moon and c...   \n",
              "6    6    13    14                                Should I buy tiago?   \n",
              "7    7    15    16                     How can I be a good geologist?   \n",
              "8    8    17    18                    When do you use シ instead of し?   \n",
              "9    9    19    20  Motorola (company): Can I hack my Charter Moto...   \n",
              "10  10    21    22  Method to find separation of slits using fresn...   \n",
              "11  11    23    24        How do I read and find my YouTube comments?   \n",
              "12  12    25    26               What can make Physics easy to learn?   \n",
              "13  13    27    28        What was your first sexual experience like?   \n",
              "14  14    29    30  What are the laws to change your status from a...   \n",
              "15  15    31    32  What would a Trump presidency mean for current...   \n",
              "16  16    33    34                       What does manipulation mean?   \n",
              "17  17    35    36  Why do girls want to be friends with the guy t...   \n",
              "18  18    37    38  Why are so many Quora users posting questions ...   \n",
              "19  19    39    40  Which is the best digital marketing institutio...   \n",
              "\n",
              "                                            question2  is_duplicate  \n",
              "0   What is the step by step guide to invest in sh...             0  \n",
              "1   What would happen if the Indian government sto...             0  \n",
              "2   How can Internet speed be increased by hacking...             0  \n",
              "3   Find the remainder when [math]23^{24}[/math] i...             0  \n",
              "4             Which fish would survive in salt water?             0  \n",
              "5   I'm a triple Capricorn (Sun, Moon and ascendan...             1  \n",
              "6   What keeps childern active and far from phone ...             0  \n",
              "7           What should I do to be a great geologist?             1  \n",
              "8               When do you use \"&\" instead of \"and\"?             0  \n",
              "9   How do I hack Motorola DCX3400 for free internet?             0  \n",
              "10  What are some of the things technicians can te...             0  \n",
              "11             How can I see all my Youtube comments?             1  \n",
              "12            How can you make physics easy to learn?             1  \n",
              "13             What was your first sexual experience?             1  \n",
              "14  What are the laws to change your status from a...             0  \n",
              "15  How will a Trump presidency affect the student...             1  \n",
              "16                      What does manipulation means?             1  \n",
              "17           How do guys feel after rejecting a girl?             0  \n",
              "18  Why do people ask Quora questions which can be...             1  \n",
              "19  Which is the best digital marketing institute ...             0  "
            ]
          },
          "execution_count": 3,
          "metadata": {},
          "output_type": "execute_result"
        }
      ],
      "source": [
        "df.head(20)"
      ]
    },
    {
      "cell_type": "code",
      "execution_count": null,
      "metadata": {
        "colab": {
          "base_uri": "https://localhost:8080/",
          "height": 300
        },
        "id": "87CeSCvoHvh3",
        "outputId": "28ed0d1b-8987-456e-b238-0b02425964d7"
      },
      "outputs": [
        {
          "data": {
            "text/html": [
              "\n",
              "  <div id=\"df-29ad42df-3416-458e-80d0-0b5ff4ef46cb\">\n",
              "    <div class=\"colab-df-container\">\n",
              "      <div>\n",
              "<style scoped>\n",
              "    .dataframe tbody tr th:only-of-type {\n",
              "        vertical-align: middle;\n",
              "    }\n",
              "\n",
              "    .dataframe tbody tr th {\n",
              "        vertical-align: top;\n",
              "    }\n",
              "\n",
              "    .dataframe thead th {\n",
              "        text-align: right;\n",
              "    }\n",
              "</style>\n",
              "<table border=\"1\" class=\"dataframe\">\n",
              "  <thead>\n",
              "    <tr style=\"text-align: right;\">\n",
              "      <th></th>\n",
              "      <th>id</th>\n",
              "      <th>qid1</th>\n",
              "      <th>qid2</th>\n",
              "      <th>is_duplicate</th>\n",
              "    </tr>\n",
              "  </thead>\n",
              "  <tbody>\n",
              "    <tr>\n",
              "      <th>count</th>\n",
              "      <td>404290.000000</td>\n",
              "      <td>404290.000000</td>\n",
              "      <td>404290.000000</td>\n",
              "      <td>404290.000000</td>\n",
              "    </tr>\n",
              "    <tr>\n",
              "      <th>mean</th>\n",
              "      <td>202144.500000</td>\n",
              "      <td>217243.942418</td>\n",
              "      <td>220955.655337</td>\n",
              "      <td>0.369198</td>\n",
              "    </tr>\n",
              "    <tr>\n",
              "      <th>std</th>\n",
              "      <td>116708.614503</td>\n",
              "      <td>157751.700002</td>\n",
              "      <td>159903.182629</td>\n",
              "      <td>0.482588</td>\n",
              "    </tr>\n",
              "    <tr>\n",
              "      <th>min</th>\n",
              "      <td>0.000000</td>\n",
              "      <td>1.000000</td>\n",
              "      <td>2.000000</td>\n",
              "      <td>0.000000</td>\n",
              "    </tr>\n",
              "    <tr>\n",
              "      <th>25%</th>\n",
              "      <td>101072.250000</td>\n",
              "      <td>74437.500000</td>\n",
              "      <td>74727.000000</td>\n",
              "      <td>0.000000</td>\n",
              "    </tr>\n",
              "    <tr>\n",
              "      <th>50%</th>\n",
              "      <td>202144.500000</td>\n",
              "      <td>192182.000000</td>\n",
              "      <td>197052.000000</td>\n",
              "      <td>0.000000</td>\n",
              "    </tr>\n",
              "    <tr>\n",
              "      <th>75%</th>\n",
              "      <td>303216.750000</td>\n",
              "      <td>346573.500000</td>\n",
              "      <td>354692.500000</td>\n",
              "      <td>1.000000</td>\n",
              "    </tr>\n",
              "    <tr>\n",
              "      <th>max</th>\n",
              "      <td>404289.000000</td>\n",
              "      <td>537932.000000</td>\n",
              "      <td>537933.000000</td>\n",
              "      <td>1.000000</td>\n",
              "    </tr>\n",
              "  </tbody>\n",
              "</table>\n",
              "</div>\n",
              "      <button class=\"colab-df-convert\" onclick=\"convertToInteractive('df-29ad42df-3416-458e-80d0-0b5ff4ef46cb')\"\n",
              "              title=\"Convert this dataframe to an interactive table.\"\n",
              "              style=\"display:none;\">\n",
              "        \n",
              "  <svg xmlns=\"http://www.w3.org/2000/svg\" height=\"24px\"viewBox=\"0 0 24 24\"\n",
              "       width=\"24px\">\n",
              "    <path d=\"M0 0h24v24H0V0z\" fill=\"none\"/>\n",
              "    <path d=\"M18.56 5.44l.94 2.06.94-2.06 2.06-.94-2.06-.94-.94-2.06-.94 2.06-2.06.94zm-11 1L8.5 8.5l.94-2.06 2.06-.94-2.06-.94L8.5 2.5l-.94 2.06-2.06.94zm10 10l.94 2.06.94-2.06 2.06-.94-2.06-.94-.94-2.06-.94 2.06-2.06.94z\"/><path d=\"M17.41 7.96l-1.37-1.37c-.4-.4-.92-.59-1.43-.59-.52 0-1.04.2-1.43.59L10.3 9.45l-7.72 7.72c-.78.78-.78 2.05 0 2.83L4 21.41c.39.39.9.59 1.41.59.51 0 1.02-.2 1.41-.59l7.78-7.78 2.81-2.81c.8-.78.8-2.07 0-2.86zM5.41 20L4 18.59l7.72-7.72 1.47 1.35L5.41 20z\"/>\n",
              "  </svg>\n",
              "      </button>\n",
              "      \n",
              "  <style>\n",
              "    .colab-df-container {\n",
              "      display:flex;\n",
              "      flex-wrap:wrap;\n",
              "      gap: 12px;\n",
              "    }\n",
              "\n",
              "    .colab-df-convert {\n",
              "      background-color: #E8F0FE;\n",
              "      border: none;\n",
              "      border-radius: 50%;\n",
              "      cursor: pointer;\n",
              "      display: none;\n",
              "      fill: #1967D2;\n",
              "      height: 32px;\n",
              "      padding: 0 0 0 0;\n",
              "      width: 32px;\n",
              "    }\n",
              "\n",
              "    .colab-df-convert:hover {\n",
              "      background-color: #E2EBFA;\n",
              "      box-shadow: 0px 1px 2px rgba(60, 64, 67, 0.3), 0px 1px 3px 1px rgba(60, 64, 67, 0.15);\n",
              "      fill: #174EA6;\n",
              "    }\n",
              "\n",
              "    [theme=dark] .colab-df-convert {\n",
              "      background-color: #3B4455;\n",
              "      fill: #D2E3FC;\n",
              "    }\n",
              "\n",
              "    [theme=dark] .colab-df-convert:hover {\n",
              "      background-color: #434B5C;\n",
              "      box-shadow: 0px 1px 3px 1px rgba(0, 0, 0, 0.15);\n",
              "      filter: drop-shadow(0px 1px 2px rgba(0, 0, 0, 0.3));\n",
              "      fill: #FFFFFF;\n",
              "    }\n",
              "  </style>\n",
              "\n",
              "      <script>\n",
              "        const buttonEl =\n",
              "          document.querySelector('#df-29ad42df-3416-458e-80d0-0b5ff4ef46cb button.colab-df-convert');\n",
              "        buttonEl.style.display =\n",
              "          google.colab.kernel.accessAllowed ? 'block' : 'none';\n",
              "\n",
              "        async function convertToInteractive(key) {\n",
              "          const element = document.querySelector('#df-29ad42df-3416-458e-80d0-0b5ff4ef46cb');\n",
              "          const dataTable =\n",
              "            await google.colab.kernel.invokeFunction('convertToInteractive',\n",
              "                                                     [key], {});\n",
              "          if (!dataTable) return;\n",
              "\n",
              "          const docLinkHtml = 'Like what you see? Visit the ' +\n",
              "            '<a target=\"_blank\" href=https://colab.research.google.com/notebooks/data_table.ipynb>data table notebook</a>'\n",
              "            + ' to learn more about interactive tables.';\n",
              "          element.innerHTML = '';\n",
              "          dataTable['output_type'] = 'display_data';\n",
              "          await google.colab.output.renderOutput(dataTable, element);\n",
              "          const docLink = document.createElement('div');\n",
              "          docLink.innerHTML = docLinkHtml;\n",
              "          element.appendChild(docLink);\n",
              "        }\n",
              "      </script>\n",
              "    </div>\n",
              "  </div>\n",
              "  "
            ],
            "text/plain": [
              "                  id           qid1           qid2   is_duplicate\n",
              "count  404290.000000  404290.000000  404290.000000  404290.000000\n",
              "mean   202144.500000  217243.942418  220955.655337       0.369198\n",
              "std    116708.614503  157751.700002  159903.182629       0.482588\n",
              "min         0.000000       1.000000       2.000000       0.000000\n",
              "25%    101072.250000   74437.500000   74727.000000       0.000000\n",
              "50%    202144.500000  192182.000000  197052.000000       0.000000\n",
              "75%    303216.750000  346573.500000  354692.500000       1.000000\n",
              "max    404289.000000  537932.000000  537933.000000       1.000000"
            ]
          },
          "execution_count": 4,
          "metadata": {},
          "output_type": "execute_result"
        }
      ],
      "source": [
        "df.describe()"
      ]
    },
    {
      "cell_type": "code",
      "execution_count": null,
      "metadata": {
        "colab": {
          "base_uri": "https://localhost:8080/"
        },
        "id": "pSddVDkcLc21",
        "outputId": "711bf743-24c7-4655-9ce6-78157a8238ae"
      },
      "outputs": [
        {
          "name": "stdout",
          "output_type": "stream",
          "text": [
            "<class 'pandas.core.frame.DataFrame'>\n",
            "RangeIndex: 404290 entries, 0 to 404289\n",
            "Data columns (total 6 columns):\n",
            " #   Column        Non-Null Count   Dtype \n",
            "---  ------        --------------   ----- \n",
            " 0   id            404290 non-null  int64 \n",
            " 1   qid1          404290 non-null  int64 \n",
            " 2   qid2          404290 non-null  int64 \n",
            " 3   question1     404290 non-null  object\n",
            " 4   question2     404290 non-null  object\n",
            " 5   is_duplicate  404290 non-null  int64 \n",
            "dtypes: int64(4), object(2)\n",
            "memory usage: 18.5+ MB\n"
          ]
        }
      ],
      "source": [
        "df.info()"
      ]
    },
    {
      "attachments": {},
      "cell_type": "markdown",
      "metadata": {
        "id": "yv55Kq_MZc0r"
      },
      "source": [
        "# **TF-IDF**"
      ]
    },
    {
      "cell_type": "code",
      "execution_count": null,
      "metadata": {
        "id": "fN02E6nqc3mk"
      },
      "outputs": [],
      "source": [
        "import pandas as pd\n",
        "from sklearn.feature_extraction.text import TfidfVectorizer"
      ]
    },
    {
      "cell_type": "code",
      "execution_count": null,
      "metadata": {
        "id": "KQHLFXRKc-AP"
      },
      "outputs": [],
      "source": [
        "documentA = 'the man went out for a walk'\n",
        "documentB = 'the children sat around the fire'"
      ]
    },
    {
      "cell_type": "code",
      "execution_count": null,
      "metadata": {
        "id": "o81TuzRvdBic"
      },
      "outputs": [],
      "source": [
        "vectorizer = TfidfVectorizer()\n",
        "vectors = vectorizer.fit_transform([documentA, documentB])\n",
        "feature_names = vectorizer.get_feature_names()\n",
        "dense = vectors.todense()\n",
        "denselist = dense.tolist()\n",
        "df7 = pd.DataFrame(denselist, columns=feature_names)"
      ]
    },
    {
      "cell_type": "code",
      "execution_count": null,
      "metadata": {
        "colab": {
          "base_uri": "https://localhost:8080/"
        },
        "id": "AO5H7G3gixb2",
        "outputId": "536c84a6-a65f-4734-8769-a26151d17eb1"
      },
      "outputs": [
        {
          "name": "stdout",
          "output_type": "stream",
          "text": [
            "     around  children      fire      for      man      out       sat  \\\n",
            "0  0.000000  0.000000  0.000000  0.42616  0.42616  0.42616  0.000000   \n",
            "1  0.407401  0.407401  0.407401  0.00000  0.00000  0.00000  0.407401   \n",
            "\n",
            "        the     walk     went  \n",
            "0  0.303216  0.42616  0.42616  \n",
            "1  0.579739  0.00000  0.00000  \n"
          ]
        }
      ],
      "source": [
        "print(df7.head())"
      ]
    },
    {
      "cell_type": "code",
      "execution_count": null,
      "metadata": {
        "colab": {
          "base_uri": "https://localhost:8080/"
        },
        "id": "IJvrOFHudGa7",
        "outputId": "663a344f-f56b-4e06-891a-25f26daa6e5d"
      },
      "outputs": [
        {
          "name": "stdout",
          "output_type": "stream",
          "text": [
            "  (0, 8)\t0.42615959880289433\n",
            "  (0, 3)\t0.42615959880289433\n",
            "  (0, 5)\t0.42615959880289433\n",
            "  (0, 9)\t0.42615959880289433\n",
            "  (0, 4)\t0.42615959880289433\n",
            "  (0, 7)\t0.3032160644503863\n",
            "  (1, 2)\t0.40740123733358447\n",
            "  (1, 0)\t0.40740123733358447\n",
            "  (1, 6)\t0.40740123733358447\n",
            "  (1, 1)\t0.40740123733358447\n",
            "  (1, 7)\t0.5797386715376657\n"
          ]
        }
      ],
      "source": [
        "print(vectors)"
      ]
    },
    {
      "cell_type": "code",
      "execution_count": null,
      "metadata": {
        "colab": {
          "base_uri": "https://localhost:8080/"
        },
        "id": "c0oW468eekRZ",
        "outputId": "6943431d-87f4-4d46-a773-d57672b10c04"
      },
      "outputs": [
        {
          "name": "stdout",
          "output_type": "stream",
          "text": [
            "['around', 'children', 'fire', 'for', 'man', 'out', 'sat', 'the', 'walk', 'went']\n"
          ]
        }
      ],
      "source": [
        "print(feature_names)"
      ]
    },
    {
      "cell_type": "code",
      "execution_count": null,
      "metadata": {
        "colab": {
          "base_uri": "https://localhost:8080/"
        },
        "id": "U9ELMlIVy0Qx",
        "outputId": "12d57abd-56f6-428d-d06a-35dc50a44513"
      },
      "outputs": [
        {
          "data": {
            "text/plain": [
              "0         What is the step by step guide to invest in sh...\n",
              "1         What is the story of Kohinoor (Koh-i-Noor) Dia...\n",
              "2         How can I increase the speed of my internet co...\n",
              "3         Why am I mentally very lonely? How can I solve...\n",
              "4         Which one dissolve in water quikly sugar, salt...\n",
              "                                ...                        \n",
              "404285    How many keywords are there in the Racket prog...\n",
              "404286            Do you believe there is life after death?\n",
              "404287                                    What is one coin?\n",
              "404288    What is the approx annual cost of living while...\n",
              "404289                What is like to have sex with cousin?\n",
              "Name: question1, Length: 404290, dtype: object"
            ]
          },
          "execution_count": 12,
          "metadata": {},
          "output_type": "execute_result"
        }
      ],
      "source": [
        "df['question1']"
      ]
    },
    {
      "cell_type": "code",
      "execution_count": null,
      "metadata": {
        "id": "h5qJjEENgfa_"
      },
      "outputs": [],
      "source": [
        "from sklearn.feature_extraction.text import TfidfVectorizer\n",
        "from sklearn.feature_extraction.text import CountVectorizer\n",
        "# merge texts\n",
        "question = list(df['question1']) + list(df['question2'])\n",
        "\n",
        "questions = [ques for ques in question if ques not in STOP_WORDS]\n",
        "\n",
        "tfidf = TfidfVectorizer(lowercase=False, )\n",
        "x=tfidf.fit_transform(questions)\n",
        "\n",
        "# dict key:word and value:tf-idf score\n",
        "word2tfidf = dict(zip(tfidf.get_feature_names(), tfidf.idf_))"
      ]
    },
    {
      "cell_type": "code",
      "execution_count": null,
      "metadata": {
        "colab": {
          "base_uri": "https://localhost:8080/"
        },
        "id": "EV8nkhVEgpqJ",
        "outputId": "67247293-19df-44cb-c113-8d0f63bcbe6b"
      },
      "outputs": [
        {
          "name": "stdout",
          "output_type": "stream",
          "text": [
            "  (0, 77824)\t0.28810089872803335\n",
            "  (0, 83151)\t0.27283405422911383\n",
            "  (0, 97832)\t0.2994105898351769\n",
            "  (0, 77574)\t0.20122105586038397\n",
            "  (0, 78968)\t0.2870081522008514\n",
            "  (0, 103601)\t0.09954570141748624\n",
            "  (0, 74674)\t0.3612041095478802\n",
            "  (0, 60060)\t0.19437825565580152\n",
            "  (0, 100415)\t0.6561773827369753\n",
            "  (0, 103025)\t0.07891022032825844\n",
            "  (0, 79172)\t0.0938889428826086\n",
            "  (0, 51739)\t0.07923245022121653\n",
            "  (1, 16010)\t0.44275849179086657\n",
            "  (1, 34922)\t0.497188073608617\n",
            "  (1, 27864)\t0.4741291764130098\n",
            "  (1, 27867)\t0.4632308754936714\n",
            "  (1, 87457)\t0.10928916808876182\n",
            "  (1, 100638)\t0.2895425035439381\n",
            "  (1, 103025)\t0.07944306353728867\n",
            "  (1, 79172)\t0.09452293028512647\n",
            "  (1, 51739)\t0.07976746929554651\n",
            "  (2, 50118)\t0.44691071060685306\n",
            "  (2, 106157)\t0.29128739079040816\n",
            "  (2, 107880)\t0.30756056894249173\n",
            "  (2, 63504)\t0.42337596422607426\n",
            "  :\t:\n",
            "  (808573, 92091)\t0.21004595937718346\n",
            "  (808573, 59992)\t0.16564744818997473\n",
            "  (808573, 91680)\t0.23467372994318145\n",
            "  (808573, 74907)\t0.19931796385379638\n",
            "  (808573, 92159)\t0.21971930475701362\n",
            "  (808573, 88210)\t0.16494341012992808\n",
            "  (808573, 98143)\t0.1288155192837029\n",
            "  (808573, 107340)\t0.16575801122551972\n",
            "  (808573, 106129)\t0.15684215061459425\n",
            "  (808573, 55267)\t0.08757663059083842\n",
            "  (808573, 87678)\t0.1443491816563776\n",
            "  (808573, 51791)\t0.12372454787590947\n",
            "  (808573, 54965)\t0.16092147100181442\n",
            "  (808573, 87457)\t0.08217769098811292\n",
            "  (808573, 103601)\t0.07535673140732493\n",
            "  (808574, 64377)\t0.6393875191112658\n",
            "  (808574, 97715)\t0.3950719764219939\n",
            "  (808574, 75316)\t0.26969652836930014\n",
            "  (808574, 108190)\t0.26920451973270826\n",
            "  (808574, 81681)\t0.29614613433868114\n",
            "  (808574, 108896)\t0.2795451101569493\n",
            "  (808574, 79291)\t0.23462341982393398\n",
            "  (808574, 103601)\t0.16536821412718128\n",
            "  (808574, 79172)\t0.15597104234235237\n",
            "  (808574, 51739)\t0.13162325050131968\n"
          ]
        }
      ],
      "source": [
        "print(x) # first id , feautre_names no. , tfidf score"
      ]
    },
    {
      "cell_type": "code",
      "execution_count": null,
      "metadata": {
        "colab": {
          "base_uri": "https://localhost:8080/"
        },
        "id": "o7Iza3WNgsaK",
        "outputId": "4bd1b24d-db97-4fba-e5bd-b131323c9181"
      },
      "outputs": [
        {
          "data": {
            "text/plain": [
              "array([10.04915306,  7.30458485, 13.90988277, ..., 13.50441767,\n",
              "       13.50441767, 13.50441767])"
            ]
          },
          "execution_count": 15,
          "metadata": {},
          "output_type": "execute_result"
        }
      ],
      "source": [
        "tfidf.idf_"
      ]
    },
    {
      "cell_type": "code",
      "execution_count": null,
      "metadata": {
        "colab": {
          "base_uri": "https://localhost:8080/"
        },
        "id": "cEu6IGXbguXS",
        "outputId": "53c1dcde-175e-4c34-f137-0e83ba6c2def"
      },
      "outputs": [
        {
          "data": {
            "text/plain": [
              "['BookRenter',\n",
              " 'BookSellBuy',\n",
              " 'Booker',\n",
              " 'Booking',\n",
              " 'BookinginBit',\n",
              " 'Bookit',\n",
              " 'Booklet',\n",
              " 'Bookmarked',\n",
              " 'Bookmarks',\n",
              " 'Bookmyoffer',\n",
              " 'Books',\n",
              " 'Bookshelf',\n",
              " 'Bookshelves',\n",
              " 'Booktract',\n",
              " 'Bool',\n",
              " 'Boolean',\n",
              " 'Boom',\n",
              " 'Boomer',\n",
              " 'Boomerang',\n",
              " 'Boomers']"
            ]
          },
          "execution_count": 16,
          "metadata": {},
          "output_type": "execute_result"
        }
      ],
      "source": [
        "abf = tfidf.get_feature_names()\n",
        "abf[10000:10020]"
      ]
    },
    {
      "cell_type": "code",
      "execution_count": null,
      "metadata": {
        "colab": {
          "base_uri": "https://localhost:8080/"
        },
        "id": "FfSRhbBcgwJ-",
        "outputId": "2099cea8-c110-4e71-c295-d9f4ec4e4eb8"
      },
      "outputs": [
        {
          "data": {
            "text/plain": [
              "4.767607133196319"
            ]
          },
          "execution_count": 17,
          "metadata": {},
          "output_type": "execute_result"
        }
      ],
      "source": [
        "word2tfidf['what']"
      ]
    },
    {
      "cell_type": "code",
      "execution_count": null,
      "metadata": {
        "colab": {
          "base_uri": "https://localhost:8080/"
        },
        "id": "OHhcL0ryxiAz",
        "outputId": "fe59d298-522c-4b0d-bf63-3d84534d0b73"
      },
      "outputs": [
        {
          "data": {
            "text/plain": [
              "True"
            ]
          },
          "execution_count": 18,
          "metadata": {},
          "output_type": "execute_result"
        }
      ],
      "source": [
        "len(abf)==len(word2tfidf)"
      ]
    },
    {
      "cell_type": "code",
      "execution_count": null,
      "metadata": {
        "colab": {
          "base_uri": "https://localhost:8080/"
        },
        "id": "0f89m3fggx4L",
        "outputId": "79d0566f-d545-4425-c635-f01876bfd355"
      },
      "outputs": [
        {
          "name": "stdout",
          "output_type": "stream",
          "text": [
            "['the', 'man', 'went', 'out', 'for', 'a', 'walk']\n",
            "['man', 'went', 'walk']\n"
          ]
        }
      ],
      "source": [
        "d = documentA.split(' ')\n",
        "print(d)\n",
        "\n",
        "l = [word for word in d if word not in STOP_WORDS]\n",
        "print(l)"
      ]
    },
    {
      "cell_type": "code",
      "execution_count": null,
      "metadata": {
        "colab": {
          "base_uri": "https://localhost:8080/"
        },
        "id": "hX5g3Pzau8EL",
        "outputId": "18b0ec72-9fc3-48a0-9946-c7c82c51e4f1"
      },
      "outputs": [
        {
          "name": "stdout",
          "output_type": "stream",
          "text": [
            "man=6.6814943226847685\n",
            "went=8.40455123832601\n",
            "walk=8.692233310777791\n"
          ]
        }
      ],
      "source": [
        "for i in l:\n",
        "  print(\"{0}={1}\".format(i,word2tfidf[i]))"
      ]
    },
    {
      "attachments": {},
      "cell_type": "markdown",
      "metadata": {
        "id": "c30UOgyK8nsc"
      },
      "source": [
        "## Xgboost"
      ]
    },
    {
      "cell_type": "code",
      "execution_count": null,
      "metadata": {
        "id": "AV0ULCOdq-YS"
      },
      "outputs": [],
      "source": [
        "tfidf_vect = TfidfVectorizer(analyzer='word', token_pattern=r'\\w{1,}', max_features=5000)\n",
        "tfidf_vect.fit(pd.concat((df['question1'],df['question2'])).unique())\n",
        "trainq1_trans = tfidf_vect.transform(df['question1'].values)\n",
        "trainq2_trans = tfidf_vect.transform(df['question2'].values)\n",
        "labels = df['is_duplicate'].values\n",
        "X = scipy.sparse.hstack((trainq1_trans,trainq2_trans))\n",
        "y = labels\n",
        "X_train,X_valid,y_train,y_valid = train_test_split(X,y, test_size = 0.33, random_state = 42)\n",
        "\n",
        "xgb_model = xgb.XGBClassifier(n_estimators=150,random_state=42, learning_rate=0.1, colsample_bytree=.7, gamma=0, reg_alpha=4, objective='binary:logistic', eta=0.3, silent=1, subsample=0.8).fit(X_train, y_train) \n",
        "xgb_prediction = xgb_model.predict(X_valid)"
      ]
    },
    {
      "cell_type": "code",
      "execution_count": null,
      "metadata": {
        "colab": {
          "base_uri": "https://localhost:8080/"
        },
        "id": "fVdKX4Zrd9M5",
        "outputId": "c4159c3d-aafe-459f-a077-74bc876ad798"
      },
      "outputs": [
        {
          "name": "stdout",
          "output_type": "stream",
          "text": [
            "0.6904419260058764\n",
            "              precision    recall  f1-score   support\n",
            "\n",
            "           0       0.68      0.95      0.79     83975\n",
            "           1       0.75      0.24      0.37     49441\n",
            "\n",
            "    accuracy                           0.69    133416\n",
            "   macro avg       0.72      0.60      0.58    133416\n",
            "weighted avg       0.71      0.69      0.64    133416\n",
            "\n"
          ]
        }
      ],
      "source": [
        "from sklearn.metrics import f1_score, classification_report, accuracy_score\n",
        "print(accuracy_score(y_valid,xgb_prediction))\n",
        "print(classification_report(y_valid, xgb_prediction))"
      ]
    },
    {
      "cell_type": "code",
      "execution_count": null,
      "metadata": {
        "id": "Qz0mIZq4kb2W"
      },
      "outputs": [],
      "source": [
        "import pickle\n",
        "filename = 'finalized_model1.sav'\n",
        "pickle.dump(xgb_model, open(filename, 'wb'))"
      ]
    },
    {
      "cell_type": "code",
      "execution_count": null,
      "metadata": {
        "colab": {
          "base_uri": "https://localhost:8080/"
        },
        "id": "rgna8R5OGjH_",
        "outputId": "158602d0-7637-4c41-ca26-8e10681c24d6"
      },
      "outputs": [
        {
          "data": {
            "text/plain": [
              "(133416, 5000)"
            ]
          },
          "execution_count": 61,
          "metadata": {},
          "output_type": "execute_result"
        }
      ],
      "source": [
        "X_valid.shape"
      ]
    },
    {
      "cell_type": "code",
      "execution_count": null,
      "metadata": {
        "colab": {
          "base_uri": "https://localhost:8080/"
        },
        "id": "S-QEzivOHfuY",
        "outputId": "7131d3bf-d5c4-4051-cba9-25c7b50c567d"
      },
      "outputs": [
        {
          "name": "stdout",
          "output_type": "stream",
          "text": [
            "(1, 5000)\n"
          ]
        }
      ],
      "source": [
        "print(X_valid[0].shape)"
      ]
    },
    {
      "cell_type": "code",
      "execution_count": null,
      "metadata": {
        "colab": {
          "base_uri": "https://localhost:8080/",
          "height": 398
        },
        "id": "1LI2QGJRe_AS",
        "outputId": "21451c95-553e-460f-f1c6-2a552e0525af"
      },
      "outputs": [
        {
          "ename": "TypeError",
          "evalue": "ignored",
          "output_type": "error",
          "traceback": [
            "\u001b[0;31m---------------------------------------------------------------------------\u001b[0m",
            "\u001b[0;31mTypeError\u001b[0m                                 Traceback (most recent call last)",
            "\u001b[0;32m<ipython-input-26-d1041d7e011b>\u001b[0m in \u001b[0;36m<module>\u001b[0;34m\u001b[0m\n\u001b[1;32m      1\u001b[0m \u001b[0mfilename\u001b[0m \u001b[0;34m=\u001b[0m \u001b[0;34m'finalized_model1.sav'\u001b[0m\u001b[0;34m\u001b[0m\u001b[0;34m\u001b[0m\u001b[0m\n\u001b[1;32m      2\u001b[0m \u001b[0;31m# test=X_valid[105000]\u001b[0m\u001b[0;34m\u001b[0m\u001b[0;34m\u001b[0m\u001b[0;34m\u001b[0m\u001b[0m\n\u001b[0;32m----> 3\u001b[0;31m \u001b[0mresult\u001b[0m\u001b[0;34m=\u001b[0m\u001b[0mloaded_model\u001b[0m\u001b[0;34m.\u001b[0m\u001b[0mpredict\u001b[0m\u001b[0;34m(\u001b[0m\u001b[0mtest\u001b[0m\u001b[0;34m)\u001b[0m\u001b[0;34m[\u001b[0m\u001b[0;36m0\u001b[0m\u001b[0;34m]\u001b[0m\u001b[0;34m\u001b[0m\u001b[0;34m\u001b[0m\u001b[0m\n\u001b[0m\u001b[1;32m      4\u001b[0m \u001b[0mprint\u001b[0m\u001b[0;34m(\u001b[0m\u001b[0mresult\u001b[0m\u001b[0;34m)\u001b[0m\u001b[0;34m\u001b[0m\u001b[0;34m\u001b[0m\u001b[0m\n",
            "\u001b[0;32m/usr/local/lib/python3.7/dist-packages/sklearn/ensemble/_forest.py\u001b[0m in \u001b[0;36mpredict\u001b[0;34m(self, X)\u001b[0m\n\u001b[1;32m    806\u001b[0m             \u001b[0mThe\u001b[0m \u001b[0mpredicted\u001b[0m \u001b[0mclasses\u001b[0m\u001b[0;34m.\u001b[0m\u001b[0;34m\u001b[0m\u001b[0;34m\u001b[0m\u001b[0m\n\u001b[1;32m    807\u001b[0m         \"\"\"\n\u001b[0;32m--> 808\u001b[0;31m         \u001b[0mproba\u001b[0m \u001b[0;34m=\u001b[0m \u001b[0mself\u001b[0m\u001b[0;34m.\u001b[0m\u001b[0mpredict_proba\u001b[0m\u001b[0;34m(\u001b[0m\u001b[0mX\u001b[0m\u001b[0;34m)\u001b[0m\u001b[0;34m\u001b[0m\u001b[0;34m\u001b[0m\u001b[0m\n\u001b[0m\u001b[1;32m    809\u001b[0m \u001b[0;34m\u001b[0m\u001b[0m\n\u001b[1;32m    810\u001b[0m         \u001b[0;32mif\u001b[0m \u001b[0mself\u001b[0m\u001b[0;34m.\u001b[0m\u001b[0mn_outputs_\u001b[0m \u001b[0;34m==\u001b[0m \u001b[0;36m1\u001b[0m\u001b[0;34m:\u001b[0m\u001b[0;34m\u001b[0m\u001b[0;34m\u001b[0m\u001b[0m\n",
            "\u001b[0;32m/usr/local/lib/python3.7/dist-packages/sklearn/ensemble/_forest.py\u001b[0m in \u001b[0;36mpredict_proba\u001b[0;34m(self, X)\u001b[0m\n\u001b[1;32m    848\u001b[0m         \u001b[0mcheck_is_fitted\u001b[0m\u001b[0;34m(\u001b[0m\u001b[0mself\u001b[0m\u001b[0;34m)\u001b[0m\u001b[0;34m\u001b[0m\u001b[0;34m\u001b[0m\u001b[0m\n\u001b[1;32m    849\u001b[0m         \u001b[0;31m# Check data\u001b[0m\u001b[0;34m\u001b[0m\u001b[0;34m\u001b[0m\u001b[0;34m\u001b[0m\u001b[0m\n\u001b[0;32m--> 850\u001b[0;31m         \u001b[0mX\u001b[0m \u001b[0;34m=\u001b[0m \u001b[0mself\u001b[0m\u001b[0;34m.\u001b[0m\u001b[0m_validate_X_predict\u001b[0m\u001b[0;34m(\u001b[0m\u001b[0mX\u001b[0m\u001b[0;34m)\u001b[0m\u001b[0;34m\u001b[0m\u001b[0;34m\u001b[0m\u001b[0m\n\u001b[0m\u001b[1;32m    851\u001b[0m \u001b[0;34m\u001b[0m\u001b[0m\n\u001b[1;32m    852\u001b[0m         \u001b[0;31m# Assign chunk of trees to jobs\u001b[0m\u001b[0;34m\u001b[0m\u001b[0;34m\u001b[0m\u001b[0;34m\u001b[0m\u001b[0m\n",
            "\u001b[0;32m/usr/local/lib/python3.7/dist-packages/sklearn/ensemble/_forest.py\u001b[0m in \u001b[0;36m_validate_X_predict\u001b[0;34m(self, X)\u001b[0m\n\u001b[1;32m    577\u001b[0m         Validate X whenever one tries to predict, apply, predict_proba.\"\"\"\n\u001b[1;32m    578\u001b[0m         \u001b[0mcheck_is_fitted\u001b[0m\u001b[0;34m(\u001b[0m\u001b[0mself\u001b[0m\u001b[0;34m)\u001b[0m\u001b[0;34m\u001b[0m\u001b[0;34m\u001b[0m\u001b[0m\n\u001b[0;32m--> 579\u001b[0;31m         \u001b[0mX\u001b[0m \u001b[0;34m=\u001b[0m \u001b[0mself\u001b[0m\u001b[0;34m.\u001b[0m\u001b[0m_validate_data\u001b[0m\u001b[0;34m(\u001b[0m\u001b[0mX\u001b[0m\u001b[0;34m,\u001b[0m \u001b[0mdtype\u001b[0m\u001b[0;34m=\u001b[0m\u001b[0mDTYPE\u001b[0m\u001b[0;34m,\u001b[0m \u001b[0maccept_sparse\u001b[0m\u001b[0;34m=\u001b[0m\u001b[0;34m\"csr\"\u001b[0m\u001b[0;34m,\u001b[0m \u001b[0mreset\u001b[0m\u001b[0;34m=\u001b[0m\u001b[0;32mFalse\u001b[0m\u001b[0;34m)\u001b[0m\u001b[0;34m\u001b[0m\u001b[0;34m\u001b[0m\u001b[0m\n\u001b[0m\u001b[1;32m    580\u001b[0m         \u001b[0;32mif\u001b[0m \u001b[0missparse\u001b[0m\u001b[0;34m(\u001b[0m\u001b[0mX\u001b[0m\u001b[0;34m)\u001b[0m \u001b[0;32mand\u001b[0m \u001b[0;34m(\u001b[0m\u001b[0mX\u001b[0m\u001b[0;34m.\u001b[0m\u001b[0mindices\u001b[0m\u001b[0;34m.\u001b[0m\u001b[0mdtype\u001b[0m \u001b[0;34m!=\u001b[0m \u001b[0mnp\u001b[0m\u001b[0;34m.\u001b[0m\u001b[0mintc\u001b[0m \u001b[0;32mor\u001b[0m \u001b[0mX\u001b[0m\u001b[0;34m.\u001b[0m\u001b[0mindptr\u001b[0m\u001b[0;34m.\u001b[0m\u001b[0mdtype\u001b[0m \u001b[0;34m!=\u001b[0m \u001b[0mnp\u001b[0m\u001b[0;34m.\u001b[0m\u001b[0mintc\u001b[0m\u001b[0;34m)\u001b[0m\u001b[0;34m:\u001b[0m\u001b[0;34m\u001b[0m\u001b[0;34m\u001b[0m\u001b[0m\n\u001b[1;32m    581\u001b[0m             \u001b[0;32mraise\u001b[0m \u001b[0mValueError\u001b[0m\u001b[0;34m(\u001b[0m\u001b[0;34m\"No support for np.int64 index based sparse matrices\"\u001b[0m\u001b[0;34m)\u001b[0m\u001b[0;34m\u001b[0m\u001b[0;34m\u001b[0m\u001b[0m\n",
            "\u001b[0;32m/usr/local/lib/python3.7/dist-packages/sklearn/base.py\u001b[0m in \u001b[0;36m_validate_data\u001b[0;34m(self, X, y, reset, validate_separately, **check_params)\u001b[0m\n\u001b[1;32m    564\u001b[0m             \u001b[0;32mraise\u001b[0m \u001b[0mValueError\u001b[0m\u001b[0;34m(\u001b[0m\u001b[0;34m\"Validation should be done on X, y or both.\"\u001b[0m\u001b[0;34m)\u001b[0m\u001b[0;34m\u001b[0m\u001b[0;34m\u001b[0m\u001b[0m\n\u001b[1;32m    565\u001b[0m         \u001b[0;32melif\u001b[0m \u001b[0;32mnot\u001b[0m \u001b[0mno_val_X\u001b[0m \u001b[0;32mand\u001b[0m \u001b[0mno_val_y\u001b[0m\u001b[0;34m:\u001b[0m\u001b[0;34m\u001b[0m\u001b[0;34m\u001b[0m\u001b[0m\n\u001b[0;32m--> 566\u001b[0;31m             \u001b[0mX\u001b[0m \u001b[0;34m=\u001b[0m \u001b[0mcheck_array\u001b[0m\u001b[0;34m(\u001b[0m\u001b[0mX\u001b[0m\u001b[0;34m,\u001b[0m \u001b[0;34m**\u001b[0m\u001b[0mcheck_params\u001b[0m\u001b[0;34m)\u001b[0m\u001b[0;34m\u001b[0m\u001b[0;34m\u001b[0m\u001b[0m\n\u001b[0m\u001b[1;32m    567\u001b[0m             \u001b[0mout\u001b[0m \u001b[0;34m=\u001b[0m \u001b[0mX\u001b[0m\u001b[0;34m\u001b[0m\u001b[0;34m\u001b[0m\u001b[0m\n\u001b[1;32m    568\u001b[0m         \u001b[0;32melif\u001b[0m \u001b[0mno_val_X\u001b[0m \u001b[0;32mand\u001b[0m \u001b[0;32mnot\u001b[0m \u001b[0mno_val_y\u001b[0m\u001b[0;34m:\u001b[0m\u001b[0;34m\u001b[0m\u001b[0;34m\u001b[0m\u001b[0m\n",
            "\u001b[0;32m/usr/local/lib/python3.7/dist-packages/sklearn/utils/validation.py\u001b[0m in \u001b[0;36mcheck_array\u001b[0;34m(array, accept_sparse, accept_large_sparse, dtype, order, copy, force_all_finite, ensure_2d, allow_nd, ensure_min_samples, ensure_min_features, estimator)\u001b[0m\n\u001b[1;32m    744\u001b[0m                     \u001b[0marray\u001b[0m \u001b[0;34m=\u001b[0m \u001b[0marray\u001b[0m\u001b[0;34m.\u001b[0m\u001b[0mastype\u001b[0m\u001b[0;34m(\u001b[0m\u001b[0mdtype\u001b[0m\u001b[0;34m,\u001b[0m \u001b[0mcasting\u001b[0m\u001b[0;34m=\u001b[0m\u001b[0;34m\"unsafe\"\u001b[0m\u001b[0;34m,\u001b[0m \u001b[0mcopy\u001b[0m\u001b[0;34m=\u001b[0m\u001b[0;32mFalse\u001b[0m\u001b[0;34m)\u001b[0m\u001b[0;34m\u001b[0m\u001b[0;34m\u001b[0m\u001b[0m\n\u001b[1;32m    745\u001b[0m                 \u001b[0;32melse\u001b[0m\u001b[0;34m:\u001b[0m\u001b[0;34m\u001b[0m\u001b[0;34m\u001b[0m\u001b[0m\n\u001b[0;32m--> 746\u001b[0;31m                     \u001b[0marray\u001b[0m \u001b[0;34m=\u001b[0m \u001b[0mnp\u001b[0m\u001b[0;34m.\u001b[0m\u001b[0masarray\u001b[0m\u001b[0;34m(\u001b[0m\u001b[0marray\u001b[0m\u001b[0;34m,\u001b[0m \u001b[0morder\u001b[0m\u001b[0;34m=\u001b[0m\u001b[0morder\u001b[0m\u001b[0;34m,\u001b[0m \u001b[0mdtype\u001b[0m\u001b[0;34m=\u001b[0m\u001b[0mdtype\u001b[0m\u001b[0;34m)\u001b[0m\u001b[0;34m\u001b[0m\u001b[0;34m\u001b[0m\u001b[0m\n\u001b[0m\u001b[1;32m    747\u001b[0m             \u001b[0;32mexcept\u001b[0m \u001b[0mComplexWarning\u001b[0m \u001b[0;32mas\u001b[0m \u001b[0mcomplex_warning\u001b[0m\u001b[0;34m:\u001b[0m\u001b[0;34m\u001b[0m\u001b[0;34m\u001b[0m\u001b[0m\n\u001b[1;32m    748\u001b[0m                 raise ValueError(\n",
            "\u001b[0;31mTypeError\u001b[0m: float() argument must be a string or a number, not 'PytestTester'"
          ]
        }
      ],
      "source": [
        "filename = 'finalized_model1.sav'\n",
        "# test=X_valid[105000]\n",
        "result=loaded_model.predict(test)[0]\n",
        "print(result)"
      ]
    },
    {
      "cell_type": "code",
      "execution_count": null,
      "metadata": {
        "id": "cKB_f7Tvm025"
      },
      "outputs": [],
      "source": [
        "filename = 'finalized_model1.sav'\n",
        "loaded_model = pickle.load(open(filename, 'rb'))\n",
        "result = loaded_model.predict(X_valid)"
      ]
    },
    {
      "cell_type": "code",
      "execution_count": null,
      "metadata": {
        "colab": {
          "base_uri": "https://localhost:8080/"
        },
        "id": "prehj_6yE9Ck",
        "outputId": "82d7ce0c-c966-4b2d-f534-c44395c76a7c"
      },
      "outputs": [
        {
          "data": {
            "text/plain": [
              "TfidfVectorizer(max_features=5000, token_pattern='\\\\w{1,}')"
            ]
          },
          "execution_count": 28,
          "metadata": {},
          "output_type": "execute_result"
        }
      ],
      "source": [
        "tfidf_vect = TfidfVectorizer(analyzer='word', token_pattern=r'\\w{1,}', max_features=5000)\n",
        "tfidf_vect.fit(pd.concat((df['question1'],df['question2'])).unique())"
      ]
    },
    {
      "cell_type": "code",
      "execution_count": null,
      "metadata": {
        "colab": {
          "base_uri": "https://localhost:8080/"
        },
        "id": "ybv55_EsDAmU",
        "outputId": "84c04add-3067-438a-f6a3-e5f564975dcf"
      },
      "outputs": [
        {
          "name": "stdout",
          "output_type": "stream",
          "text": [
            "What is the step by step guide to invest in share market?\n"
          ]
        }
      ],
      "source": [
        "question = list(df['question2']) + list(df['question1']) \n",
        "print(question[0])"
      ]
    },
    {
      "cell_type": "code",
      "execution_count": null,
      "metadata": {
        "colab": {
          "base_uri": "https://localhost:8080/",
          "height": 1000
        },
        "id": "hZd1KOanbjf3",
        "outputId": "758578ea-091d-4227-98ed-7b711e342b42"
      },
      "outputs": [
        {
          "name": "stderr",
          "output_type": "stream",
          "text": [
            "  0%|          | 8/808580 [00:00<5:39:21, 39.71it/s]"
          ]
        },
        {
          "name": "stdout",
          "output_type": "stream",
          "text": [
            "What would happen if the Indian government stole the Kohinoor (Koh-i-Noor) diamond back?\n",
            "How can Internet speed be increased by hacking through DNS?\n",
            "What keeps childern active and far from phone and video games?\n",
            "How do I hack Motorola DCX3400 for free internet?\n",
            "What are some of the things technicians can tell about the durability and reliability of Laptops and its components?\n",
            "How can I see all my Youtube comments?\n"
          ]
        },
        {
          "name": "stderr",
          "output_type": "stream",
          "text": [
            "  0%|          | 27/808580 [00:00<3:00:47, 74.54it/s]"
          ]
        },
        {
          "name": "stdout",
          "output_type": "stream",
          "text": [
            "How can you make physics easy to learn?\n",
            "What was your first sexual experience?\n",
            "How will a Trump presidency affect the students presently in US or planning to study in US?\n",
            "What does manipulation means?\n",
            "Why do people ask Quora questions which can be answered easily by Google?\n",
            "Which is the best digital marketing institute in Pune?\n",
            "Why are rockets and boosters painted white?\n",
            "What can I do to avoid being jealous of someone?\n",
            "Which question should I ask on Quora?\n",
            "What is the web application framework?\n",
            "How do sports contribute to the society?\n",
            "What is best way to ask for money online?\n",
            "What's one thing you do despite knowing better?\n"
          ]
        },
        {
          "name": "stderr",
          "output_type": "stream",
          "text": [
            "  0%|          | 47/808580 [00:00<2:33:28, 87.81it/s]"
          ]
        },
        {
          "name": "stdout",
          "output_type": "stream",
          "text": [
            "How can I keep my nose from getting stuffy at night?\n",
            "What Game of Thrones villain would you most like to be at the mercy of?\n",
            "How is the average speed of gas molecules determined?\n",
            "What is the best travel website?\n",
            "How do I prepare for civil service?\n",
            "Why did aircraft stop using variable-sweep wings, like those on an F-14?\n",
            "Will squats make my legs thicker?\n",
            "When can I expect Cognizant confirmation mail?\n",
            "How can we increase our number of Instagram followers?\n",
            "Does Quora have a character limit for profile descriptions?\n",
            "What are some of the products made from crude oil?\n",
            "How to make friends ?\n",
            "How is career launcher online program for RBI Grade B?\n"
          ]
        },
        {
          "name": "stderr",
          "output_type": "stream",
          "text": [
            "  0%|          | 66/808580 [00:00<2:33:14, 87.93it/s]"
          ]
        },
        {
          "name": "stdout",
          "output_type": "stream",
          "text": [
            "Aerodynamically what happens when propellor rotates?\n",
            "What is the most delicious dish you've ever eaten and why?\n",
            "Why can't I do my homework?\n",
            "What are some of the best rap songs?\n",
            "How do I learn french genders?\n",
            "Is Kickass Torrents trustworthy?\n",
            "How bad is the new book by J.K Rowling?\n",
            "What is the most important book you have ever read?\n",
            "Is it possible to store the energy of lightning?\n",
            "What is performance testing?\n",
            "Are there any people who genuinely enjoy salad with no dressing?\n"
          ]
        },
        {
          "name": "stderr",
          "output_type": "stream",
          "text": [
            "  0%|          | 85/808580 [00:01<2:30:03, 89.80it/s]"
          ]
        },
        {
          "name": "stdout",
          "output_type": "stream",
          "text": [
            "What is narcissistic personality disorder?\n",
            "How can I learn to speak English fluently?\n",
            "What is the quickbooks customer support phone number USA?\n",
            "Is breast cancer preventable?\n",
            "What are some different ways to make money online, excluding selling things?\n",
            "What's the purpose of life? What is life actually about?\n",
            "Why India does not apply the \"Burma-Rohingya model\" to deport illegal Bangladeshis?\n",
            "Why do technical employees despise sales people so much?\n",
            "Can height increase after 25?\n",
            "What's the difference between honest and sincere?\n",
            "Which is the best gaming laptop under Rs 60000?\n",
            "What is your review of The Next Warrior: Proving Grounds - Part 5?\n"
          ]
        },
        {
          "name": "stderr",
          "output_type": "stream",
          "text": [
            "  0%|          | 105/808580 [00:01<2:27:31, 91.34it/s]"
          ]
        },
        {
          "name": "stdout",
          "output_type": "stream",
          "text": [
            "What is the best romantic movie you have ever seen?\n",
            "What causes nightmares that seem real?\n",
            "What are some of the major influences of abstract expressionism?\n",
            "How do 3D printing work?\n",
            "Who are some notable folks who attended Caltech?\n",
            "Will there be a nuclear war between India and Pakistan?\n",
            "How did Ronald Reagan react to 9/11?\n",
            "Which are some of the best fiction novels?\n",
            "Can WhatsApp be hacked?\n",
            "What is the difference between love and pity?\n",
            "How competitive is the hiring process at S & T Bank?\n",
            "Where can I watch sarrainodu with subtitles?\n",
            "Why is the USA the most powerful country of the world?\n",
            "How do you think of Chinese food?\n",
            "Is it worse to take advantage of someone or be materialistic?"
          ]
        },
        {
          "name": "stderr",
          "output_type": "stream",
          "text": [
            "  0%|          | 137/808580 [00:01<1:48:36, 124.06it/s]"
          ]
        },
        {
          "name": "stdout",
          "output_type": "stream",
          "text": [
            "\n",
            "Why do we cry?\n",
            "What are some mind-blowing technologies that exist that most people don't know about?\n",
            "What is the cheapest toothpaste?\n",
            "If every state of the USA declared war against each other, which would win?\n",
            "What mineral can hold the greatest electrical charge?\n",
            "What is the greatest mystery of all time?\n",
            "Why does China support Masood Azhar?\n",
            "What is the meaning of the future?\n",
            "How do I access Google.com from India?\n",
            "Why am I attracted to older men?\n",
            "What is the strongest Kevlar cord?\n",
            "Who are the Rohingya people?\n",
            "What's life after retirement?\n"
          ]
        },
        {
          "name": "stderr",
          "output_type": "stream",
          "text": [
            "  0%|          | 170/808580 [00:01<1:34:28, 142.62it/s]"
          ]
        },
        {
          "name": "stdout",
          "output_type": "stream",
          "text": [
            "What is the standard amount of time off given for an international relocation?\n",
            "How do you stop being afraid of everything?\n",
            "At what age, how, and where did you lose your virginity?\n",
            "How can I forget my wife?\n",
            "How could Snoke be Darth Plagueis if he was killed by Emperor Palpatine?\n",
            "How does Quora look to a moderator?\n",
            "Why is no one answering my questions in Quora?\n",
            "What is the funniest joke of all time?\n",
            "What do Americans think about the United Kingdom?\n",
            "How can I send money from my PayPal account to my Skrill account to withdraw?\n",
            "Which is the Best earphones under Rs 1000?\n",
            "Which is correct: \"speak with\" or \"speak to\"?\n",
            "What is the best field of engineering?\n",
            "Why are there so many Christians in Kerala?\n",
            "How can I speak with more clarity and confidence?\n",
            "What is the best fixed income fund?\n",
            "Who do you regard as the best actor, Robert De Niro or Al Pacino?\n",
            "Why do some people prefer to live with small family?\n",
            "Do animals (besides humans) kiss?\n",
            "How can I view deleted Instagram dms?\n",
            "How do I stop being addicted to someone?\n"
          ]
        },
        {
          "name": "stderr",
          "output_type": "stream",
          "text": [
            "  0%|          | 202/808580 [00:01<1:30:04, 149.56it/s]"
          ]
        },
        {
          "name": "stdout",
          "output_type": "stream",
          "text": [
            "How do startup accelerators give you the funding?\n",
            "What was the significance of the battle of Somme, and how did this battle compare and contrast to the Battle of Riyadh?\n",
            "What happens if eye medicine enters the eye?\n",
            "Who is the father of lord Krishna?\n",
            "What courses must be taken along with CA course?\n",
            "What is it like to work with an executive recruiter?\n",
            "Why do people collect things?\n",
            "Are there any must watch TV shows?\n",
            "How can I become fluent in chinese?\n",
            "What will be the impact of scrapping of ₹500 and ₹1000 rupee notes on the real estate market?\n",
            "What are the reasons that people dislike Hillary Clinton?\n",
            "What is Jack Dorsey like?\n",
            "Why creativity is important?\n",
            "If Hillary Clinton can no longer serve as the Democratic nominee how would her successor be chosen?\n",
            "Himalayan or Duke KTM 200 for touring?\n",
            "Is the neutron star made up of only neutrons?\n"
          ]
        },
        {
          "name": "stderr",
          "output_type": "stream",
          "text": [
            "  0%|          | 237/808580 [00:02<1:23:41, 160.99it/s]"
          ]
        },
        {
          "name": "stdout",
          "output_type": "stream",
          "text": [
            "What is binary options trading?\n",
            "How can I get started to learn information security?\n",
            "Can I earn money on Quora?\n",
            "What's the PUK for TF64SIMC4?\n",
            "How can I find an IT job in Japan?\n",
            "What is the best home wireless network setup and expected speeds?\n",
            "When will the lottery reach the next billion dollar jackpot?\n",
            "Who is the best LoL (League of Legends) champion?\n",
            "How can I book Ronda Rousey to star in an adult movie?\n",
            "Do Trump supporters now expect the president to live up to his promises he so forcefully sold them on?\n",
            "How do I potty train my two-month-old Labrador pup?\n",
            "What's the best way to jump rope?\n",
            "Which test series is the best for GATE computer science stream?\n",
            "What are signs of ultra smart people hiding their intelligence?\n",
            "Who will disrupt Bloomberg?\n",
            "How can I best invest ₹5000 over the next 6 months?\n",
            "How can I accurately diagnose and medicate my mental illness?\n"
          ]
        },
        {
          "name": "stderr",
          "output_type": "stream",
          "text": [
            "  0%|          | 289/808580 [00:02<1:22:30, 163.28it/s]"
          ]
        },
        {
          "name": "stdout",
          "output_type": "stream",
          "text": [
            "Can Narendra Modi become Prime Minister of India in 2019?\n",
            "How do I get reliance digital store franchise?\n",
            "What are some of the best YouTube channels for learning Git?\n",
            "Why don't most of the Hindus eat non-veg?\n",
            "What are the pros and cons of the Common Core Standards Initiative?\n",
            "Where do I publish my paper?\n",
            "What is your creative New Year's resolution for 2017?\n",
            "How do you not get bad dreams?\n",
            "Do squats work for men?\n",
            "Doctors: How do surgeons hold out on surgeries more than 6 hours long? Do they rest during the operation?\n",
            "How can I get free gems Clash of Clans?\n",
            "How do i get traffic for website?\n",
            "How does it feel to see upvotes to your answer on Quora?\n",
            "What are the best female strong characters in films?\n",
            "How do people die?\n",
            "How are cotton clothes made?\n",
            "What does bone marrow taste like?\n",
            "What are the ways to explore world without spending more money?\n",
            "How do I to make money online?\n",
            "Where can I find delicious cupcakes at Gold Coast?\n",
            "How successful was the Delhi's Odd-even plan?\n",
            "Who will win if a war starts between India and Pakistan?\n",
            "How can you reduce your fear of dying?\n"
          ]
        },
        {
          "name": "stderr",
          "output_type": "stream",
          "text": [
            "  0%|          | 325/808580 [00:02<1:19:32, 169.35it/s]"
          ]
        },
        {
          "name": "stdout",
          "output_type": "stream",
          "text": [
            "What do you people think of Mr. Arvind Kejriwal and his AAP?\n",
            "What will be the effect of the ban of the 1000rs and 500rs notes on the stock market?\n",
            "How do concentric and eccentric contraction compare and contrast?\n",
            "Why do people not question \"news\" posts and opinions posted on social media websites?\n",
            "What's are the meaning of life?\n",
            "What are time deposits? Are RD and FD types of time deposits?\n",
            "Why do we need friends?\n",
            "Do we exist?\n",
            "What are the best thriller movie in Hollywood?\n",
            "What are good books to self study calculus?\n",
            "How and why did you break up with your ex?\n",
            "What are some unwritten rules you have for your home?\n",
            "Who were the creators of trigonometry?\n",
            "How should countries prevent war?\n",
            "How can I learn about web design?\n",
            "What will be the implications of banning 500 and 1000 rupees currency notes on Indian economy?\n",
            "What makes understanding death philosophical?\n",
            "Are dogs carnivorous animals?\n",
            "If I turn of my user id off can I text someone that blocked me?\n",
            "What is the most delicious dish you've ever eaten and why?\n",
            "What is journalism?\n"
          ]
        },
        {
          "name": "stderr",
          "output_type": "stream",
          "text": [
            "  0%|          | 359/808580 [00:02<1:21:49, 164.63it/s]"
          ]
        },
        {
          "name": "stdout",
          "output_type": "stream",
          "text": [
            "How can I improve my concentration?\n",
            "What is the biological reason for crying?\n",
            "How does the Earth's core affect its crust?\n",
            "How can I fake my iPhone location without jailbreaking?\n",
            "How did you quit/stop smoking?\n",
            "Which is the best programming language?\n",
            "How do earthquake resistant buildings work?\n",
            "Which are best mobile phones to buy under 15000?\n",
            "How do I start business from nothing?\n",
            "How can I keep my dog from getting fleas?\n",
            "When was the Letter J created?\n",
            "What is the most important book you have ever read?\n",
            "What are the best & iconic movie posters?\n",
            "How racist are you?\n",
            "What's the difference between between and among?\n",
            "What do Canadians call Canada?\n"
          ]
        },
        {
          "name": "stderr",
          "output_type": "stream",
          "text": [
            "  0%|          | 394/808580 [00:03<1:20:10, 167.99it/s]"
          ]
        },
        {
          "name": "stdout",
          "output_type": "stream",
          "text": [
            "How can I write to Narendra Modi?\n",
            "Who is more delusional: Donald Trump or Ted Cruz?\n",
            "What are your theories about Bermuda Triangle?\n",
            "Do girls like black guys with no beard?\n",
            "What should I do to avoid depression and anxiety?\n",
            "How can I maintain my peace of mind?\n",
            "What are the causes and most effective ways to treat or cure migraine headaches?\n",
            "Which are the top firms in Skills assessment industry in India and Globally?\n",
            "Emoticons: What does “:/” mean?\n",
            "What did nicholas piramal do with 17500 cr?\n",
            "Where do scientists work?\n",
            "What is the difference between Chinese and Western style wedding?\n",
            "What is the difference between offshore and onshore?\n",
            "Why do people hate Shahrukh Khan and why do people feel that he is not an Indian?\n",
            "What are the top self help books I should read?\n",
            "What is Evernote used for?\n",
            "How do I start my continuation for the Gift of the Magi?\n",
            "What are some good lyric prank songs to send your best friends?\n",
            "How should I start contributing to open source projects?\n"
          ]
        },
        {
          "name": "stderr",
          "output_type": "stream",
          "text": [
            "  0%|          | 429/808580 [00:03<1:18:52, 170.75it/s]"
          ]
        },
        {
          "name": "stdout",
          "output_type": "stream",
          "text": [
            "If you dream about some kind of harm, will there be injuries in real life?\n",
            "Do cricketers actually drink tea during tea break?\n",
            "What are the requirements for selection into MIT?\n",
            "Are there any good incest movie?\n",
            "Have you ever regretted your divorce?\n",
            "What are some cool facts about Facebook?\n",
            "Are there any strong indications that Donald Trump does cocaine?\n",
            "What is the syllabus for ICSE 2017 geography map?\n",
            "What is the way to watch Comedy Nights with Kapil live on the sets?\n",
            "Who is Sandeep Maheshwari?\n",
            "Why should / shouldn't I watch porn?\n",
            "How can one learn to trust again?\n",
            "What is your bucket list?\n",
            "How were you first introduced to porn?\n",
            "Why can't sodium channels pass through potassium channels?\n",
            "How do I get Facebook badge notifications on HTC 10?\n",
            "What will Hillary Clinton do now?\n",
            "How do I prepare for Net JRF in English literature?\n",
            "Why do we fall asleep?\n"
          ]
        },
        {
          "name": "stderr",
          "output_type": "stream",
          "text": [
            "  0%|          | 465/808580 [00:03<1:18:22, 171.84it/s]"
          ]
        },
        {
          "name": "stdout",
          "output_type": "stream",
          "text": [
            "What are your views on ban of 500 and 1000 rupee notes in India?\n",
            "Why is Saltwater taffy candy imported in China?\n",
            "How can I join MIT?\n",
            "What is the best thing you've ever learned on Quora?\n",
            "If Israel and Iran went to war, who would win?\n",
            "Which phone to buy Moto m or one plus 3t?\n",
            "Is it possible to travel faster than light?\n",
            "What are the main data platform?\n",
            "Do we need the IPC section 375?\n",
            "What are the life lessons you can learn from the dark knight?\n",
            "How do I start selling on Amazon?\n",
            "Daniel Ek: Are there any future plans of releasing Spotify in India?\n",
            "What book do I start with for GATE preparation?\n",
            "What does the phrase \"love begets love\" mean?\n",
            "What is similar to 4shared but better?\n",
            "What are some good pizza recipes?\n",
            "Have mythical creatures been scientifically tested?\n"
          ]
        },
        {
          "name": "stderr",
          "output_type": "stream",
          "text": [
            "  0%|          | 502/808580 [00:03<1:17:49, 173.04it/s]"
          ]
        },
        {
          "name": "stdout",
          "output_type": "stream",
          "text": [
            "Can the global climate change be reversed or halted?\n",
            "What should I ask my crush?\n",
            "When will the Pokémon series end?\n",
            "Why are police lights red and/or blue?\n",
            "Why was my question marked as \"needs improvement?\"\n",
            "Who owns Natural Factors?\n",
            "What are the best ways to prepare for software interviews?\n",
            "Does Rahul Gandhi have chances to become next Pm of India after Modi?\n",
            "What is the difference between asteroids and comets?\n",
            "Why is unrefrigerated milk good for you?\n",
            "What are some tricks to study effectively?\n",
            "Which is the best country for higher education after USA and UK?\n",
            "How is chili different between cultures?\n",
            "Is World War III imminent?\n",
            "Is the US at risk of some type of uprising after the election?\n",
            "What are the best countries for whistleblowers to seek asylum?\n",
            "What are crop circles?\n",
            "How is Zika virus spread?\n",
            "How can I get my name off the first page on Google search?\n"
          ]
        },
        {
          "name": "stderr",
          "output_type": "stream",
          "text": [
            "  0%|          | 538/808580 [00:03<1:20:10, 167.97it/s]"
          ]
        },
        {
          "name": "stdout",
          "output_type": "stream",
          "text": [
            "Flowers: What is vaijanti?\n",
            "What is the best place to have sex from?\n",
            "Does anemia increase irritability?\n",
            "What is the difference between Chinese and western culture?\n",
            "What are some good free web scrapers / scraping techniques?\n",
            "Where can I find the best Security Cameras?\n",
            "Is it healthy to eat one chicken every day?\n",
            "Why do I not feel remorse?\n",
            "Why did my dog bite me?\n",
            "What are the best places to visit in Nepal?\n",
            "How badly did Donald Trump miscalculate his run would have on his \"brand\" value?\n",
            "Are we heading toward World War 3?\n",
            "What is next step after demonetization?\n",
            "What is the most interesting fact that most people don't know about?\n",
            "How ClockWorkMod works for phones NOT having bootloader unlocked?\n",
            "How was your experience of Lucid dreaming?\n"
          ]
        },
        {
          "name": "stderr",
          "output_type": "stream",
          "text": [
            "  0%|          | 572/808580 [00:04<1:22:08, 163.95it/s]"
          ]
        },
        {
          "name": "stdout",
          "output_type": "stream",
          "text": [
            "What does it feel like to be attractive and desired by many?\n",
            "How can I hack another WhatsApp account?\n",
            "Could USC buy UCLA?\n",
            "What is the most important lesson you have learned from life?\n",
            "What are the best mobile apps for recruiters?\n",
            "How would Trump presidency affect Indian students in the US?\n",
            "What is the order of the Batman: Arkham games?\n",
            "What is your favorite anime character? And why?\n",
            "How does ATM transaction work?\n",
            "How many mechanical engineers graduate per year in India?\n",
            "What do you need to start your own private equity firm?\n",
            "What is the most underrated activity?\n",
            "What should all mechanical engineering students know?\n",
            "What are the best places to visit in Kerala for college students?\n",
            "Why are there so many questions about IQ questions on Quora?\n",
            "How can I destroy the world?\n",
            "How do I make money through YouTube?\n",
            "How can I entirely turn off syntax highlighting in Sublime Text for Golang?\n",
            "How do I start writing?\n",
            "What are the non-invasive blood glucose monitoring systems in India?\n",
            "Why do some people believe that life ends at death?\n",
            "How do I start solar energy business?\n",
            "Do you have psychic power?\n",
            "How do you manage time between work and study?\n"
          ]
        },
        {
          "name": "stderr",
          "output_type": "stream",
          "text": [
            "  0%|          | 607/808580 [00:04<1:20:43, 166.83it/s]"
          ]
        },
        {
          "name": "stdout",
          "output_type": "stream",
          "text": [
            "Is Urjit Patel is right person for RBI Governor?\n",
            "Would you want to be President?\n",
            "How are India's relations with the U.S.A.?\n",
            "How will Trump supporters react once they realize he can't or won't keep his campaign promises?\n",
            "How can I efficiently learn while sleeping?\n",
            "How can I stop watching porn?\n",
            "How can undergraduate help with machine learning research?\n",
            "As of 2015, what is the future of iOS development?\n",
            "What do you feel is the purpose of life?\n",
            "Do you think time travel is possible?\n",
            "How do I do to get fuller face?\n",
            "When will the best time for having sex?\n",
            "Why can't steel and aluminum be welded together?\n",
            "How do we make free energy?\n",
            "What Is Web Design?\n",
            "What are the funniest jokes / stories you ever heard?\n",
            "Which bollywood celebrity has his/her own jet?\n",
            "What movies would you recommend everyone to watch?\n",
            "Is World War 3 more imminent than expected?\n",
            "Would the world be less technologically advanced if the two world wars had never occurred?\n",
            "What is the minimum investment If I want to buy oil and gas royalties?\n",
            "Are Quorans supportive of Modi?\n"
          ]
        },
        {
          "name": "stderr",
          "output_type": "stream",
          "text": [
            "  0%|          | 642/808580 [00:04<1:20:24, 167.46it/s]"
          ]
        },
        {
          "name": "stdout",
          "output_type": "stream",
          "text": [
            "Why is Barack Obama so important to the world?\n",
            "How can I stop hairfall?\n",
            "What's the best classical music piece of all time?\n",
            "What is the aim of science?\n",
            "Is it okay to fire someone via email?\n",
            "Are there any website like Quora?\n",
            "How are the conditions inside European Refugee Camps?\n",
            "What is the opposite of take off?\n",
            "What are the things that you love the most about your fiance?\n",
            "How can I increase my presence of mind?\n",
            "What do Malaysians think about indians?\n",
            "How can we learn c programming?\n",
            "Why do people hate Twilight so much?\n",
            "Lua and C, which one is the best programming language for embedded systems?\n",
            "How can I improve my English speaking .?\n",
            "How can I be gay and dislike gay sex?\n",
            "How do I make money through YouTube?\n",
            "How do I find the love of my life?\n"
          ]
        },
        {
          "name": "stderr",
          "output_type": "stream",
          "text": [
            "  0%|          | 677/808580 [00:04<1:22:19, 163.57it/s]"
          ]
        },
        {
          "name": "stdout",
          "output_type": "stream",
          "text": [
            "How can I get rid of man boobs?\n",
            "What is the scientific reason behind visiting temples?\n",
            "How can someone control their anger?\n",
            "What is Gender Profiling?\n",
            "How do get out of Quora?\n",
            "What are some of the best smartphones technology gadgets?\n",
            "How does it feel to be homosexual in India?\n",
            "How important is the role of TPM at Amazon?\n",
            "Was the US election rigged?\n",
            "Is Gayle Laakmann McDowell planning on publishing any more books? If so, what is she working on?\n",
            "What are some fermented products?\n",
            "What do you think about my short film?\n",
            "Why is there a conflict between India and Pakistan on Kashmir?\n",
            "How do find best applications for android security?\n",
            "What is the role of the Indian army?\n",
            "What is the use of demonetizing Rs. 500 & Rs. 1000 notes?\n",
            "What are some interesting facts about Bengaluru?\n",
            "Which is the best book for chemistry for NEET?\n",
            "What is enlightenment?\n",
            "Why do many Quora users ask questions they could look up online?\n",
            "Why don't we fly east to go from India to USA?\n"
          ]
        },
        {
          "name": "stderr",
          "output_type": "stream",
          "text": [
            "  0%|          | 711/808580 [00:04<1:26:18, 155.99it/s]"
          ]
        },
        {
          "name": "stdout",
          "output_type": "stream",
          "text": [
            "How do I improve my learning skills?\n",
            "What are the uses of Raspberry Pi and Intel Galileo?\n",
            "What is your best 2016 movie?\n",
            "Why Central Govt banned old 500 and 1000 Rs note, but issued new 500 and 2000 Rs note?\n",
            "Why do people run away from home?\n",
            "What is the truth about life after death since there are some unconfirmed examples?\n",
            "If gravity bends light, can light bend gravity?\n",
            "How do I send another person a message on Quora?\n",
            "How do I train White Pitbulls?\n",
            "Why does turkey have darker, more flavorful dark meat than chicken?\n",
            "What is the most surreal question on Quora?\n",
            "What are the differences between computer science and computer engineering?\n",
            "What would be the best time to have sex?\n",
            "Are there any good free online astrologers?\n",
            "Why don't I feel like talking to anyone?\n",
            "Why do we hate our sisters?\n",
            "What causes death by hanging?\n",
            "How does WiFi latency compare to Wired Ethernet?\n",
            "What behavioral adaptations do red pandas have?\n",
            "What is the world's fastest street legal car?\n",
            "What are magnets made of?\n"
          ]
        },
        {
          "name": "stderr",
          "output_type": "stream",
          "text": [
            "  0%|          | 744/808580 [00:05<1:24:08, 160.02it/s]"
          ]
        },
        {
          "name": "stdout",
          "output_type": "stream",
          "text": [
            "What is true value?\n",
            "What does it take to become an FBI agent?\n",
            "What is the best operating system for PC?\n",
            "What are some inventions from the Neolithic Age?\n",
            "What are some of the best horror novels of 2014?\n",
            "What is the most beautiful thing ever built?\n",
            "Why should I live?\n",
            "What is the exact meaning of life?\n",
            "What can I do when my friend betrayed me?\n",
            "Why is Saltwater taffy candy imported in Laos?\n",
            "Why is Mexico City dangerous?\n",
            "What is more important money or respect?\n",
            "Who is best Indian hacker?\n",
            "Do we need to change the  education system of India? If yes then why?\n",
            "What are some of the most commonly mispronounced English words?\n",
            "Do girls get crushes on their male teachers?\n",
            "If I screenshot someone's live video on Instagram do they get notified?\n",
            "What government exams, other than the GATE can average mark final year computer science students give?\n",
            "How do I increase grey matter in the brain?\n",
            "Do psychopaths find babies cute?\n",
            "Will I see if someone blocked me of Facebook?\n"
          ]
        },
        {
          "name": "stderr",
          "output_type": "stream",
          "text": [
            "  0%|          | 779/808580 [00:05<1:21:38, 164.92it/s]"
          ]
        },
        {
          "name": "stdout",
          "output_type": "stream",
          "text": [
            "Are there any competitive coders from Tamil Nadu?\n",
            "How should you start learning programming?\n",
            "How can one serve humanity?\n",
            "What is difference between China and the United States to send gifts?\n",
            "How does the ranking of answers on Quora work?\n",
            "What's your resolution for year 2016?\n",
            "What is Balaji Vishwanathan's view on caste based reservation system in India?\n",
            "Why did barvaria join Germany?\n",
            "How should I stop thinking about someone?\n",
            "What is mutual fund all about?\n",
            "How do you go about maintaining an acoustic bass guitar?\n",
            "What is functional programming?\n",
            "What is the difference between socialism, marxism, and communism?\n",
            "How companies make money?\n",
            "What are the most overrated movies?\n",
            "What is the evidence for and against the existence of the historical Jesus?\n",
            "Suggest me some free online courses that provides certificates?\n",
            "What are some of the best paid part time jobs that can be done from home?\n",
            "Is there a big chance that Trump will win the election?\n"
          ]
        },
        {
          "name": "stderr",
          "output_type": "stream",
          "text": [
            "  0%|          | 814/808580 [00:05<1:20:53, 166.44it/s]"
          ]
        },
        {
          "name": "stdout",
          "output_type": "stream",
          "text": [
            "How do i meet suresh raina?\n",
            "What are some examples of evidence of evolution that fossil records provide?\n",
            "What is the Gülen movement?\n",
            "What do mythical creatures eat?\n",
            "What are the best stocks to invest for long term right now?\n",
            "How do I improve my reading skill?\n",
            "What are the safety precautions on handling shotguns proposed by the NRA in Arizona?\n",
            "How do I ask my ex to get back together?\n",
            "What is the best way to prepare for IELTS?\n",
            "How do I know if my online girlfriend truly loves me?\n",
            "What is the difference between the words burglary and robbery?\n",
            "Which are the best schools for studying natural language processing?\n",
            "Will Donald Trump support Ted Cruz for president?\n",
            "What is the significance of GDP?\n",
            "Who will be the new American president? Why\n",
            "What do you have to do to become an airline pilot?\n",
            "How do I cure anal fissure permanently with home remedies?\n",
            "How can I get best score in GRE?\n",
            "Why is the soul immortal?\n",
            "What is the best way to reduce pollution in india?\n",
            "Is UberMoto legal in India?\n"
          ]
        },
        {
          "name": "stderr",
          "output_type": "stream",
          "text": [
            "  0%|          | 848/808580 [00:05<1:22:19, 163.52it/s]"
          ]
        },
        {
          "name": "stdout",
          "output_type": "stream",
          "text": [
            "What does \"I fancy you\" mean?\n",
            "What were some of your good and bad life experiences?\n",
            "How do you get cell phone numbers?\n",
            "I want to learn singing. How do I start?\n",
            "Will Google's virtual monopoly in web search ever end? When?\n",
            "What causes Auto Immune diseases?\n",
            "Which is the best pmp certification center in Bangalore?\n",
            "What do you love? Why?\n",
            "What's the difference between the iPhone 6 and the iPhone 6s?\n",
            "Which army would win if fights occured between US troops from WW2 and US troops from Vietnam war?\n",
            "Who would win the Dovahkiin from Skyrim or Kylo ren?\n",
            "What do non-Muslims expect from Muslims?\n",
            "What can I comment to my girlfriend's pictures?\n",
            "During rain what should I do for precautions of flooding road?\n",
            "What's the easiest way to prove the Heisenberg uncertainty principle?\n",
            "How do I lose weight without doing exercise or diet?\n",
            "How do I get over my fears?\n",
            "Which city in Argentina has the best weather?\n",
            "What is differences between SSD and hdd?\n"
          ]
        },
        {
          "name": "stderr",
          "output_type": "stream",
          "text": [
            "  0%|          | 883/808580 [00:06<1:22:02, 164.08it/s]"
          ]
        },
        {
          "name": "stdout",
          "output_type": "stream",
          "text": [
            "Why is my puppy vomiting white foam?\n",
            "How do I create an e-commerce website?\n",
            "How can I teach myself how to sing?\n",
            "If Frances Farmer (the actress) was still around today, what would she think about Donald Trump?\n",
            "What are some good cheese substitutes for Havarti cheese?\n",
            "Can constipation cause dizziness?\n",
            "What are pros and cons of Hillary Clinton?\n",
            "How do I ensure that semen doesn't come out from my penis after I ejaculate?\n",
            "What do we need to have the best Halloween?\n",
            "Why do company issue bonus shares?\n",
            "Do you think scrapping of 500 and 1000 rupee denominations is going to eradicate corruption?\n",
            "Who is the best manufacturer of customized kiosk in India?\n",
            "Why does India always sabotage and badmouth all economic projects Pakistan have with other countries in the world?\n",
            "Why is The Big Bang Theory (TV series) so popular? Why is it so popular with mainstream viewers?\n",
            "How can you increase your height?\n",
            "Have you ever been fired? How did you deal with it?\n",
            "My girlfriend is not talking to me. What should I do?\n"
          ]
        },
        {
          "name": "stderr",
          "output_type": "stream",
          "text": [
            "  0%|          | 918/808580 [00:06<1:22:01, 164.12it/s]"
          ]
        },
        {
          "name": "stdout",
          "output_type": "stream",
          "text": [
            "How will abolishing Rs. 500 and Rs. 1000 notes affect the real estate businesses in India?\n",
            "What are the best interview questions to ask?\n",
            "Do you think trusting other people is wise enough after being betrayed by someone else?\n",
            "Who are the best headhunters?\n",
            "Can rabies vaccine for humans be used for dog?\n",
            "What is difference between Cableway and Ropeway?\n",
            "Have mages been scientifically tested?\n",
            "Why is maritime law so important?\n",
            "How long will I get OS updates on moto g3?\n",
            "How can i get more follower on my blog?\n",
            "What are your views on demonetization of ₹500 & ₹1000 notes in India?\n",
            "Why am I so angry?\n",
            "What are some consequences of blackouts?\n",
            "Why do so many people in the US have an Apple-branded phone or laptop?\n",
            "What can we do after completing BDs?\n",
            "Why Muslims hate Modi government?\n",
            "What can I do when I'm 18?\n",
            "What are the best romantic comedy movies?\n",
            "Searching practical application of 6 bit adc?\n",
            "How should I start meditating, and when?\n",
            "What are the side effects of homeopathic medicines?\n"
          ]
        },
        {
          "name": "stderr",
          "output_type": "stream",
          "text": [
            "  0%|          | 953/808580 [00:06<1:19:34, 169.15it/s]"
          ]
        },
        {
          "name": "stdout",
          "output_type": "stream",
          "text": [
            "Which is best music player under 5000 inr?\n",
            "What is the future scope for procurement, logistics, operations and supply chain management?\n",
            "How do I join WikiLeaks?\n",
            "Can we control our dreams? Can we dream what we wanna dream about?\n",
            "How can long distance relationships be successful?\n",
            "Does Donald Trump have any chance of winning the forthcoming election?\n",
            "What's the best iPhone wallpaper?\n",
            "Online test centers business?\n",
            "Why does the caste system exist in India even after 7 decades of Independence?\n",
            "What will be my rank in NEET 2016 if my marks is 391?\n",
            "SEO or SMO which help to get more business?\n",
            "What is Wells Fargo's overdraft policy?\n",
            "What are marketing techniques for language schools?\n",
            "How can I earn money on internet?\n",
            "What are the best schools in the world to study cinema?\n",
            "Why is saltwater taffy candy imported in Austria?\n",
            "What are the best part time jobs we can do in Bangalore?\n",
            "How do you become pretty/attractive?\n",
            "What is regarded as the best music album?\n",
            "Why is Donald Trump supported so much? What will happen if he wins the election?\n",
            "What are the benefits of eating avocado?\n"
          ]
        },
        {
          "name": "stderr",
          "output_type": "stream",
          "text": [
            "  0%|          | 988/808580 [00:06<1:21:04, 166.03it/s]"
          ]
        },
        {
          "name": "stdout",
          "output_type": "stream",
          "text": [
            "How can I gain healthy weight and mass?\n",
            "What kind of animal are you?\n",
            "What is bought more online?\n",
            "How can I know that he is my soulmate?\n",
            "Do long distance relationships work?\n",
            "How can I understand english?\n",
            "What was your biggest challenge as Secretary of State?\n",
            "How do I change the registered mobile number for the DBS bank account?\n",
            "What are the best movies to watch?\n",
            "Can you download Cydia on your device without jailbreaking it?\n",
            "Fahrenheit 451 (1953 book): What is Guy Montag's namesake?\n",
            "What is your review of Love on the Rocks (2004 movie)?\n",
            "Is it possible to travel back or forward in time?\n",
            "How do I recover deleted Facebook messages?\n",
            "Customer Service: What is Uber's phone number?\n",
            "What is Agile and Scrum model?\n",
            "My life is boring. What can I do?\n",
            "What can be the most insane ways to commit suicide?\n",
            "Is 100/76 ok blood pressure?\n",
            "What are your best paranormal experiences?\n",
            "What exactly is the \"Vyapam\" scam? Why have so many died because of it?\n"
          ]
        },
        {
          "name": "stderr",
          "output_type": "stream",
          "text": [
            "  0%|          | 1024/808580 [00:06<1:18:13, 172.05it/s]"
          ]
        },
        {
          "name": "stdout",
          "output_type": "stream",
          "text": [
            "Why most of the cosmetic products don't have price tags?\n",
            "How do you convert raw files to JPEG?\n",
            "Which is less healthy for your body light beer or Pepsi?\n",
            "What would cause an AMP to cut out? How do you fix it?\n",
            "Is Toshiba Satellite C50-A547 good for runing games?\n",
            "What are the applications of binary search trees?\n",
            "Why nothing is done to solve Kashmir issue?\n",
            "Is Scientology bullshit?\n",
            "Who will win the 2016 U.S. presidential election and why?\n",
            "What should I do if I'm badly bored?\n",
            "What is your honest review of Dangal (2016 movie)?\n",
            "What do you think about the movie Interstellar?\n",
            "Are most blind people fully blind?\n",
            "Which indian politician do you hate the most?\n"
          ]
        },
        {
          "name": "stderr",
          "output_type": "stream",
          "text": [
            "  0%|          | 1061/808580 [00:07<1:19:58, 168.30it/s]"
          ]
        },
        {
          "name": "stdout",
          "output_type": "stream",
          "text": [
            "How do I know if I have social anxiety?\n",
            "What are some interesting biology high school research topics?\n",
            "How is Trump becoming the president affect the Indians applying for an MS in the US (Mech)?\n",
            "Other than humans, what are some examples of the smartest mammals?\n",
            "Bollywood: Which is currently the worst Bollywood movie?\n",
            "How do I start learning or strengthen my knowledge of data structures and algorithms?\n",
            "How do I know why I was blocked from Instagram?\n",
            "What is the best thing we learned from our life?\n",
            "Why are pipettes used for titration?\n",
            "When did Quora start and how did it attract users?\n",
            "What will shopping malls be like in the future?\n",
            "What were the greatest achievements of the Persian Empire?\n",
            "What is white-hat SEO?\n",
            "What are some of the best blogs for articles on Quora?\n"
          ]
        },
        {
          "name": "stderr",
          "output_type": "stream",
          "text": [
            "  0%|          | 1095/808580 [00:07<1:20:37, 166.92it/s]"
          ]
        },
        {
          "name": "stdout",
          "output_type": "stream",
          "text": [
            "What is the size of the biggest dildo?\n",
            "What is the salary of a doctor in India?\n",
            "Where can I get free books?\n",
            "How many maximum number of rounds are of nift counselling?\n",
            "What do you think of Trump winning the elections?\n",
            "What is the best way to deal with \"show-off\" people?\n",
            "Do some women really squirt during sex? is it safe to consume the vaginal fluids?\n",
            "How do I learn Java internals?\n",
            "What are the causes of low sperm count?\n",
            "What makes India different from all other countries in the world?\n",
            "How do you promote your app for free?\n",
            "What is your review of The Crystal Method?\n",
            "How can I make the color aqua using other colors?\n",
            "Why should I not vote for Hillary Clinton or Donald Trump?\n",
            "Why do some people enjoy giving blowjobs?\n",
            "Why do the Dubai Police have super cars?\n",
            "How do you care for guinea pigs?\n",
            "What is the difference between 'pluripotent', 'multipotent' and 'totipotent' (stem) cells?\n",
            "What is the best time to withdraw money from working ATM in present India?\n",
            "Why do Serbs like Russians?\n",
            "Can people dream while they are awake?\n",
            "What is the solution for the below problem?\n"
          ]
        },
        {
          "name": "stderr",
          "output_type": "stream",
          "text": [
            "  0%|          | 1132/808580 [00:07<1:18:01, 172.48it/s]"
          ]
        },
        {
          "name": "stdout",
          "output_type": "stream",
          "text": [
            "How is your life going?\n",
            "What are the best ways to ask a question on Quora?\n",
            "What are some examples of disaccharides?\n",
            "History of Islam: Why did the Umayyad Caliphate invade Christian territory?\n",
            "How can I hack another WhatsApp account?\n",
            "Is it legal to have sex in your car in India?\n",
            "What's the biggest coincidence that has ever happened to you?\n",
            "Will Google buy Quora?\n",
            "Why is Jesus named Jesus?\n",
            "What is the creepiest thing your spouse has ever done?\n",
            "How can you improve high school education?\n",
            "Do aliens really exists? If yes then where?\n",
            "Who were the Aztec Gods?\n",
            "Why we need study?\n",
            "What is Hillary Clinton's greatest achievement as a Secretary of State?\n",
            "How do growth and development contrast?\n",
            "How can I meet Modi?\n",
            "How do you view transgender people?\n",
            "What is it like to work in the Indian Army?\n",
            "How can I learn English well as a Chinese student？?\n"
          ]
        },
        {
          "name": "stderr",
          "output_type": "stream",
          "text": [
            "  0%|          | 1168/808580 [00:07<1:18:41, 171.02it/s]"
          ]
        },
        {
          "name": "stdout",
          "output_type": "stream",
          "text": [
            "Can I get my Sprint phone to work for Metro PCS?\n",
            "Is pan fried food unhealthy?\n",
            "How can I lose or reduce thigh and hip fat fast?\n",
            "How can you compare and contrast base and acid?\n",
            "How can I do SEO 2016?\n",
            "What defines happiness?\n",
            "How do I lose weight and gain muscle?\n",
            "What are fast ways to make money?\n",
            "How do I edit my profile?\n",
            "What is your favourite story by Isaac Asimov?\n",
            "Do women like seeing men ejaculating?\n",
            "What is the Best place in kuala lumpur for cheap Shopping?\n",
            "What has worked for you to help relieve chronic pain?\n",
            "How can I improve my spoken English?\n",
            "Why do some Indian Muslims hate Narendra Modi?\n",
            "What is the theme of Who Framed Roger Rabbit?\n",
            "Have you encountered an alien? What happened?\n",
            "What are some of the worst movies of Bollywood?\n",
            "How do I recover my Hotmail password?\n",
            "Is it easy to get part time job in Sweden?\n",
            "What is the ultimate truth that no one can deny?\n",
            "Which are the best places for the holidays in India?\n"
          ]
        },
        {
          "name": "stderr",
          "output_type": "stream",
          "text": [
            "  0%|          | 1222/808580 [00:08<1:18:43, 170.93it/s]"
          ]
        },
        {
          "name": "stdout",
          "output_type": "stream",
          "text": [
            "How can I pass the HP0-M33 exam?\n",
            "How can I make money with my 3d printer?\n",
            "Which languages have been most profoundly affected by Low German?\n",
            "What is the meaning and uses of \"hello\"?\n",
            "Who is your role model?\n",
            "What is the smallest complete sentence?\n",
            "Why is India failing so miserably at the Rio Olympics?\n",
            "What name did you save your dad/mum's number with?\n",
            "Polished vitrified tiles?\n",
            "What are the minimum GPA and  GRE requirements of Florida State University?\n",
            "Why does temperature decrease with increase in altitude?\n",
            "Can I climb mount Everest without any previous mountaineering experience?\n",
            "Has anyone taken any course from Fedevel academy for PCB design?\n",
            "What is the most funny joke you have ever heard?\n",
            "How do you feel when someone points out your mistake?\n",
            "How come there are no depictions of the massacres inflicted by Islam on India.?\n",
            "What are the best goals scored in soccer?\n",
            "Do white women find Asian men attractive?\n"
          ]
        },
        {
          "name": "stderr",
          "output_type": "stream",
          "text": [
            "  0%|          | 1258/808580 [00:08<1:17:22, 173.91it/s]"
          ]
        },
        {
          "name": "stdout",
          "output_type": "stream",
          "text": [
            "How can I improve my English pronunciation?\n",
            "Why did humans come to existence?\n",
            "Why don't I know any supporters of Donald Trump?\n",
            "What are the most common examples of solid matter?\n",
            "What is the best advice for giving others an advice?\n",
            "Which is the best gift that you have ever received?\n",
            "Who are the best teachers of life?\n",
            "Who are the best footballer today?\n",
            "What is the scariest or creepiest movie you have ever seen?\n",
            "What would happen if the presidential nominee died before the November election?\n",
            "Why are hash tags so important?\n",
            "What can Google do to turn Google Glass around?\n",
            "What all places can one visit on a two day trip in Kerala, India?\n",
            "Have you ever experienced any paranormal activity? Where and what actually happened?\n",
            "What is your secret that you can only share at Quora?\n",
            "What do you think of abolishing 500 and 1000 Rupee Currency notes by the Indian Government?\n",
            "What is the difference between assessment and evaluation?\n"
          ]
        },
        {
          "name": "stderr",
          "output_type": "stream",
          "text": [
            "  0%|          | 1294/808580 [00:08<1:20:12, 167.74it/s]"
          ]
        },
        {
          "name": "stdout",
          "output_type": "stream",
          "text": [
            "What are some songs that just make you happy?\n",
            "What is your review of Friend (2001 movie)?\n",
            "Who would you pick as the best rock band of the last decade, 2005-2015?\n",
            "Are there any socialist countries left?\n",
            "What is the major difference between MS - Office 2007 and 2013?\n",
            "What are the landforms of the Canadian Shield?\n",
            "Is Brexit likely to happen?\n",
            "How do I can hack wifi?\n",
            "How did Portugal become an independent country from Spain?\n",
            "How do you bake cookies without plain flour?\n",
            "What is meant by c language?\n",
            "What are some important factors that keep bones healthy and strong?\n",
            "What are the best ways to lose weight?\n",
            "What's the easiest way to make money online?\n",
            "What are the differences between Chinese and western etiquette?\n",
            "What were the security features of an old Rs. 500 and Rs. 1000 currency notes?\n",
            "Is there some painless way to suicide?\n",
            "What does love mean to Capricorns?\n",
            "German (language): What is the difference between \"dem\" and \"den\"?\n",
            "Why are fairy-themed magical girls rare in anime?\n",
            "What is it like to be Marc Srour?\n"
          ]
        },
        {
          "name": "stderr",
          "output_type": "stream",
          "text": [
            "  0%|          | 1329/808580 [00:08<1:19:55, 168.34it/s]"
          ]
        },
        {
          "name": "stdout",
          "output_type": "stream",
          "text": [
            "Is time travel still theorized as being possible?\n",
            "Why doesn't Microsoft take action on the millions of pirated copies of Windows?\n",
            "Why is my face sweating and I have smelly gunk comming out of the pores on my nose?\n",
            "How safe is it to have your real name on the Internet?\n",
            "What is the most spontaneous thing you've ever done?\n",
            "Which chemistry objective book is good for NEET 2017?\n",
            "What is the purpose of life?\n",
            "How does the demonetized notes of 500 and 1000 effect the real estate?\n",
            "Which is Better: Raw egg or Boiled egg?\n",
            "What is drug rehab like?\n",
            "Why do many engineering graduates from top notch colleges such as IITs/NITs pursue an MBA immediately after graduation?\n",
            "What are some best ways to earn money online?\n",
            "What is the one book that changed you?\n",
            "What are the things to be considered while buying a new laptop?\n",
            "How can I stop biting my nails for good?\n",
            "How many pages are there in the Indian constitution?\n",
            "How can I earn online with little investment?\n",
            "Is President-elect Donald Trump President Putin's Trojan Horse?\n",
            "What is Introverted Intuition?\n",
            "What is wrong with Indian engineering education system?\n",
            "Why do only the union territories of Delhi and Puducherry have chief ministers and not others?\n"
          ]
        },
        {
          "name": "stderr",
          "output_type": "stream",
          "text": [
            "  0%|          | 1364/808580 [00:08<1:19:50, 168.51it/s]"
          ]
        },
        {
          "name": "stdout",
          "output_type": "stream",
          "text": [
            "Is World War 3 more imminent than expected?\n",
            "What is the benefit to Quora?\n",
            "What would Melisandre do if Jon became king?\n",
            "Are Rolls-Royce cars given only to reputed personalities?\n",
            "How can you treat pain in the middle of your spine?\n",
            "How do I hack anyone's WhatsApp account by my mobile?\n",
            "Who are some famous people with low IQs?\n",
            "What promises can Donald Trump keep?\n",
            "Why did Locke try to kill or kidnap Bran Stark at Craster's keep?\n",
            "How do you treat acne?\n",
            "What are some good substitutes for butter beans?\n",
            "What does California import and export?\n",
            "Which are the MNC companies for PHP in India?\n",
            "What are the best way of loose the weight?\n",
            "What is the best way of learning Node.js?\n",
            "What has been the best decision you've made in your life?\n"
          ]
        },
        {
          "name": "stderr",
          "output_type": "stream",
          "text": [
            "  0%|          | 1399/808580 [00:09<1:20:34, 166.97it/s]"
          ]
        },
        {
          "name": "stdout",
          "output_type": "stream",
          "text": [
            "What is the reason for Abu Dhabi (or the Sheikh) to build Masdar City?\n",
            "How can you measure your IQ for free?\n",
            "What is the most interesting fact that most people don't know about?\n",
            "What Himalayan salt is the best, and why?\n",
            "Who created the \"GOD\"?\n",
            "How can I become more white?\n",
            "What are requirements I would need to start my own cafe?\n",
            "Where is my downloaded iTunes music on my iPad?\n",
            "Who invented the middle finger bad gesture?\n",
            "How do you get the net ionic equation for HCO3+H2O?\n",
            "Are there any other republicans (here) who voted for Hillary Clinton?\n",
            "What psychology hacks are useful to know?\n"
          ]
        },
        {
          "name": "stderr",
          "output_type": "stream",
          "text": [
            "  0%|          | 1434/808580 [00:09<1:20:02, 168.07it/s]"
          ]
        },
        {
          "name": "stdout",
          "output_type": "stream",
          "text": [
            "How did you prepare for the GATE without any coaching?\n",
            "What is state in constitution of India?\n",
            "How do I get rid of severe dandruff?\n",
            "I want to study biotechnology abroad what do I have to do?\n",
            "When is the next batch of Infosys after 9 Jan 2016?\n",
            "Is Donald trump going to be the worst president?\n",
            "How are stolen passports used?\n",
            "Are ethics bullshit?\n",
            "What are the best movies of Hollywood?\n",
            "How do I get rid of mosquito bite marks?\n",
            "Would NATO defend Turkey if Russia attacked?\n",
            "What are some puzzles similar to Sudoku?\n",
            "What are some theories of life?\n",
            "Do black guys like to date Indian girls?\n",
            "What is mutual fund all about?\n",
            "Can touchscreens be used underwater?\n",
            "Which was the best film of 2016?\n",
            "What is quantum entanglement?\n",
            "Should I ever care what people think of me?\n",
            "What are High pitch Bollywood music songs?\n",
            "Why does Quora keep telling me my question needs improvement?\n"
          ]
        },
        {
          "name": "stderr",
          "output_type": "stream",
          "text": [
            "  0%|          | 1468/808580 [00:09<1:21:34, 164.89it/s]"
          ]
        },
        {
          "name": "stdout",
          "output_type": "stream",
          "text": [
            "How do you take the battery off an iPhone 4?\n",
            "During the Nazi occupation, what were the French school children taught?\n",
            "What is the best laptop I could buy under 20k?\n",
            "What is the human impact on biodiversity?\n",
            "How did you feel when you travelled in an airplane for the first time?\n",
            "What animals are native to the country Turkey?\n",
            "Can I hack Facebook?\n",
            "What are going to be the rammifications of the Indian government's decision affecting invalid ₹500/₹1000 currency notes?\n",
            "Gmail: How do I retrieve Gmail drafts?\n",
            "How much time does Quora take up in your day?\n",
            "How do I overcome erectile dysfunction due to over masturbation?\n",
            "Are new languages still being created?\n",
            "What is the best place in India to visit?\n",
            "Why are there so many \"no picnic\" signs in Venice?\n",
            "Will Google acquire Twitter?\n",
            "How do prepare the prelims exam of IBPS PO?\n",
            "What are ethical dilemmas?\n",
            "Would demonetization of 500 and 1000 rupee notes actually help in curbing black money in India?\n",
            "Why do you think Donald Trump is getting so much support?\n",
            "What happens to the soul after it leaves the body?\n",
            "How can I ask Quora a question about something that was marked \"needs improvement?\"?\n",
            "How do I remove an app from iCloud?\n",
            "What is the operation quality?\n",
            "Is it possible to install iOS to an Android phone?\n"
          ]
        },
        {
          "name": "stderr",
          "output_type": "stream",
          "text": [
            "  0%|          | 1502/808580 [00:09<1:26:04, 156.29it/s]"
          ]
        },
        {
          "name": "stdout",
          "output_type": "stream",
          "text": [
            "What are some best business ideas with minimum investment?\n",
            "[Late 2015 / Early 2016] Why does the United Kingdom want to leave the European Union? Why do some people there want to quit the EU?\n",
            "What are the hardest hip hop/rap songs of all time?\n",
            "Are softwares like SolidWorks, CATIA and Pro E for different applications? Which is the best one? Why?\n",
            "Which is the best modular kitchen in Bangalore?\n",
            "How can I tell if my girlfriend really loves me?\n",
            "How can I make healthy pizza? Is there any recipe for it?\n",
            "What books can I read to learn more about philosophy?\n",
            "What is the average cost to replace brakes and rotors?\n",
            "2016 U.S. Presidential Election: Would Hillary Clinton supporters support Bernie Sanders if he won the nomination?\n",
            "Why is ZEE News so anti-AAP?\n",
            "How can I deal with my first Break Up?\n",
            "What exercise can help to reduce the weight on my arms?\n",
            "How do I speak English like celebrities?\n",
            "How do I write the introduction of an essay?\n",
            "What do people think about Indian women?\n",
            "What is the best thing I can buy for 2€ on Amazon?\n",
            "What side dishes would go well with lamb chops?\n",
            "How can we improve our digestion?\n",
            "Is it safe to floss with permanent retainer?\n"
          ]
        },
        {
          "name": "stderr",
          "output_type": "stream",
          "text": [
            "  0%|          | 1534/808580 [00:09<1:30:20, 148.88it/s]"
          ]
        },
        {
          "name": "stdout",
          "output_type": "stream",
          "text": [
            "How can I Publish Theses on Education on International Library for thesis?\n",
            "What are the best Cyanide & Happiness comics?\n",
            "Why can I not multiply fractions in Python?\n",
            "What does NAT stand for?\n",
            "Physics: Why is polluted air denser than cold air?\n",
            "What are lymph nodes?\n",
            "How do I buy stocks?\n",
            "What is your favourite meal and why?\n",
            "I want to connect with you, how can I do that?\n",
            "What are the best books to practice for JEE mains only?\n",
            "What are the Seven Wonders of the World?\n",
            "What is your favorite top 10 list of “Sun” songs?\n",
            "What is the best way to prepare for Mu Sigma?\n",
            "What can we do to stop the war on drugs?\n",
            "Which is better to create backend for mobile web app, Stamplay or Firebase?\n",
            "How long you thing this Pokémon GO trend will last?\n",
            "What does it mean when my boyfriend calls me sexy?\n",
            "What the heck does \"enter access code\" mean?\n",
            "What are some of your favorite misheard song lyrics?\n"
          ]
        },
        {
          "name": "stderr",
          "output_type": "stream",
          "text": [
            "  0%|          | 1564/808580 [00:10<1:34:12, 142.77it/s]"
          ]
        },
        {
          "name": "stdout",
          "output_type": "stream",
          "text": [
            "How do I ship 100 kgs of luggage (clothes) from the USA to India, within $150?\n",
            "How is TCS training period?\n",
            "What is sustainable development?\n",
            "How do you treat gunshot wounds?\n",
            "How did Donald Trump win despite projections that he would fail?\n",
            "Are Hondas or Accuras better cars? Why?\n",
            "Is there an effective treatment for acne?\n",
            "Why is the analog computer faster than digital?\n",
            "What's the one thing you think about when you wake up?\n",
            "What should I do after shaving my head?\n",
            "How do I fix Windows 10 Wi-Fi disconnecting issue?\n",
            "Is vBulletin 5 Connect SEO really not performing well?\n",
            "What is computer networking?\n",
            "What do Pakistani residents think of Uri attack?\n",
            "How did Genghis Khan die?\n",
            "Does Donald Trump have hereditary hemochromatosis? It causes bronzed skin and encephalopathy.\n",
            "Do animals have the same emotions as humans?\n",
            "How can I have good handwriting?\n",
            "How can I integrate Bitbucket with Microsoft Azure to build and deploy applications?\n"
          ]
        },
        {
          "name": "stderr",
          "output_type": "stream",
          "text": [
            "  0%|          | 1594/808580 [00:10<1:34:45, 141.93it/s]"
          ]
        },
        {
          "name": "stdout",
          "output_type": "stream",
          "text": [
            "How will Donald Trump benefit India?\n",
            "What is the procedure for sending a speed post in India?\n",
            "Will banning Rs.500 and Rs.1000 notes help to solve black money and corruption?\n",
            "What are some best horror movies of 2016?\n",
            "How do I overcome suicide thoughts?\n",
            "What are fast ways to lower blood pressure?\n",
            "What are the name of the books for UGC net English literature?\n",
            "Why didn't any Indians go to Occupy Australia when it is close to India?\n",
            "Is eating meat and dairy okay?\n",
            "Why did Sirius Black have to travel north in GOF?\n",
            "If war occurs between India and Pakistan what will be its effect on the rest of country?\n",
            "What are some good Bible verses to read before bed?\n",
            "Do we have any good ways to stop global warming?\n",
            "Can I use WhatsApp on my laptop and phone?\n",
            "What are some of the most innovative ways to die?\n",
            "What's the best laptop to buy that will last me all four years of college with minimal problems?\n",
            "What is the scope of mechanical engineering for girls?\n",
            "What is better, Coke or Pepsi? Why?\n",
            "Why do people become addicted to pornography?\n"
          ]
        },
        {
          "name": "stderr",
          "output_type": "stream",
          "text": [
            "  0%|          | 1626/808580 [00:10<1:31:43, 146.64it/s]"
          ]
        },
        {
          "name": "stdout",
          "output_type": "stream",
          "text": [
            "Why is division by zero undefined?\n",
            "Why am I afraid of telling my boyfriend I love him?\n",
            "What are the best opening moves in chess?\n",
            "What would happen if your entire city suddenly decided to listen to you?\n",
            "Will it be difficult to learn coding for mechanical engineers?\n",
            "What is the price for dental implants in Delhi, India?\n",
            "What are the pros and cons of flat feet?\n",
            "Why is it so hard to wake up in the morning?\n",
            "How do I post gold jewellery from France to the U.K.?\n",
            "How do I get start plant nursery?\n",
            "Why do people vomit while travelling in buses?\n",
            "Is there an issue with light around planet earth?\n"
          ]
        },
        {
          "name": "stderr",
          "output_type": "stream",
          "text": [
            "  0%|          | 1659/808580 [00:10<1:28:10, 152.52it/s]"
          ]
        },
        {
          "name": "stdout",
          "output_type": "stream",
          "text": [
            "Are there any books written on the life of the monk Thich Quang Duc before he killed himself?\n",
            "How much will it cost to build an Android app in India?\n",
            "Why do Brahmins not eat non-vegetarian food?\n",
            "How can one build plants in space?\n",
            "How do I prevent my dog from chewing cushions?\n",
            "Where can I find my blocked contacts messages they sent me?\n",
            "How can I increase traffic on my blog?\n",
            "How Can I prepare for Class 10th Board Examinations ICSE?\n",
            "Which metal alloys are stronger than steel?\n",
            "What is meant by institutional framework of public policy?\n",
            "Is ranch dressing good for you?\n",
            "Could small talk be used to test someone's intelligence?\n",
            "If stupid people join quora, will that make Quora stupid?\n",
            "What are the major functions of the liver?\n",
            "What are the diffences between FDI and FII?\n",
            "What are some ways to delete my Yahoo Mail account permanently?\n",
            "How can I be great at math?\n"
          ]
        },
        {
          "name": "stderr",
          "output_type": "stream",
          "text": [
            "  0%|          | 1691/808580 [00:11<1:29:49, 149.73it/s]"
          ]
        },
        {
          "name": "stdout",
          "output_type": "stream",
          "text": [
            "How will an MBA help me?\n",
            "What kind of questions get deleted on Quora?\n",
            "Can meditation increase creativity?\n",
            "How is the story behind your country's national flag?\n",
            "What is the mystery behind the iron piller of Delhi?\n",
            "How do toppers of class 11 study?\n",
            "How do seawater swimming pools work?\n",
            "How will work and jobs change in the next 10-20 years?\n",
            "What are some of your favorite sayings?\n",
            "Why caste system still survive in India?\n",
            "What are the best public transportation apps to help me in Berlin?\n",
            "What do you think of the Doga comic series?\n",
            "Why does cotton shrink when washed?\n",
            "Who is your role model and why?\n",
            "Do you have an interesting sleep paralysis story to share?\n",
            "What are good ways to teach children not to lie?\n",
            "Why will Minerva succeed when many other for-profit universities have been bad investments?\n"
          ]
        },
        {
          "name": "stderr",
          "output_type": "stream",
          "text": [
            "  0%|          | 1726/808580 [00:11<1:23:14, 161.55it/s]"
          ]
        },
        {
          "name": "stdout",
          "output_type": "stream",
          "text": [
            "What are the best ways to get clients for software startup?\n",
            "Is plasma considered as the 4th state of matter?\n",
            "How do I delete a question from Quora?\n",
            "Who were responsible for the collapse of Indus Valley Civilization?\n",
            "Is death by carbon monoxide painful? Why or why not?\n",
            "Why are there so many Muslims in Hindi film industry?\n",
            "How do I recover my iCloud password?\n",
            "Are trending topics in Quora location specific?\n",
            "Where can I watch The Walking Dead season 7 online?\n",
            "What are the advantages of using DataTorrent over Storm?\n",
            "What are the best resume search sites?\n",
            "Is there any secrets sites for downloading leaked movies?\n",
            "What's the best way to get high from eating weed and why?\n",
            "Is lesbian sex just as good as heterosexual sex?\n",
            "What are some of the best atheistic arguments?\n",
            "When did Narendra Modi change his salutation from 'Mitron' to 'Bhaio aur Behno'?\n",
            "How do I ask someone to be my mentor?\n",
            "Why is Quora so popular in India?\n",
            "How is NIT Raipur for chemical engineering?\n",
            "Shortcut for c compilation?\n",
            "Is it always safe to run GPU at OC mode?\n"
          ]
        },
        {
          "name": "stderr",
          "output_type": "stream",
          "text": [
            "  0%|          | 1760/808580 [00:11<1:23:09, 161.69it/s]"
          ]
        },
        {
          "name": "stdout",
          "output_type": "stream",
          "text": [
            "How can I prepare for an FDA audit?\n",
            "How can we make water soluble polymers?\n",
            "Harvard College Courses: What is general shopping advice for SCRB classes?\n",
            "What is the best app for learning English?\n",
            "What is the main reason why Britain is exiting the EU?\n",
            "What websites are worth visiting everyday?\n",
            "What's the best thing that make you happy?\n",
            "Which are the best earphones under 2000INR or 35USD?\n",
            "What would happen if one of the two candidates of the presidential election died on the morning of the election day?\n",
            "What was the reason behind the removal of Cyrus P. Mistry from the position of Chairman of The Tata group?\n",
            "Why is Koundinya Rishi so important?\n",
            "How do I get coins on musical.ly?\n",
            "Why is Parks and Recreations so boring?\n",
            "What gives you hope for humanity?\n",
            "Will you be okay if your political representative becomes rich or richer after being elected?\n",
            "What's the procedure for an Indian to do higher study (MS) in the US?\n",
            "What is the best and fastest way to increase your height?\n",
            "What exactly is light made of?\n"
          ]
        },
        {
          "name": "stderr",
          "output_type": "stream",
          "text": [
            "  0%|          | 1796/808580 [00:11<1:19:35, 168.94it/s]"
          ]
        },
        {
          "name": "stdout",
          "output_type": "stream",
          "text": [
            "How do you know if you are really intelligent?\n",
            "How is the formula for residual volume determined?\n",
            "How do I deal with my embarrassment?\n",
            "Allen motorhead books PDF how I can download?\n",
            "How can I improve my writing on Quora?\n",
            "How does an aroused vagina feel like?\n",
            "What can I do to help the situation in Aleppo?\n",
            "What will be the result of banning 500 and 1000 rupees note in India?\n",
            "What does the name Quora exactly mean?\n",
            "How do I stop feeling insecure about myself?\n",
            "How did you learn Japanese?\n",
            "How often do you drink coffee?\n",
            "How do I delete my own question from Quora?\n",
            "Why did Denmark surrender to Nazi Germany in just 3 hours?\n"
          ]
        },
        {
          "name": "stderr",
          "output_type": "stream",
          "text": [
            "  0%|          | 1830/808580 [00:11<1:22:30, 162.97it/s]"
          ]
        },
        {
          "name": "stdout",
          "output_type": "stream",
          "text": [
            "How do I use Spotify in India?\n",
            "What collusion occurs with AngelList, if any?\n",
            "What are the best Healdsburg wineries?\n",
            "How do I suck it up and lose weight?\n",
            "What's the best iPhone 4 case?\n",
            "What is it like working at Goldman Sachs?\n",
            "Who are John Nash's children?\n",
            "Can my parents be afraid of me doing better than them?\n",
            "What is diagtrack what is diag track?\n",
            "Why do people on Quora write very long answers, even if the questions doesn't necessarily need that?\n",
            "How is Snoop Dogg related to Wiz Khalifa?\n",
            "How can I see who viewed my video I just posted on Instagram?\n",
            "Which TV panel is better VA OR IPS?\n",
            "What is the Personal Property Security Act and how is Nova Scotia's different from Alberta's?\n",
            "Which is better to learn for iOS: Swift or Objective-C?\n",
            "Is Narendra Modi obese?\n",
            "Which are the best English songs with fast music?\n",
            "What is regular expression for 'not' something?\n",
            "How effective are Physics Galaxy lectures for IIT JEE?\n"
          ]
        },
        {
          "name": "stderr",
          "output_type": "stream",
          "text": [
            "  0%|          | 1865/808580 [00:12<1:21:30, 164.94it/s]"
          ]
        },
        {
          "name": "stdout",
          "output_type": "stream",
          "text": [
            "What are the best ways to learn C#?\n",
            "How Modi is different from Hitler?\n",
            "How do you find your life's purpose?\n",
            "How do I talk with people I don't like?\n",
            "Why don't I see reptiles scratch their skin?\n",
            "What are some S rated movies in India?\n",
            "What does the Australian term \"sheila\" mean?\n",
            "Why is the implementation of Uniform Civil Code important?\n",
            "What is your review of Impractical Jokers (TV series)?\n",
            "How does heterochromia iridum (two different colored eyes) work?\n",
            "What has life taught you?\n",
            "How many questions have been asked on Quora?\n",
            "What are the pros and cons of attaching tennis balls on walkers?\n",
            "What is one pickup line that has never failed you?\n",
            "What are some references for DHL Courier?\n",
            "Why won't my iPhone connect to my home WiFi?\n",
            "What should I do to hack Snapchat messages remotely?\n",
            "What do we mean by human rights?\n",
            "Why am I so sad and lonely.?\n"
          ]
        },
        {
          "name": "stderr",
          "output_type": "stream",
          "text": [
            "  0%|          | 1899/808580 [00:12<1:21:07, 165.72it/s]"
          ]
        },
        {
          "name": "stdout",
          "output_type": "stream",
          "text": [
            "What is the company culture like at WhatsApp?\n",
            "What were the causes of the Industrial Revolution?\n",
            "What do mangoes taste like?\n",
            "What kind of economy does Switzerland have, and how is Belgium's different?\n",
            "What is your least desired cause of death?\n",
            "Is World War III coming?\n",
            "How can I get ginger scene hair?\n",
            "What happens after an offshore oil platform stops drilling?\n",
            "How do I make money on an app?\n",
            "Can I get into the university of alberta with an 82% ? (on a 33% pass scale) I am from india\n",
            "What is the Syria civil war?\n",
            "What is psychology?\n",
            "Which phone is best under 15k?\n",
            "Do you ever regret having your child?\n",
            "Are men attracted to women with gray or white hair?\n",
            "What is the best way to prepare for CA final group1 papers?\n",
            "Venture and Investor Pitches: How do I sell my product idea?\n",
            "What was the impact of Hurricane Sandy?\n",
            "Is it bad to eat sunflower seed shells?\n",
            "I can't seem to ask anything anymore. Why does Quora keep marking all my questions as needing improvement?\n"
          ]
        },
        {
          "name": "stderr",
          "output_type": "stream",
          "text": [
            "\r  0%|          | 1916/808580 [00:12<1:41:39, 132.26it/s]"
          ]
        },
        {
          "name": "stdout",
          "output_type": "stream",
          "text": [
            "What is the best joke ever heard?\n",
            "Is there any proof that there is no god?\n",
            "What is the best way to loose weight quickly?\n",
            "Do you write, take or give an exam?\n",
            "Why some answers don't have comment option?\n",
            "What are the side dishes go well with lentil soup?\n",
            "What are the best available technology gadgets?\n",
            "Where is God?\n",
            "What is VAT (Value Added Tax)?\n",
            "Why do Java programmers wear glasses?\n",
            "How can I speed up my Internet connection?\n",
            "How do I delete messages on snapchat that the other person has saved?\n",
            "What are the best Greek restaurants in NYC?\n",
            "How do I find my cell phone number?\n"
          ]
        },
        {
          "name": "stderr",
          "output_type": "stream",
          "text": [
            "\r  0%|          | 1931/808580 [00:12<2:10:37, 102.92it/s]"
          ]
        },
        {
          "name": "stdout",
          "output_type": "stream",
          "text": [
            "How does the ban on 500/1000 denominations affect various domains of the Indian economy?\n",
            "Is buying WoW gold safe?\n",
            "Which one is better IBM GBS or TCS BPS?\n",
            "How can India justify keeping Kashmiris hostage for satisfying collective conscience of the jingoists?\n"
          ]
        },
        {
          "name": "stderr",
          "output_type": "stream",
          "text": [
            "\r  0%|          | 1941/808580 [00:12<1:28:50, 151.32it/s]"
          ]
        },
        {
          "name": "stdout",
          "output_type": "stream",
          "text": [
            "Which are the best free app downloading sites?\n",
            "Is it possible to permanently delete a Quora question?\n",
            "What are the pros and cons of client server network?\n"
          ]
        },
        {
          "name": "stderr",
          "output_type": "stream",
          "text": [
            "\n"
          ]
        },
        {
          "ename": "KeyboardInterrupt",
          "evalue": "ignored",
          "output_type": "error",
          "traceback": [
            "\u001b[0;31m---------------------------------------------------------------------------\u001b[0m",
            "\u001b[0;31mKeyboardInterrupt\u001b[0m                         Traceback (most recent call last)",
            "\u001b[0;32m<ipython-input-31-f85286d7f3e8>\u001b[0m in \u001b[0;36m<module>\u001b[0;34m\u001b[0m\n\u001b[1;32m      3\u001b[0m   \u001b[0madc\u001b[0m \u001b[0;34m=\u001b[0m \u001b[0mtfidf_vect\u001b[0m\u001b[0;34m.\u001b[0m\u001b[0mtransform\u001b[0m\u001b[0;34m(\u001b[0m\u001b[0;34m[\u001b[0m\u001b[0mi\u001b[0m\u001b[0;34m]\u001b[0m\u001b[0;34m)\u001b[0m\u001b[0;34m\u001b[0m\u001b[0;34m\u001b[0m\u001b[0m\n\u001b[1;32m      4\u001b[0m   \u001b[0mx\u001b[0m\u001b[0;34m=\u001b[0m\u001b[0mscipy\u001b[0m\u001b[0;34m.\u001b[0m\u001b[0msparse\u001b[0m\u001b[0;34m.\u001b[0m\u001b[0mhstack\u001b[0m\u001b[0;34m(\u001b[0m\u001b[0;34m(\u001b[0m\u001b[0mabc\u001b[0m\u001b[0;34m,\u001b[0m\u001b[0madc\u001b[0m\u001b[0;34m)\u001b[0m\u001b[0;34m)\u001b[0m\u001b[0;34m\u001b[0m\u001b[0;34m\u001b[0m\u001b[0m\n\u001b[0;32m----> 5\u001b[0;31m   \u001b[0;32mif\u001b[0m \u001b[0mloaded_model\u001b[0m\u001b[0;34m.\u001b[0m\u001b[0mpredict\u001b[0m\u001b[0;34m(\u001b[0m\u001b[0mx\u001b[0m\u001b[0;34m)\u001b[0m\u001b[0;34m==\u001b[0m\u001b[0;36m1\u001b[0m\u001b[0;34m:\u001b[0m\u001b[0;34m\u001b[0m\u001b[0;34m\u001b[0m\u001b[0m\n\u001b[0m\u001b[1;32m      6\u001b[0m     \u001b[0mprint\u001b[0m\u001b[0;34m(\u001b[0m\u001b[0mi\u001b[0m\u001b[0;34m)\u001b[0m\u001b[0;34m\u001b[0m\u001b[0;34m\u001b[0m\u001b[0m\n",
            "\u001b[0;32m/usr/local/lib/python3.7/dist-packages/xgboost/sklearn.py\u001b[0m in \u001b[0;36mpredict\u001b[0;34m(self, data, output_margin, ntree_limit, validate_features)\u001b[0m\n\u001b[1;32m    789\u001b[0m                                                  \u001b[0moutput_margin\u001b[0m\u001b[0;34m=\u001b[0m\u001b[0moutput_margin\u001b[0m\u001b[0;34m,\u001b[0m\u001b[0;34m\u001b[0m\u001b[0;34m\u001b[0m\u001b[0m\n\u001b[1;32m    790\u001b[0m                                                  \u001b[0mntree_limit\u001b[0m\u001b[0;34m=\u001b[0m\u001b[0mntree_limit\u001b[0m\u001b[0;34m,\u001b[0m\u001b[0;34m\u001b[0m\u001b[0;34m\u001b[0m\u001b[0m\n\u001b[0;32m--> 791\u001b[0;31m                                                  validate_features=validate_features)\n\u001b[0m\u001b[1;32m    792\u001b[0m         \u001b[0;32mif\u001b[0m \u001b[0moutput_margin\u001b[0m\u001b[0;34m:\u001b[0m\u001b[0;34m\u001b[0m\u001b[0;34m\u001b[0m\u001b[0m\n\u001b[1;32m    793\u001b[0m             \u001b[0;31m# If output_margin is active, simply return the scores\u001b[0m\u001b[0;34m\u001b[0m\u001b[0;34m\u001b[0m\u001b[0;34m\u001b[0m\u001b[0m\n",
            "\u001b[0;32m/usr/local/lib/python3.7/dist-packages/xgboost/core.py\u001b[0m in \u001b[0;36mpredict\u001b[0;34m(self, data, output_margin, ntree_limit, pred_leaf, pred_contribs, approx_contribs, pred_interactions, validate_features)\u001b[0m\n\u001b[1;32m   1282\u001b[0m \u001b[0;34m\u001b[0m\u001b[0m\n\u001b[1;32m   1283\u001b[0m         \u001b[0;32mif\u001b[0m \u001b[0mvalidate_features\u001b[0m\u001b[0;34m:\u001b[0m\u001b[0;34m\u001b[0m\u001b[0;34m\u001b[0m\u001b[0m\n\u001b[0;32m-> 1284\u001b[0;31m             \u001b[0mself\u001b[0m\u001b[0;34m.\u001b[0m\u001b[0m_validate_features\u001b[0m\u001b[0;34m(\u001b[0m\u001b[0mdata\u001b[0m\u001b[0;34m)\u001b[0m\u001b[0;34m\u001b[0m\u001b[0;34m\u001b[0m\u001b[0m\n\u001b[0m\u001b[1;32m   1285\u001b[0m \u001b[0;34m\u001b[0m\u001b[0m\n\u001b[1;32m   1286\u001b[0m         \u001b[0mlength\u001b[0m \u001b[0;34m=\u001b[0m \u001b[0mc_bst_ulong\u001b[0m\u001b[0;34m(\u001b[0m\u001b[0;34m)\u001b[0m\u001b[0;34m\u001b[0m\u001b[0;34m\u001b[0m\u001b[0m\n",
            "\u001b[0;32m/usr/local/lib/python3.7/dist-packages/xgboost/core.py\u001b[0m in \u001b[0;36m_validate_features\u001b[0;34m(self, data)\u001b[0m\n\u001b[1;32m   1673\u001b[0m         \u001b[0;32melse\u001b[0m\u001b[0;34m:\u001b[0m\u001b[0;34m\u001b[0m\u001b[0;34m\u001b[0m\u001b[0m\n\u001b[1;32m   1674\u001b[0m             \u001b[0;31m# Booster can't accept data with different feature names\u001b[0m\u001b[0;34m\u001b[0m\u001b[0;34m\u001b[0m\u001b[0;34m\u001b[0m\u001b[0m\n\u001b[0;32m-> 1675\u001b[0;31m             \u001b[0;32mif\u001b[0m \u001b[0mself\u001b[0m\u001b[0;34m.\u001b[0m\u001b[0mfeature_names\u001b[0m \u001b[0;34m!=\u001b[0m \u001b[0mdata\u001b[0m\u001b[0;34m.\u001b[0m\u001b[0mfeature_names\u001b[0m\u001b[0;34m:\u001b[0m\u001b[0;34m\u001b[0m\u001b[0;34m\u001b[0m\u001b[0m\n\u001b[0m\u001b[1;32m   1676\u001b[0m                 \u001b[0mdat_missing\u001b[0m \u001b[0;34m=\u001b[0m \u001b[0mset\u001b[0m\u001b[0;34m(\u001b[0m\u001b[0mself\u001b[0m\u001b[0;34m.\u001b[0m\u001b[0mfeature_names\u001b[0m\u001b[0;34m)\u001b[0m \u001b[0;34m-\u001b[0m \u001b[0mset\u001b[0m\u001b[0;34m(\u001b[0m\u001b[0mdata\u001b[0m\u001b[0;34m.\u001b[0m\u001b[0mfeature_names\u001b[0m\u001b[0;34m)\u001b[0m\u001b[0;34m\u001b[0m\u001b[0;34m\u001b[0m\u001b[0m\n\u001b[1;32m   1677\u001b[0m                 \u001b[0mmy_missing\u001b[0m \u001b[0;34m=\u001b[0m \u001b[0mset\u001b[0m\u001b[0;34m(\u001b[0m\u001b[0mdata\u001b[0m\u001b[0;34m.\u001b[0m\u001b[0mfeature_names\u001b[0m\u001b[0;34m)\u001b[0m \u001b[0;34m-\u001b[0m \u001b[0mset\u001b[0m\u001b[0;34m(\u001b[0m\u001b[0mself\u001b[0m\u001b[0;34m.\u001b[0m\u001b[0mfeature_names\u001b[0m\u001b[0;34m)\u001b[0m\u001b[0;34m\u001b[0m\u001b[0;34m\u001b[0m\u001b[0m\n",
            "\u001b[0;32m/usr/local/lib/python3.7/dist-packages/xgboost/core.py\u001b[0m in \u001b[0;36mfeature_names\u001b[0;34m(self)\u001b[0m\n\u001b[1;32m    827\u001b[0m         \"\"\"\n\u001b[1;32m    828\u001b[0m         \u001b[0;32mif\u001b[0m \u001b[0mself\u001b[0m\u001b[0;34m.\u001b[0m\u001b[0m_feature_names\u001b[0m \u001b[0;32mis\u001b[0m \u001b[0;32mNone\u001b[0m\u001b[0;34m:\u001b[0m\u001b[0;34m\u001b[0m\u001b[0;34m\u001b[0m\u001b[0m\n\u001b[0;32m--> 829\u001b[0;31m             \u001b[0mself\u001b[0m\u001b[0;34m.\u001b[0m\u001b[0m_feature_names\u001b[0m \u001b[0;34m=\u001b[0m \u001b[0;34m[\u001b[0m\u001b[0;34m'f{0}'\u001b[0m\u001b[0;34m.\u001b[0m\u001b[0mformat\u001b[0m\u001b[0;34m(\u001b[0m\u001b[0mi\u001b[0m\u001b[0;34m)\u001b[0m \u001b[0;32mfor\u001b[0m \u001b[0mi\u001b[0m \u001b[0;32min\u001b[0m \u001b[0mrange\u001b[0m\u001b[0;34m(\u001b[0m\u001b[0mself\u001b[0m\u001b[0;34m.\u001b[0m\u001b[0mnum_col\u001b[0m\u001b[0;34m(\u001b[0m\u001b[0;34m)\u001b[0m\u001b[0;34m)\u001b[0m\u001b[0;34m]\u001b[0m\u001b[0;34m\u001b[0m\u001b[0;34m\u001b[0m\u001b[0m\n\u001b[0m\u001b[1;32m    830\u001b[0m         \u001b[0;32mreturn\u001b[0m \u001b[0mself\u001b[0m\u001b[0;34m.\u001b[0m\u001b[0m_feature_names\u001b[0m\u001b[0;34m\u001b[0m\u001b[0;34m\u001b[0m\u001b[0m\n\u001b[1;32m    831\u001b[0m \u001b[0;34m\u001b[0m\u001b[0m\n",
            "\u001b[0;32m/usr/local/lib/python3.7/dist-packages/xgboost/core.py\u001b[0m in \u001b[0;36m<listcomp>\u001b[0;34m(.0)\u001b[0m\n\u001b[1;32m    827\u001b[0m         \"\"\"\n\u001b[1;32m    828\u001b[0m         \u001b[0;32mif\u001b[0m \u001b[0mself\u001b[0m\u001b[0;34m.\u001b[0m\u001b[0m_feature_names\u001b[0m \u001b[0;32mis\u001b[0m \u001b[0;32mNone\u001b[0m\u001b[0;34m:\u001b[0m\u001b[0;34m\u001b[0m\u001b[0;34m\u001b[0m\u001b[0m\n\u001b[0;32m--> 829\u001b[0;31m             \u001b[0mself\u001b[0m\u001b[0;34m.\u001b[0m\u001b[0m_feature_names\u001b[0m \u001b[0;34m=\u001b[0m \u001b[0;34m[\u001b[0m\u001b[0;34m'f{0}'\u001b[0m\u001b[0;34m.\u001b[0m\u001b[0mformat\u001b[0m\u001b[0;34m(\u001b[0m\u001b[0mi\u001b[0m\u001b[0;34m)\u001b[0m \u001b[0;32mfor\u001b[0m \u001b[0mi\u001b[0m \u001b[0;32min\u001b[0m \u001b[0mrange\u001b[0m\u001b[0;34m(\u001b[0m\u001b[0mself\u001b[0m\u001b[0;34m.\u001b[0m\u001b[0mnum_col\u001b[0m\u001b[0;34m(\u001b[0m\u001b[0;34m)\u001b[0m\u001b[0;34m)\u001b[0m\u001b[0;34m]\u001b[0m\u001b[0;34m\u001b[0m\u001b[0;34m\u001b[0m\u001b[0m\n\u001b[0m\u001b[1;32m    830\u001b[0m         \u001b[0;32mreturn\u001b[0m \u001b[0mself\u001b[0m\u001b[0;34m.\u001b[0m\u001b[0m_feature_names\u001b[0m\u001b[0;34m\u001b[0m\u001b[0;34m\u001b[0m\u001b[0m\n\u001b[1;32m    831\u001b[0m \u001b[0;34m\u001b[0m\u001b[0m\n",
            "\u001b[0;31mKeyboardInterrupt\u001b[0m: "
          ]
        }
      ],
      "source": [
        "abc = tfidf_vect.transform([\"Who would be better for India, Donald Trump or Hillary Clinton?\"])\n",
        "for i in tqdm(question):\n",
        "  adc = tfidf_vect.transform([i])\n",
        "  x=scipy.sparse.hstack((abc,adc))\n",
        "  if loaded_model.predict(x)==1:\n",
        "    print(i)"
      ]
    },
    {
      "cell_type": "code",
      "execution_count": null,
      "metadata": {
        "id": "hr0BVfZbFyhX"
      },
      "outputs": [],
      "source": [
        "abc = tfidf_vect.transform([\"How can i grow my muscles\"])\n",
        "adc = tfidf_vect.transform([\"\"])\n",
        "x=scipy.sparse.hstack((abc,adc))"
      ]
    },
    {
      "cell_type": "code",
      "execution_count": null,
      "metadata": {
        "colab": {
          "base_uri": "https://localhost:8080/"
        },
        "id": "j1YWr2DNNls9",
        "outputId": "6bbe7402-a1b3-4f41-825d-4d3ed2e8b9f0"
      },
      "outputs": [
        {
          "name": "stdout",
          "output_type": "stream",
          "text": [
            "  (0, 2976)\t0.2796941223694729\n",
            "  (0, 2968)\t0.6907832715552056\n",
            "  (0, 2179)\t0.1979886038778618\n",
            "  (0, 2162)\t0.18487849999298397\n",
            "  (0, 1996)\t0.5631868257286617\n",
            "  (0, 748)\t0.2324450944889363\n",
            "(1, 5000)\n",
            "(1, 5000)\n"
          ]
        }
      ],
      "source": [
        "print(abc)\n",
        "print(abc.shape)\n",
        "print(adc.shape)"
      ]
    },
    {
      "cell_type": "code",
      "execution_count": null,
      "metadata": {
        "colab": {
          "base_uri": "https://localhost:8080/"
        },
        "id": "JqO3clNEGGlu",
        "outputId": "2292ede5-724f-4eb9-86cd-bf3ff80fdfb8"
      },
      "outputs": [
        {
          "name": "stdout",
          "output_type": "stream",
          "text": [
            "(1, 10000)\n"
          ]
        }
      ],
      "source": [
        "x=scipy.sparse.hstack((abc,adc))\n",
        "print(x.shape)"
      ]
    },
    {
      "cell_type": "code",
      "execution_count": null,
      "metadata": {
        "colab": {
          "base_uri": "https://localhost:8080/"
        },
        "id": "5YsqXxpaF_mK",
        "outputId": "ccd14113-965f-48fb-bab7-84e997515e37"
      },
      "outputs": [
        {
          "name": "stdout",
          "output_type": "stream",
          "text": [
            "[1]\n"
          ]
        }
      ],
      "source": [
        "result=loaded_model.predict(x)\n",
        "print(result)"
      ]
    },
    {
      "attachments": {},
      "cell_type": "markdown",
      "metadata": {
        "id": "N-mQQ4mQhUE9"
      },
      "source": [
        "## Random Forest"
      ]
    },
    {
      "cell_type": "code",
      "execution_count": null,
      "metadata": {
        "id": "8GxPRrMUyUc3"
      },
      "outputs": [],
      "source": [
        "tfidf_vect = TfidfVectorizer(analyzer='word', token_pattern=r'\\w{1,}', max_features=5000)\n",
        "tfidf_vect.fit(pd.concat((df['question1'],df['question2'])).unique())\n",
        "trainq1_trans = tfidf_vect.transform(df['question1'].values)\n",
        "trainq2_trans = tfidf_vect.transform(df['question2'].values)\n",
        "labels = df['is_duplicate'].values\n",
        "X = scipy.sparse.hstack((trainq1_trans,trainq2_trans))\n",
        "y = labels\n",
        "X_train,X_valid,y_train,y_valid = train_test_split(X,y, test_size = 0.33, random_state = 42)\n",
        "\n",
        "clf = RandomForestClassifier(n_estimators=80).fit(X_train,y_train)\n",
        "adb = clf.predict(X_valid)\n",
        "print('word level tf-idf validation score:', f1_score(y_valid, clf.predict(X_valid), average='macro'))"
      ]
    },
    {
      "cell_type": "code",
      "execution_count": null,
      "metadata": {
        "colab": {
          "base_uri": "https://localhost:8080/"
        },
        "id": "lUsZy7dc0Xtj",
        "outputId": "41cb47c4-aee7-465a-b9a4-4b9f45741f94"
      },
      "outputs": [
        {
          "name": "stdout",
          "output_type": "stream",
          "text": [
            "0.8020402350542664\n",
            "              precision    recall  f1-score   support\n",
            "\n",
            "           0       0.79      0.93      0.86     83975\n",
            "           1       0.83      0.58      0.69     49441\n",
            "\n",
            "    accuracy                           0.80    133416\n",
            "   macro avg       0.81      0.76      0.77    133416\n",
            "weighted avg       0.81      0.80      0.79    133416\n",
            "\n"
          ]
        }
      ],
      "source": [
        "from sklearn.metrics import f1_score, classification_report, accuracy_score\n",
        "print(accuracy_score(y_valid,adb))\n",
        "print(classification_report(y_valid,adb))"
      ]
    },
    {
      "cell_type": "code",
      "execution_count": null,
      "metadata": {
        "id": "x_v0nJsOQ-_G"
      },
      "outputs": [],
      "source": [
        "import pickle\n",
        "filename = '/content/drive/MyDrive/Capstone Project/Randomreg_tf_idf_model.sav'\n",
        "pickle.dump(clf, open(filename, 'wb'))"
      ]
    },
    {
      "cell_type": "code",
      "execution_count": null,
      "metadata": {
        "id": "w1nmgE3ODxa6"
      },
      "outputs": [],
      "source": [
        "tfidf_vect = TfidfVectorizer(analyzer='word', token_pattern=r'\\w{1,}', max_features=5000)\n",
        "tfidf_vect.fit(pd.concat((df['question1'],df['question2'])).unique())\n",
        "trainq1_trans = tfidf_vect.transform(df['question1'].values)\n",
        "trainq2_trans = tfidf_vect.transform(df['question2'].values)\n",
        "labels = df['is_duplicate'].values\n",
        "X = scipy.sparse.hstack((trainq1_trans,trainq2_trans))\n",
        "y = labels\n",
        "X_train,X_valid,y_train,y_valid = train_test_split(X,y, test_size = 0.33, random_state = 42)"
      ]
    },
    {
      "cell_type": "code",
      "execution_count": null,
      "metadata": {
        "colab": {
          "base_uri": "https://localhost:8080/"
        },
        "id": "Sf3HodVTaVvL",
        "outputId": "8ecf2bf0-5ba0-4231-8f37-4826894dd978"
      },
      "outputs": [
        {
          "data": {
            "text/plain": [
              "TfidfVectorizer(max_features=5000, token_pattern='\\\\w{1,}')"
            ]
          },
          "execution_count": 8,
          "metadata": {},
          "output_type": "execute_result"
        }
      ],
      "source": [
        "tfidf_vect = TfidfVectorizer(analyzer='word', token_pattern=r'\\w{1,}', max_features=5000)\n",
        "tfidf_vect.fit(pd.concat((df['question1'],df['question2'])).unique())"
      ]
    },
    {
      "cell_type": "code",
      "execution_count": null,
      "metadata": {
        "id": "vpf7q3PeVsyw"
      },
      "outputs": [],
      "source": [
        "import pickle\n",
        "filename = '/content/drive/MyDrive/Capstone Project/Random_tf_idf_model.sav'\n",
        "loaded_model = pickle.load(open(filename, 'rb'))"
      ]
    },
    {
      "cell_type": "code",
      "execution_count": null,
      "metadata": {
        "id": "-_NcaZYDV2ML"
      },
      "outputs": [],
      "source": [
        "abc = tfidf_vect.transform([\"What is the story of Kohinoor (Koh-i-Noor) Diamond?\"])\n",
        "adc = tfidf_vect.transform([\"who stole Kohinoor\"])\n",
        "x=scipy.sparse.hstack((abc,adc))"
      ]
    },
    {
      "cell_type": "code",
      "execution_count": null,
      "metadata": {
        "id": "TpIsPblzGlBA"
      },
      "outputs": [],
      "source": [
        "# print(abc)\n",
        "# print(adc)"
      ]
    },
    {
      "cell_type": "code",
      "execution_count": null,
      "metadata": {
        "colab": {
          "base_uri": "https://localhost:8080/"
        },
        "id": "4Mn6vbViVtr-",
        "outputId": "3550cb38-9862-4029-d23e-3106fe90eb46"
      },
      "outputs": [
        {
          "name": "stdout",
          "output_type": "stream",
          "text": [
            "[0]\n"
          ]
        }
      ],
      "source": [
        "result=loaded_model.predict(x)\n",
        "# print(type(result))\n",
        "print(result)"
      ]
    },
    {
      "cell_type": "code",
      "execution_count": null,
      "metadata": {
        "colab": {
          "base_uri": "https://localhost:8080/"
        },
        "id": "f-BCmldjEhlF",
        "outputId": "0d46d315-cb94-4fff-d1e0-2f2cae14b533"
      },
      "outputs": [
        {
          "name": "stdout",
          "output_type": "stream",
          "text": [
            "What is the step by step guide to invest in share market?\n"
          ]
        }
      ],
      "source": [
        "question = list(df['question2']) + list(df['question1'])\n",
        "print(question[0])"
      ]
    },
    {
      "cell_type": "code",
      "execution_count": null,
      "metadata": {
        "id": "VQAmE4oaF5lG"
      },
      "outputs": [],
      "source": [
        "abc = tfidf_vect.transform([\"Who will win the election? Donald Trump or Hillary Clinton?\"])\n",
        "for i in tqdm(question):\n",
        "  adc = tfidf_vect.transform([i])\n",
        "  x=scipy.sparse.hstack((abc,adc))\n",
        "  if loaded_model.predict(x)==1:\n",
        "    print(i)"
      ]
    },
    {
      "cell_type": "code",
      "execution_count": null,
      "metadata": {
        "colab": {
          "base_uri": "https://localhost:8080/"
        },
        "id": "RPdDbWH2GI_T",
        "outputId": "d4dc9dbd-33d4-4e8c-ce44-86e883f8ff78"
      },
      "outputs": [
        {
          "name": "stdout",
          "output_type": "stream",
          "text": [
            "  (0, 4988)\t0.20749418915035034\n",
            "  (0, 4880)\t0.09336759583274874\n",
            "  (0, 4770)\t0.3681885585546609\n",
            "  (0, 3848)\t0.3992635153498606\n",
            "  (0, 3130)\t0.1774574599331089\n",
            "  (0, 3105)\t0.12846408910157217\n",
            "  (0, 3070)\t0.34335636961859145\n",
            "  (0, 2258)\t0.21165653119667063\n",
            "  (0, 2243)\t0.1177790326312508\n",
            "  (0, 483)\t0.39588862658062457\n",
            "  (0, 355)\t0.1316904085058218\n",
            "  (0, 287)\t0.13877848377940755\n",
            "  (0, 76)\t0.34150415770363646\n",
            "  (0, 7)\t0.3445890334613565\n"
          ]
        }
      ],
      "source": [
        "print(tfidf_vect.transform([\"What are your views on ban of 500 and 1000 rupee notes in India?\"]))"
      ]
    },
    {
      "attachments": {},
      "cell_type": "markdown",
      "metadata": {
        "id": "Sc4wPzOhNQhQ"
      },
      "source": [
        "## AdaBoost"
      ]
    },
    {
      "cell_type": "code",
      "execution_count": null,
      "metadata": {
        "id": "sw-pQ7Fe8gta"
      },
      "outputs": [],
      "source": [
        "Ada_model = AdaBoostClassifier(base_estimator=DecisionTreeClassifier(),n_estimators=80).fit(X_train, y_train) \n",
        "Ada_prediction = Ada_model.predict(X_valid)"
      ]
    },
    {
      "cell_type": "code",
      "execution_count": null,
      "metadata": {
        "colab": {
          "base_uri": "https://localhost:8080/"
        },
        "id": "Vo0v4aARN4kq",
        "outputId": "f17058b7-780e-4b78-f617-080a009fe1b8"
      },
      "outputs": [
        {
          "name": "stdout",
          "output_type": "stream",
          "text": [
            "0.7239911255021887\n",
            "              precision    recall  f1-score   support\n",
            "\n",
            "           0       0.79      0.76      0.78     83975\n",
            "           1       0.62      0.67      0.64     49441\n",
            "\n",
            "    accuracy                           0.72    133416\n",
            "   macro avg       0.71      0.71      0.71    133416\n",
            "weighted avg       0.73      0.72      0.73    133416\n",
            "\n"
          ]
        }
      ],
      "source": [
        "print(accuracy_score(y_valid,Ada_prediction))\n",
        "print(classification_report(y_valid,Ada_prediction))"
      ]
    },
    {
      "attachments": {},
      "cell_type": "markdown",
      "metadata": {
        "id": "Fz7d6rMBZPE1"
      },
      "source": [
        "# **Word2vector**"
      ]
    },
    {
      "cell_type": "code",
      "execution_count": null,
      "metadata": {
        "id": "vO4fy0Njlpcw"
      },
      "outputs": [],
      "source": [
        "import gensim\n",
        "from gensim.models import Word2Vec\n",
        "import multiprocessing\n",
        "\n",
        "\n",
        "csv_path = \"/content/drive/MyDrive/FYP/Hotel_Reviews.csv\" #random dataset\n",
        "\n",
        "df1 = pd.read_csv(csv_path)"
      ]
    },
    {
      "cell_type": "code",
      "execution_count": null,
      "metadata": {
        "id": "sRia46erlqu0"
      },
      "outputs": [],
      "source": [
        "df1.head()"
      ]
    },
    {
      "cell_type": "code",
      "execution_count": null,
      "metadata": {
        "id": "OC0ZLEOdltDr"
      },
      "outputs": [],
      "source": [
        "df1.Description"
      ]
    },
    {
      "cell_type": "code",
      "execution_count": null,
      "metadata": {
        "id": "jze1aiBDluCq"
      },
      "outputs": [],
      "source": [
        "def remover(text):  #function for removing the Stop words\n",
        "  text_t = text.split(\" \")  \n",
        "  l2 = [words.lower() for words in text_t if words not in STOP_WORDS]\n",
        "  return l2;"
      ]
    },
    {
      "cell_type": "code",
      "execution_count": null,
      "metadata": {
        "id": "sW3xFFJlnER_"
      },
      "outputs": [],
      "source": [
        "Description = df1.Description.apply(remover)\n",
        "Description2 = df1.Description.apply(gensim.utils.simple_preprocess)\n",
        "print(Description[0])\n",
        "print(Description2[0])"
      ]
    },
    {
      "cell_type": "code",
      "execution_count": null,
      "metadata": {
        "id": "d-6yybsaofkq"
      },
      "outputs": [],
      "source": [
        "cores = multiprocessing.cpu_count()\n",
        "print(cores)\n",
        "model_sample = Word2Vec(window=5,min_count=4,workers = cores-1)\n",
        "print(model_sample)"
      ]
    },
    {
      "cell_type": "code",
      "execution_count": null,
      "metadata": {
        "id": "MxYFXcIVofiU"
      },
      "outputs": [],
      "source": [
        "model_sample.build_vocab(Description,progress_per=1000)"
      ]
    },
    {
      "cell_type": "code",
      "execution_count": null,
      "metadata": {
        "id": "BHi_Bv_XofgO"
      },
      "outputs": [],
      "source": [
        "print(model_sample)\n",
        "model_sample.epochs"
      ]
    },
    {
      "cell_type": "code",
      "execution_count": null,
      "metadata": {
        "id": "V6DfxCCdofdM"
      },
      "outputs": [],
      "source": [
        "model_sample.train(Description,total_examples=model_sample.corpus_count,epochs=10)"
      ]
    },
    {
      "cell_type": "code",
      "execution_count": null,
      "metadata": {
        "id": "-GubNYJ-ofbO"
      },
      "outputs": [],
      "source": [
        "model_sample.wv.most_similar(\"bad\")"
      ]
    },
    {
      "attachments": {},
      "cell_type": "markdown",
      "metadata": {
        "id": "dSw3WUDoy6ob"
      },
      "source": [
        "### Main DataSet"
      ]
    },
    {
      "cell_type": "code",
      "execution_count": null,
      "metadata": {
        "id": "23povEdUsQDa"
      },
      "outputs": [],
      "source": [
        "question = list(df['question1'])"
      ]
    },
    {
      "attachments": {},
      "cell_type": "markdown",
      "metadata": {
        "id": "C_kj_45j4ITy"
      },
      "source": [
        "Using Stop_words list for preprocessing"
      ]
    },
    {
      "cell_type": "code",
      "execution_count": null,
      "metadata": {
        "id": "fHvFIC7G1Osv"
      },
      "outputs": [],
      "source": [
        "def clean_data(text):\n",
        "    text = re.sub(r'[^ \\nA-Za-z0-9À-ÖØ-öø-ÿ/]+', '', text)\n",
        "    text = re.sub(r'[\\\\/×\\^\\]\\[÷]', '', text)\n",
        "    return text"
      ]
    },
    {
      "cell_type": "code",
      "execution_count": null,
      "metadata": {
        "id": "K7xMdSQhyVws"
      },
      "outputs": [],
      "source": [
        "questions= []\n",
        "for ques in question:\n",
        "  ques = clean_data(ques)\n",
        "  questions.append(remover(ques))\n"
      ]
    },
    {
      "cell_type": "code",
      "execution_count": null,
      "metadata": {
        "id": "TEvfUGPazmUQ"
      },
      "outputs": [],
      "source": [
        "print(questions[1:10])"
      ]
    },
    {
      "cell_type": "code",
      "execution_count": null,
      "metadata": {
        "id": "Ie9WfkwvyVuU"
      },
      "outputs": [],
      "source": [
        "cores = multiprocessing.cpu_count()\n",
        "print(cores)\n",
        "model1 = Word2Vec(window=5,min_count=4,workers = cores-1)\n",
        "print(model1)"
      ]
    },
    {
      "cell_type": "code",
      "execution_count": null,
      "metadata": {
        "id": "GF_OmFJFyVpt"
      },
      "outputs": [],
      "source": [
        "model1.build_vocab(questions,progress_per=10000)\n",
        "print(model1)\n",
        "model1.epochs"
      ]
    },
    {
      "cell_type": "code",
      "execution_count": null,
      "metadata": {
        "id": "570YggaTyVmt"
      },
      "outputs": [],
      "source": [
        "model1.train(questions,total_examples=model1.corpus_count,epochs=5)"
      ]
    },
    {
      "cell_type": "code",
      "execution_count": null,
      "metadata": {
        "id": "GKPNkYBazth5"
      },
      "outputs": [],
      "source": [
        "model1.wv.most_similar(\"bad\")"
      ]
    },
    {
      "cell_type": "code",
      "execution_count": null,
      "metadata": {
        "id": "AjkHLSMnz-WJ"
      },
      "outputs": [],
      "source": [
        "model1.wv.similarity(w1=\"bad\",w2=\"good\")"
      ]
    },
    {
      "cell_type": "code",
      "execution_count": null,
      "metadata": {
        "id": "rC34AUcq0hLP"
      },
      "outputs": [],
      "source": [
        "model1.wv.similarity(w1=\"bad\",w2=\"bad\")"
      ]
    },
    {
      "cell_type": "code",
      "execution_count": null,
      "metadata": {
        "id": "5JZJ962f0i3N"
      },
      "outputs": [],
      "source": [
        "model1.wv.similarity(w1=\"bad\",w2=\"horrible\")"
      ]
    },
    {
      "attachments": {},
      "cell_type": "markdown",
      "metadata": {
        "id": "ADLhnygr3-jL"
      },
      "source": [
        "### Using in Built Preprocesser"
      ]
    },
    {
      "cell_type": "code",
      "execution_count": null,
      "metadata": {
        "id": "fZVJnV8z2nPH"
      },
      "outputs": [],
      "source": [
        "question2=[]\n",
        "for ques in question:\n",
        "  question2.append(gensim.utils.simple_preprocess(ques))"
      ]
    },
    {
      "cell_type": "code",
      "execution_count": null,
      "metadata": {
        "id": "lx9MUCr50mDe"
      },
      "outputs": [],
      "source": [
        "print(question2[1:10])"
      ]
    },
    {
      "cell_type": "code",
      "execution_count": null,
      "metadata": {
        "id": "ybXqwlKL24-u"
      },
      "outputs": [],
      "source": [
        "cores = multiprocessing.cpu_count()\n",
        "print(cores)\n",
        "model2 = Word2Vec(window=5,min_count=4,workers = cores-1)\n",
        "print(model2)"
      ]
    },
    {
      "cell_type": "code",
      "execution_count": null,
      "metadata": {
        "id": "y6AGhNl429T8"
      },
      "outputs": [],
      "source": [
        "model2.build_vocab(question2,progress_per=10000)\n",
        "print(model2)\n",
        "model2.epochs"
      ]
    },
    {
      "cell_type": "code",
      "execution_count": null,
      "metadata": {
        "id": "NLHAmv6d29Q_"
      },
      "outputs": [],
      "source": [
        "model2.train(question2,total_examples=model2.corpus_count,epochs=5)"
      ]
    },
    {
      "cell_type": "code",
      "execution_count": null,
      "metadata": {
        "id": "H3eGh2jD29ON"
      },
      "outputs": [],
      "source": [
        "model2.wv.most_similar(\"bad\")"
      ]
    },
    {
      "cell_type": "code",
      "execution_count": null,
      "metadata": {
        "id": "Hv2PiE-Z29LE"
      },
      "outputs": [],
      "source": [
        "model2.wv.similarity(w1=\"bad\",w2=\"good\")"
      ]
    },
    {
      "cell_type": "code",
      "execution_count": null,
      "metadata": {
        "id": "_KxlikEo29IY"
      },
      "outputs": [],
      "source": [
        "model2.wv.similarity(w1=\"bad\",w2=\"bad\")"
      ]
    },
    {
      "attachments": {},
      "cell_type": "markdown",
      "metadata": {
        "id": "68PWxg4SlJwI"
      },
      "source": [
        "### **Using Skip-Gram**"
      ]
    },
    {
      "cell_type": "code",
      "execution_count": null,
      "metadata": {
        "colab": {
          "base_uri": "https://localhost:8080/"
        },
        "id": "02shKh4N29Dv",
        "outputId": "c09aa2bb-5911-4f9e-a264-175542614e6b"
      },
      "outputs": [
        {
          "name": "stdout",
          "output_type": "stream",
          "text": [
            "2\n",
            "Word2Vec(vocab=0, size=100, alpha=0.025)\n"
          ]
        }
      ],
      "source": [
        "cores = multiprocessing.cpu_count()\n",
        "print(cores)\n",
        "model_sg = Word2Vec(window=5,min_count=4,workers = cores-1,sg=3)\n",
        "print(model_sg)"
      ]
    },
    {
      "cell_type": "code",
      "execution_count": null,
      "metadata": {
        "colab": {
          "base_uri": "https://localhost:8080/"
        },
        "id": "jLLBFzb729BV",
        "outputId": "a7bbb51c-5e35-430f-eb2a-9a1faf4167b0"
      },
      "outputs": [
        {
          "name": "stdout",
          "output_type": "stream",
          "text": [
            "Word2Vec(vocab=26440, size=100, alpha=0.025)\n"
          ]
        },
        {
          "data": {
            "text/plain": [
              "5"
            ]
          },
          "execution_count": 48,
          "metadata": {},
          "output_type": "execute_result"
        }
      ],
      "source": [
        "model_sg.build_vocab(questions,progress_per=10000)\n",
        "print(model_sg)\n",
        "model_sg.epochs"
      ]
    },
    {
      "cell_type": "code",
      "execution_count": null,
      "metadata": {
        "colab": {
          "base_uri": "https://localhost:8080/"
        },
        "id": "Abv1IWPo28-M",
        "outputId": "350803d0-a1dc-4b99-e303-6b223edb8c8c"
      },
      "outputs": [
        {
          "data": {
            "text/plain": [
              "(9129460, 11032116)"
            ]
          },
          "execution_count": 49,
          "metadata": {},
          "output_type": "execute_result"
        }
      ],
      "source": [
        "model_sg.train(questions,total_examples=model_sg.corpus_count,epochs=4)"
      ]
    },
    {
      "cell_type": "code",
      "execution_count": null,
      "metadata": {
        "id": "fPCDrEvVlGIi"
      },
      "outputs": [],
      "source": [
        "model_sg.wv.most_similar(\"bad\")"
      ]
    },
    {
      "cell_type": "code",
      "execution_count": null,
      "metadata": {
        "id": "pXi8A4QdlGFt"
      },
      "outputs": [],
      "source": [
        "print(model_sg)"
      ]
    },
    {
      "cell_type": "code",
      "execution_count": null,
      "metadata": {
        "id": "Pk75BJt8oXGz"
      },
      "outputs": [],
      "source": [
        "model_sg.wv.most_similar(\"good\")"
      ]
    },
    {
      "attachments": {},
      "cell_type": "markdown",
      "metadata": {
        "id": "H-snonCmwt4S"
      },
      "source": [
        "### Checking Similiarty"
      ]
    },
    {
      "cell_type": "code",
      "execution_count": null,
      "metadata": {
        "id": "sEIVAHQSEw0y"
      },
      "outputs": [],
      "source": [
        "def avg_feature_vector(sentence, model, num_features, index2word_set):\n",
        "    words = sentence.split()\n",
        "    feature_vec = np.zeros((num_features, ), dtype='float32')\n",
        "    n_words = 0\n",
        "    for word in words:\n",
        "        if word in index2word_set:\n",
        "            n_words += 1\n",
        "            feature_vec = np.add(feature_vec, model[word])\n",
        "    if (n_words > 0):\n",
        "        feature_vec = np.divide(feature_vec, n_words)\n",
        "    return feature_vec"
      ]
    },
    {
      "cell_type": "code",
      "execution_count": null,
      "metadata": {
        "id": "Y4Yp-7zgEwyP"
      },
      "outputs": [],
      "source": [
        "index2word_set = set(model.wv.index2word) \n",
        "s1_afv = avg_feature_vector(df['question1'][0], model=model_sg, num_features=100, index2word_set=index2word_set)\n",
        "s2_afv = avg_feature_vector(df['question2'][60], model=model_sg, num_features=100, index2word_set=index2word_set)"
      ]
    },
    {
      "cell_type": "code",
      "execution_count": null,
      "metadata": {
        "colab": {
          "base_uri": "https://localhost:8080/"
        },
        "id": "1kYzvQvGpDZM",
        "outputId": "fda96f1d-85f4-4cd6-a598-3aae174d735c"
      },
      "outputs": [
        {
          "data": {
            "text/plain": [
              "array([ 0.12988515,  0.19888775, -0.08141629,  0.36509874, -0.37354535,\n",
              "       -0.12349963,  0.13633017,  0.15561588,  0.10642807, -0.15626147,\n",
              "       -0.19083963,  0.34437352,  0.11409807, -0.03685695, -0.12273338,\n",
              "        0.13084419,  0.20529003, -0.21268964,  0.3406952 , -0.00960251,\n",
              "       -0.15573041, -0.5247952 ,  0.10925865, -0.38060603, -0.2747555 ,\n",
              "        0.04763616,  0.18130836, -0.0170976 ,  0.01543326,  0.18248022,\n",
              "        0.24445553,  0.18257365, -0.31695476,  0.11904132,  0.42668495,\n",
              "       -0.26427427, -0.11535144, -0.18808846, -0.0806748 ,  0.02461837,\n",
              "       -0.25562152,  0.14288247,  0.27904695,  0.2976209 ,  0.10477491,\n",
              "       -0.00576999, -0.00400038, -0.51480067, -0.20681974,  0.2076648 ,\n",
              "       -0.17604178, -0.08268839,  0.13639182,  0.15709622,  0.04054039,\n",
              "       -0.42009935,  0.24349788, -0.2783216 ,  0.0127066 ,  0.25332743,\n",
              "       -0.25645417, -0.08223865,  0.01918735, -0.12639834, -0.07310881,\n",
              "       -0.0625005 ,  0.29395682,  0.07235251,  0.16495918, -0.04188316,\n",
              "        0.06189668,  0.23566656,  0.1186625 ,  0.39465955, -0.16364375,\n",
              "       -0.28434426,  0.07949205, -0.1854404 ,  0.05794747, -0.10599843,\n",
              "       -0.13848677,  0.20514664,  0.07165255, -0.02140772, -0.14771345,\n",
              "        0.04495139,  0.18100947, -0.6481065 , -0.27707016, -0.11037286,\n",
              "       -0.36217746,  0.2486974 ,  0.22365677, -0.05706515, -0.16212058,\n",
              "        0.13804118, -0.22212291,  0.4029025 ,  0.08644692, -0.2551654 ],\n",
              "      dtype=float32)"
            ]
          },
          "execution_count": 70,
          "metadata": {},
          "output_type": "execute_result"
        }
      ],
      "source": [
        "c"
      ]
    },
    {
      "cell_type": "code",
      "execution_count": null,
      "metadata": {
        "colab": {
          "base_uri": "https://localhost:8080/"
        },
        "id": "zIi2GtsAEwtW",
        "outputId": "c66ee720-8d34-4d75-9b0c-aeb3f9461d3c"
      },
      "outputs": [
        {
          "name": "stdout",
          "output_type": "stream",
          "text": [
            "1\n"
          ]
        }
      ],
      "source": [
        "sim = 1 - spatial.distance.cosine(s1_afv, s2_afv)\n",
        "print(sim)"
      ]
    },
    {
      "cell_type": "code",
      "execution_count": null,
      "metadata": {
        "id": "01bkAqYWfyIv"
      },
      "outputs": [],
      "source": [
        "a = \"Who would be better for India, Donald Trump or Hillary Clinton\";"
      ]
    },
    {
      "cell_type": "code",
      "execution_count": null,
      "metadata": {
        "colab": {
          "base_uri": "https://localhost:8080/",
          "height": 1000
        },
        "id": "HDxjBGuJEwld",
        "outputId": "8739fc92-ad3a-437d-858c-2381f8c5e6e5"
      },
      "outputs": [
        {
          "name": "stdout",
          "output_type": "stream",
          "text": [
            "1 = Is Kickass Torrents trustworthy?\n",
            "1 = Is World War III imminent?\n",
            "1 = What Is Web Design?\n",
            "1 = DO YOU THINK IF MY TREE FALLS ON YOUR PROPERTY IT SHOULD BE MYINE OR YOUR RESPONSABILITY?\n",
            "1 = Is Scientology bullshit?\n",
            "1 = Polished vitrified tiles?\n",
            "1 = Is President-elect Donald Trump President Putin's Trojan Horse?\n",
            "1 = Is Narendra Modi obese?\n",
            "1 = Is World War III coming?\n",
            "1 = Are Near Death Experiences Proved?\n",
            "1 = Is Hillary Clinton Pro-War?\n",
            "1 = Was Robert Baratheon depressed?\n",
            "1 = Is zerocensorship.com safe?\n",
            "1 = Is Snapchat dead?\n",
            "1 = Lip Balm: Is Carmex addictive?\n",
            "1 = Is Ca tough?\n",
            "1 = Who would be better for India, Donald Trump or Hillary Clinton?\n",
            "1 = Does God exist?\n",
            "1 = Is Quora relevant?\n",
            "1 = Is Elizabeth Holmes married?\n",
            "1 = Are Near Death Experiences (NDEs) real?\n",
            "1 = Is Bernie Sanders gay?\n",
            "1 = Which Is The Best SMS Sending Software?\n",
            "1 = Am I dumb? \n",
            "1 = Do superhumans exist?\n",
            "1 = Hillary Clinton nothingburger?\n",
            "1 = Was Akbar Really Great?\n",
            "1 = Is whistleblowing ethical?\n",
            "1 = Is Batman insane?\n",
            "1 = Is Java 100% Object Oriented Programming Language?\n",
            "1 = Will North Korea collapse?\n",
            "1 = Is codingparks.com legit?\n",
            "1 = Is superpharmameds safe?\n",
            "1 = Will AMD A8 7600 Bottleneck GTX 1050?\n",
            "1 = Can Gary Johnson win?\n",
            "1 = Meth Vancouver wa?\n",
            "1 = Was Jesus Christ Jewish?\n",
            "1 = Is Mars habitable?\n",
            "1 = Was Rasputin evil?\n",
            "0.9096846580505371 = Could Donald Trump actually be a good president, even better than Hillary Clinton would be?\n",
            "1 = Can Peter Thiel program?\n",
            "1 = Tennessee Titans Live Streaming | Watch Tennessee Titans Live Stream NFL Games Today Online?\n",
            "1 = Is Donald Trump \"fact free\"?\n",
            "1 = Is Fidel Castro dead?\n",
            "1 = Is Star Wars overrated?\n",
            "1 = Will Instagram Stories outdo Snapchat?\n",
            "1 = Is WWE Wrestling acted?\n",
            "1 = Uri attack?\n",
            "1 = Are The White Walkers intelligent?\n",
            "1 = Is Stephen Hawking depressed?\n",
            "1 = Why Are UFO Sightings Increasing?\n",
            "1 = जिस स्थान का आपने भ्रमण किया है उसपर 50-60 शब्दों में प्रतिवेदन लिखिए?\n",
            "1 = Samsung Galaxy On7 (2016)?\n",
            "1 = Why Choose FedEx Freight?\n",
            "1 = Is Google Wallet safe/secure?\n",
            "1 = Are Near Death Experiences Proved?\n",
            "1 = Does Alcoholics Anonymous work?\n",
            "1 = What Does GSN mean?\n",
            "1 = CAN ANY ONE TELL ME WHERE I SHOULD STUDY AVIATION COURSE?\n",
            "1 = Does God exist?\n",
            "1 = Is Paul McCartney dead?\n",
            "1 = Beach ave elmwood?\n",
            "1 = Big data?\n",
            "1 = Tyrone st.ours\n",
            "1 = Cornell Football Live Stream | Watch Cornell Big Red Football Game Today Live Streaming Online?\n",
            "1 = Is Coca-Cola toxic?\n",
            "1 = Time Travel Is It Possible?\n",
            "1 = Does [math]-1[/math] factorial, [math](-1)![/math], exist?\n",
            "1 = How Can You Recover Your Gmail Password?\n",
            "1 = Princeton Football Live Stream | Watch Princeton Tigers Football Game Today Live Streaming Online?\n",
            "1 = Is World War III coming?\n",
            "1 = Is Arvind Kejriwal honest?\n",
            "1 = Why don't I die?\n",
            "1 = Is Ayahuasca dangerous?\n",
            "1 = Ray donovan s2e3?\n",
            "1 = …………..\n",
            "1 = Is Brad Pitt nice?\n",
            "1 = Is rushmypassport.com legit?\n",
            "1 = Lamar Football Live Stream | Watch Lamar Cardinals Football Game Today Live Streaming Online?\n",
            "1 = Is Taco Bell good?\n",
            "1 = What isn't chemistry?\n",
            "1 = Will India abrogate Article 370?\n",
            "1 = Does [math]\\sec^2 -\\dfrac{\\pi}{4}=2?[/math]\n",
            "1 = DIFFERENCE BETWEEN INSAT AND IRS?\n",
            "1 = Youngstown State Football Live Stream | Watch Youngstown State Penguins Football Game Today Live Streaming Online?\n",
            "1 = Is Freon toxic?\n",
            "1 = The Most Powerful Astrologer In NEW JERSEY Guru Ji N K Rai?\n",
            "1 = Does \"The Secret\" work?\n",
            "1 = Is Buildmylikes.com legit?\n",
            "1 = Has Anyone Built Their Own Quantum Computer?\n",
            "1 = Are staircases romantic?\n",
            "1 = What's humanity?\n",
            "1 = HINDI POEMS ON FREEDOM STRUGGLE?\n",
            "1 = Is iPhone good?\n",
            "1 = Is World War III coming?\n",
            "1 = Are maremaids real?\n",
            "1 = Is Jerry Springer scripted?\n",
            "1 = Are PhDs bullshit?\n",
            "1 = Does Ginkgo biloba work?\n",
            "1 = Is Hillary Clinton disbarred?\n",
            "1 = Was Adolf Hitler Jewish?\n",
            "1 = What Quora mean?\n",
            "0.9548608660697937 = Who would be a better president: Hillary Clinton or Donald Trump?\n",
            "1 = Is backbone.js dead?\n",
            "1 = Who would be better for India, Donald Trump or Hillary Clinton?\n",
            "1 = Is Baron Trump autistic?\n",
            "1 = Are Gay Pride parades unnecessary?\n",
            "1 = Is Arnab Goswami mad?\n",
            "1 = Is WW3 coming?\n",
            "1 = Why won't Google Chrome download?\n",
            "1 = Is informer.com legit?\n",
            "1 = Explain 'Naman Gupta' (CH15155)?\n",
            "1 = Was Genghis Khan gay?\n",
            "1 = How clickbuzzer.com works?\n",
            "1 = \"><img src=x onerror=prompt(0) >?\n",
            "1 = How blower works?\n",
            "1 = Moderate talkers?\n",
            "1 = Surgical strike?\n",
            "0.9548608660697937 = Who would be a better president: Hillary Clinton or Donald Trump?\n",
            "0.9548608660697937 = Who would be a better president: Hillary Clinton or Donald Trump?\n",
            "1 = What entertains people?\n",
            "0.9214594960212708 = What could be better SAS, or R, or Python?\n",
            "1 = Is PHP dead/dying?\n",
            "1 = Is Hillary Clinton Pro-War?\n",
            "1 = Am I pregnant?\n",
            "1 = Is Hillary Clinton trustworthy?\n",
            "1 = Free lancing C++ project?\n",
            "1 = What's BBA LLB?\n",
            "1 = Can Tuna Cause Mercury Poisoning?\n",
            "1 = Is WWE Wrestling acted?\n",
            "1 = Is autowini.com legit?\n",
            "1 = Is 2.2 GHz enough?\n",
            "1 = Does Gerson Therapy work?\n",
            "1 = What isn't funny?\n",
            "1 = Will Instagram Stories outdo Snapchat?\n",
            "1 = Is shopping2cart.com fake?\n",
            "1 = What Is Masala Bond?\n",
            "1 = Watching Sherlock online?\n",
            "1 = WHAT ARE THE ADVANTAGES AND DISADVANTAGES OF MASS COMMUNICATION?\n",
            "1 = Do Coding Bootcamps work?\n",
            "1 = Idaho State Football Live Stream | Watch Idaho State State Bengals Football Game Today Live Streaming Online?\n",
            "1 = Is The Show \"Mountain Monsters\" Real Or Fake?\n",
            "1 = Is Darth Vader possible?\n",
            "0.9096846580505371 = Could Donald Trump actually be a good president, even better than Hillary Clinton would be?\n",
            "1 = How Successful Are Dental Implants?\n",
            "1 = Can Satya Nadella code?\n",
            "1 = Is Cersei Lannister bisexual?\n",
            "1 = Move Flickr Google photos?\n",
            "1 = What's Cristiano Ronaldo's salary?\n",
            "1 = Is Taylor Swift immature?\n",
            "1 = Is House Baratheon dead?\n",
            "1 = Is Julian Assange dead?\n",
            "1 = Is New York City dying?\n",
            "1 = Is backpage.com safe?\n",
            "1 = Time Travel Is It Possible?\n",
            "1 = “><img src=x onerror=prompt(1)>\n",
            "1 = Can Donald Trump win?\n",
            "1 = What's infinity?\n",
            "1 = Am I alone?\n",
            "1 = Is Big Boss (An Indian TV Series) scripted?\n",
            "1 = Is unifunds.com legit?\n",
            "1 = Which Are Best Motivational Books?\n",
            "1 = Is Dissociative Identity Disorder real?\n",
            "1 = Is rava (semolina/soji) healthy?\n",
            "1 = Does Tinder work?\n",
            "1 = How Can You Recover Your Gmail Password?\n",
            "1 = European momentary system?\n",
            "1 = Is Barack Obama moral?\n",
            "1 = What?\n",
            "1 = Is Elvis overrated?\n",
            "1 = Can Donald Trump win?\n",
            "1 = ?\n",
            "1 = Uber GM salaries?\n",
            "1 = Is Cartagena safe?\n",
            "1 = Does God exist?\n",
            "1 = Is autowini.com legit?\n",
            "1 = Is Donald Trump crazy?\n",
            "1 = Is Muhammad Ali dead?\n",
            "1 = Is The Shawshank Redemption overrated?\n",
            "1 = Which OS Does Adam D'Angelo Use?\n",
            "1 = Save More With Efm Leased Line For Ethernet Broadband Service?\n",
            "1 = Lionel Messi?\n",
            "1 = Are Sikhs Hindus?\n",
            "1 = Are Liberals hypocrites?\n",
            "0.9548608660697937 = Which would be a better buy, Moto G3 or Moto G Turbo?\n",
            "1 = Is LabDoor.com reliable?\n",
            "1 = What?\n",
            "0.9033109545707703 = Which is better option for a fresher either L&T Infotech or TCS -ITIS? And am from EEE department. Also certified .Net Application Developer (MCTS)\n",
            "1 = Does God exist?\n",
            "1 = Is Firstpost profitable?\n",
            "1 = Is WWE Really fake?\n",
            "1 = Is 5' 2\" short?\n",
            "0.9020832180976868 = What's better for doing an M.Tech in electrical domain, IIEST Shibpur or DTU?\n",
            "1 = What Is Personal Development?\n",
            "1 = Is South Korea developed?\n",
            "1 = Is President Obama anti-Semitic?\n",
            "1 = Is Paul Pogba Muslim?\n",
            "1 = Is Donald Trump charismatic?\n",
            "1 = Is Ayurveda boring?\n",
            "1 = Southern Illinois Football Live Stream | Watch Southern Illinois Illinois Salukis Football Game Today Live Streaming Online?\n",
            "1 = Is Justin Bieber cute?\n",
            "1 = DURONTO TICKETS REFUND RULES?\n",
            "1 = Is Terence Tao neurotypical?\n",
            "1 = Was Jimi Hendrix intelligent?\n",
            "1 = What Sex Fetish Would You Never Tell Your Partner?\n",
            "1 = Is PESSAT good?\n",
            "1 = Tennessee Titans Live Streaming | Watch Tennessee Titans Live Stream NFL Games Today Online?\n",
            "1 = How Can You Recover Your Gmail Password?\n",
            "1 = Should You Be Drinking Coffee?\n",
            "1 = Is Pizzagate real?\n",
            "1 = Is Pokémon GO overrated?\n",
            "1 = Movie Review: Dear Zindagi (2016 movie)?\n",
            "1 = Is campari kosher?\n",
            "1 = Is Sharetribe real?\n",
            "1 = Why can't I sleep?\n",
            "1 = Is blackmailing illegal? Why?\n",
            "1 = Does God exist?\n",
            "1 = SHOULD I MOVE MY FAMILY TO NEW YORK?\n",
            "1 = Was Nietzsche gay?\n",
            "1 = Evaluate: [math] \\sqrt{1-\\sqrt{2+\\sqrt{3-\\sqrt{4+\\sqrt{5-...\\sqrt{n}}}}}} [/math]?\n",
            "1 = Are/were mermaids/mermen real?\n",
            "1 = Is Halloween satanic?\n",
            "1 = Is lesbianism real?\n",
            "1 = Am I pregnant?\n",
            "1 = Who won World War 2?\n",
            "1 = Are barbiturates OTC drugs?\n",
            "1 = Is John Travolta gay?\n",
            "1 = Are All Bangladeshis Ethnically Mixed Through Ancestry?\n",
            "1 = Can I Get Pregnant From Oral Sex?\n",
            "1 = Are liquors kosher?\n",
            "1 = Is WW3 coming?\n",
            "1 = Is autowini.com legit?\n",
            "1 = Qualify Nda 2017?\n",
            "1 = How's Royal Enfield Himalayan motorcycle?\n",
            "1 = Am I pregnant?\n",
            "1 = Gumballs & dungeons?\n",
            "1 = How Often Should I Work Out/Lift Weights?\n",
            "1 = Is Paul McCartney dead?\n",
            "1 = How much. Are. People. Paying. On. Electricity?\n",
            "1 = Doesn't Batman sleep?\n",
            "1 = Idaho State Football Live Stream | Watch Idaho State State Bengals Football Game Today Live Streaming Online?\n",
            "1 = Is Eastern Europe poor?\n",
            "1 = Is Australia racist?\n",
            "1 = Is India changing?\n",
            "1 = Will Suicide Squad flop?\n",
            "1 = Why Are UFO Sightings Increasing?\n",
            "1 = Fremont Toyota service?\n",
            "0.9548608660697937 = Who would be a better president: Hillary Clinton or Donald Trump?\n",
            "1 = Is codingparks.com legit?\n",
            "1 = How Can You Recover Your Gmail Password?\n",
            "1 = Is techmalia legit?\n",
            "1 = Hans spritual meaning?\n",
            "1 = Lord Shiva avatars?\n",
            "1 = Bella Dior Moisturizer & Anti-Aging Skin Care System?\n",
            "1 = Is Chicken healthy?\n",
            "1 = Joy naron stargazer?\n",
            "1 = Direct Acting Mechanical Bucket?\n",
            "1 = Purdue Football Live Stream | Watch Purdue Boilermakers Football Game Today Live Streaming Online?\n",
            "1 = Are non-humans superstitious?\n",
            "1 = Is 1/0 infinity?\n",
            "1 = Who Is Most Powerful Astrologer In FIROZPUR PB GURU JI N K RAI?\n",
            "1 = IS IT BENEFICIAL TO DO A MARKETING PG DIPLOMA FROM CANADA?\n",
            "1 = Is World War III imminent?\n",
            "0.9548608660697937 = Who would be a better president: Hillary Clinton or Donald Trump?\n",
            "1 = Why don't North Koreans rebel?\n",
            "1 = What Kind Of Employment Discrimination Damages Can You Collect?\n",
            "1 = ATTRACTIVE WOMEN INTIMIDATING?\n",
            "1 = Http://www.fitclown.com/medi-wei... #medi #weight #loss #clinics #medicines #SEO #PBN?\n",
            "1 = Is Mahatma Gandhi overrated?\n",
            "1 = parisflatlist\n",
            "1 = Unlocking HTC 626s pin?\n",
            "1 = Is Dissociative Identity Disorder real?\n",
            "1 = Is Zooqle.com legit?\n",
            "1 = Bread watermelon?\n",
            "1 = Is Satya Sai Baba God?\n",
            "1 = Is zerocensorship.com safe?\n",
            "1 = Is Bernie Sanders Jewish?\n",
            "1 = Whatcha doin bro?\n",
            "1 = Is autowini.com legit?\n",
            "1 = CAN YOU HEAR US NOW?\n",
            "1 = Why isn't baby-killing illegal?\n",
            "1 = Is WW3 coming?\n",
            "1 = How Do I Get Unlimited Free Pokecoins In Pokemon Go?\n",
            "1 = Is rushmypassport.com legit?\n",
            "1 = Is KVPY easy?\n",
            "1 = What \"K\" means?\n",
            "0.9167472720146179 = Which is better for aerospace engineering, UCLA or Imperial College London?\n",
            "1 = Has Quora overtaken Stack Exchange?\n",
            "1 = Was Jiraiya revived?\n",
            "1 = Is Sherlock Holmes tidy?\n",
            "1 = Are Voodoo Dolls real?\n",
            "1 = WHO WAS MORE SUCCESSFUL, CIA OR KGB?\n",
            "1 = How Can You Recover Your Gmail Password?\n",
            "1 = Is ISIS Illuminati?\n",
            "1 = Topic: Laminated longbow?\n",
            "1 = Is Twitter dying?\n",
            "1 = Is autowini.com legit?\n",
            "1 = Is Li-Fi overhyped?\n",
            "1 = How Can You Recover Your Gmail Password?\n",
            "1 = Indiana Football Live Stream | Watch Indiana Hoosiers Football Game Today Live Streaming Online?\n",
            "1 = South Carolina Football Live Stream | Watch South Carolina Gamecocks Football Game Today Live Streaming Online?\n",
            "1 = Dial *@==1-877-778-8969==@* Zoho Customer Service PhoneSupport Number USA?\n",
            "1 = Is John Cena dead?\n",
            "1 = Time Travel Is It Possible?\n",
            "1 = Is CNN honest?\n",
            "1 = Are otters mean?\n",
            "1 = Do All Religions Honor God?\n",
            "1 = Is findmejob.in fake?\n",
            "1 = Is spirulina vegetarian?\n",
            "1 = Is Salman Khan overrated?\n",
            "1 = Is galegroup.com reliable?\n",
            "1 = Are Singaporeans arrogant?\n",
            "1 = Is noblesdesigners.com reliable?\n",
            "1 = Is no-doz caffeine/caffeinated pills?\n",
            "1 = AOSDHIADSOIHADSO DASODASHDASOH\n",
            "1 = Is Halala Islamic?\n",
            "1 = Can Gary Johnson win?\n",
            "1 = Is Quora shorthanded?\n",
            "1 = Was Nikola Tesla Jewish?\n",
            "1 = Ranveer Singh Snapchat id?\n",
            "1 = Is Paul McCartney dead?\n",
            "1 = Is Jatin Rajput overrated?\n",
            "1 = Why shouldn't I study?\n",
            "1 = Is Hillary Clinton crooked?\n",
            "1 = مين عايز هامبورجر و مين عايز سوسيس؟?\n",
            "0.9548608660697937 = Who would be a better president: Hillary Clinton or Donald Trump?\n",
            "1 = <h1 style=\"color: blue;\">HTML injection</h1>?\n",
            "1 = Was Jesus gay?\n",
            "1 = Was Isaac Newton Jewish?\n",
            "1 = Can I sue?\n",
            "1 = Is Technology broad?\n",
            "1 = What's EJB?\n",
            "1 = Is Melania Trump intelligent?\n",
            "1 = Astrologer In SITAPUR Guru Ji N K Rai (Lal Kitab & Vedic Astrologer)?\n",
            "1 = Is God Enlightened?\n",
            "1 = HOW CAN GET PAID FOR MY THOUGHTS?\n",
            "1 = Are Mormons polygamous? Why?\n",
            "1 = What's Ireland like?\n",
            "1 = Is Friends overrated?\n",
            "1 = Java And C++ difference?\n",
            "1 = *1-(800) 439–2178* BITDEFENDER Antivirus Tech Support Number, BITDEFENDER Antivirus Support Phone Number?\n",
            "1 = Am I bisexual?\n",
            "1 = Is Google+ dead?\n",
            "1 = Was Michelle Obama disbarred? If so, why?\n",
            "1 = Will North Korea collapse?\n",
            "1 = DEMONETIZATION IMPACT ON BANKS?\n",
            "1 = Is Klopp overrated?\n",
            "1 = Vanier Canada Graduate Scholarships Program?\n",
            "1 = Is trackimei.com legit?\n",
            "1 = What's Bhagavad Gita?\n",
            "1 = Should I invest?\n",
            "1 = Is CSSPJ legit?\n",
            "1 = LG LFINO ANDRIOD PROCESS NOT WORKING?\n",
            "1 = An unforgetable event?\n",
            "1 = Is Donald Trump rich?\n",
            "1 = Is Arijit Singh overrated?\n",
            "1 = Does God exist?\n",
            "1 = Did Subash Chandra Bose die?\n",
            "0.907956063747406 = Which would be better for gaming: i3 5005U with R5 M330 or i3 6100U with HD 520?\n",
            "1 = Is Akbar great?\n",
            "1 = Are archaebacteria multicellular?\n",
            "0.9548608660697937 = Which would be a better buy, Moto G3 or Moto G Turbo?\n",
            "1 = How Google works?\n",
            "1 = Is Abaday.com legit?\n",
            "1 = :\":\": Lexmark Printer Technical Support Number :\": 1-877-778-8969 USA\":\":?\n",
            "1 = Is WW3 coming?\n",
            "1 = Is scamadviser.com legit?\n",
            "1 = Was Akbar Really Great?\n",
            "1 = WHERE DO I GET GOOD TAMIL NADU FOOD PRODUCTS IN RALEIGH, NORTH CAROLINA?\n",
            "1 = What's satire?\n",
            "1 = How priceline.com works?\n",
            "1 = Is Las Vegas expensive?\n",
            "1 = Urban Local bodies?\n",
            "1 = Are Bali homestays good?\n",
            "0.9074165225028992 = Why is tomorrow going to be better for you than today?\n",
            "1 = Is Santa Claus real?\n",
            "1 = Is Thomas Edison State College hard?\n",
            "1 = Foreign Minister Name AT present?\n",
            "1 = Is Arvind Kejriwal corrupt?\n",
            "1 = K medoid example?\n",
            "1 = MY HP DEXTOP DOESNOT CONNECT WIFI WHY?\n",
            "1 = Is God real?\n",
            "1 = Are Indian Gods aliens?\n",
            "1 = Is Baron Trump autistic?\n",
            "1 = Does God exist?\n",
            "1 = Will North Korea collapse?\n",
            "1 = Is giveawaylisting.com legit?\n",
            "1 = Can Chuck Norris die?\n",
            "1 = Narendra Modi: Is Narendra Modi incorruptible?\n",
            "1 = Hh\n",
            "1 = Are Quorans introverts?\n",
            "1 = Why doesn't Salman Khan retire?\n",
            "1 = Is Jake Gyllenhaal underrated?\n",
            "1 = The Mentalist Indian line?\n",
            "1 = Why Are UFO Sightings Increasing?\n",
            "1 = Is Modi overhyped?\n",
            "1 = Is space-time-light-mass-gravity related?\n",
            "1 = Is iwantmyname.com reliable?\n",
            "1 = How's Royal Enfield Himalayan motorcycle?\n",
            "1 = Marriage Proposal For My Childhood Friend\n",
            "0.9071758985519409 = Would England be better off if it \"dumped\" Wales, Northern Ireland and Scotland?\n",
            "1 = Short girls?\n",
            "1 = Which Are Best Motivational Books?\n",
            "1 = Is Slim Shady dead?\n",
            "1 = Is Barack Obama muslim?\n",
            "1 = Did Michael Jackson Own Elvis songs?\n",
            "1 = Is Queen's John Deacon underrated?\n",
            "1 = What Was The First Car?\n",
            "1 = Is LinkedIn useful?\n",
            "1 = How Can You Recover Your Gmail Password?\n",
            "1 = Synchronous Generator Capability Curve?\n",
            "1 = Is SharePoint free?\n",
            "1 = Is World War III coming?\n",
            "1 = 2. How To Grow Beard Faster Naturally?\n",
            "1 = Is Santa Claus real?\n",
            "1 = Is rafdeal.com genuine?\n",
            "1 = Is Britney Spears retiring?\n",
            "1 = Does God exist?\n",
            "1 = Did Zidane \"save\" Real Madrid?\n",
            "1 = Is Quora hiring?\n",
            "1 = Should I Trust Opindia.com?\n",
            "1 = Is Gandhi overrated?\n",
            "1 = Is celibacy possible?\n",
            "1 = Is Robert Mugabe dictatorial?\n",
            "0.9548608660697937 = Who would be a better president: Hillary Clinton or Donald Trump?\n",
            "1 = What does: * mean?\n",
            "1 = How Did You Ultimately Decide Which Career Path To Take?\n",
            "1 = Is eBay India failing?\n",
            "0.9047297835350037 = Is Mac, Windows or Linux better for a CS student or developer?\n",
            "1 = HOW CAN I TAKE ADMISSION IN KERELA FOR MBBS COURSE THROUGH NEET 2016?\n",
            "1 = Neuroscience: Can tDCS increase/decrease intelligence?\n",
            "1 = What Is software?\n",
            "1 = Can Lady Gaga sing?\n",
            "1 = Who would be better for India, Donald Trump or Hillary Clinton?\n",
            "1 = AIRPORT METRO LINE LAST SERVICE FROM AIRPORT TO NEWDELHI?\n",
            "1 = Is pharmacy2home.com reliable?\n",
            "1 = What´s HTML5 canvas?\n",
            "1 = Is Pope Francis Catholic?\n",
            "1 = Is Donald Trump terrorizing American Muslims?\n",
            "1 = Should I sleep?\n",
            "1 = What casts shadows?\n",
            "1 = Is MTV Love School scripted?\n",
            "1 = Will Trump Will Be Impeached?\n",
            "1 = Is Google Wallet safe/secure?\n",
            "1 = Indiana Football Live Stream | Watch Indiana Hoosiers Football Game Today Live Streaming Online?\n",
            "1 = What's hexadecimal?\n",
            "1 = Will Hillary Clinton lose?\n",
            "1 = Help no. 1*877*778*8969 HOTMAIL Customer Service Phone Number USA?\n",
            "1 = Are Venmo payouts reversible?\n",
            "1 = Did Mr. Fred Rogers Have Tattoos?\n",
            "1 = Was Jesus Christ Jewish?\n",
            "1 = Western Illinois Football Live Stream | Watch Western Illinois Leathernecks Football Game Today Live Streaming Online?\n",
            "1 = Was Hitler great?\n",
            "1 = Is y2mate.com safe?\n",
            "1 = Is Leonardo DiCaprio 5'9?\n",
            "1 = Is zurvita legit?\n",
            "1 = Linear Function Applications Maths Question. Help?\n",
            "1 = Is Fascism axiomatic?\n",
            "1 = How's Royal Enfield Himalayan motorcycle?\n",
            "1 = Who won Super Bowl 50?\n",
            "1 = Is Rock Music dying?\n",
            "1 = Is Taylor Swift talented?\n",
            "1 = Was Winston Churchill bad?\n",
            "1 = Is iranianvisa.com trustworthy?\n",
            "1 = Weber State Football Live Stream | Watch Weber State Wildcats Football Game Today Live Streaming Online?\n",
            "1 = Is Quora censored?\n",
            "0.9059761762619019 = Which option is better for a career, Android or iOS?\n",
            "1 = Personality development?\n",
            "1 = Sacramento State Football Live Stream | Watch Sacramento State Hornets Football Game Today Live Streaming Online?\n",
            "1 = Does?\n",
            "1 = Stress definition?\n",
            "1 = Is Melania Trump inspirational?\n",
            "0.9495766758918762 = Which would be a better option: Honda City VX CVT or Hyundai i20 Active 1.4 SX?\n",
            "1 = What isYield strength?\n",
            "1 = Is WW3 inevitable?\n",
            "1 = Which Are Best Motivational Books?\n",
            "1 = CAN A ELECTRICAL ENG. BECOME A SCIENTIST IN ISRO?\n",
            "1 = What Quora mean?\n",
            "1 = Can Gary Johnson win?\n",
            "1 = Most bioavailable supplements?\n",
            "1 = How Can I Get Good Marks In My Exam?\n",
            "1 = Can I Make Wordpress Faster?\n",
            "1 = Weber State Football Live Stream | Watch Weber State Wildcats Football Game Today Live Streaming Online?\n",
            "1 = Kaspersky Antivirus! 1877]! [778]! [8969! Helpline Tollfree Number?\n",
            "1 = Allied Agricultural workers?\n",
            "1 = How zippers works?\n",
            "1 = Is Twitter profitable? If not, why?\n",
            "1 = AO CODE OF IMPHAL?\n",
            "1 = How Can You Recover Your Gmail Password?\n",
            "1 = Does boyfriend/girlfriend Means lover?\n",
            "1 = Is Microsoft Excel Turing-Complete?\n",
            "1 = Who would be better for India, Donald Trump or Hillary Clinton?\n",
            "1 = Why didn't Fatimah suceed Muhammad?\n",
            "1 = Are Pontians Greek?\n",
            "1 = Is Rotten Tomatoes biased?\n",
            "1 = How Can You Recover Your Gmail Password?\n",
            "1 = Is TheFunded.com biased?\n",
            "1 = Is Hell real?\n",
            "1 = IF MICHAEL JACKSON FOUNDED HIS PURPOSE WHEN HE WAS living, WHY WAS HE UNHAPPY AND LONELY? IM CONFUSED\n",
            "1 = WHO IS LOVE ON IN WORLD?\n",
            "1 = Is John Oliver funny?\n",
            "1 = Which  Are Some Best Bollywood movies?\n",
            "1 = Am I Latina?\n",
            "1 = Is Quora censored?\n",
            "1 = Is x/0 possible?\n",
            "1 = Is Arijit Singh underrated?\n",
            "1 = Do affirmations work?\n",
            "1 = Is Arvind Kejriwal honest?\n",
            "1 = Is appjasmine.com legit?\n",
            "1 = Is Putin, Trump's Mussolini?\n",
            "0.9594325423240662 = Which college would be better for marketing, IMT Ghaziabad or NMIMS Mumbai?\n",
            "1 = Is Salman Khan improving?\n",
            "1 = Who Loves Quora?\n",
            "1 = Does Allu Arjun smoke?\n",
            "1 = Time Travel Is It Possible?\n",
            "1 = Is petersons.com safe?\n",
            "1 = ماذا علي ان افعل لكي اشعر بالسعادة و الرضى ؟\n",
            "1 = Is wholekorea legit?\n",
            "1 = Was Winston Churchill American?\n",
            "1 = Delete\n",
            "1 = Motor control?\n",
            "1 = Deleted.\n",
            "1 = Is Big Boss (An Indian TV Series) scripted?\n",
            "1 = Is CloudFlare useful?\n",
            "1 = Is Narendra Modi homophobic?\n",
            "1 = Is Pelé overrated?\n",
            "1 = Is Dissociative Identity Disorder real?\n",
            "1 = Personality development?\n",
            "1 = DR. BABASAHEB AMBEDKAR’S EFFORTS FOR WOMEN EMPOWERMENT?\n",
            "1 = Is 1/0 infinity?\n",
            "1 = Are maremaids real?\n",
            "1 = Was Steve Jobs technical?\n",
            "1 = Is sahivalue.com legit?\n",
            "1 = Is expressdropship.com good?\n",
            "0.9211511611938477 = Which NIT would be better for computer science - NIT Calicut or NIT Trichy?\n",
            "1 = Is Ilayaraja underrated?\n",
            "1 = Teens In The Backseat Angel Wicky, Sam Bourne & Jimena Lago (Moms In Controll)?\n",
            "1 = Is anti-aging possible?\n",
            "1 = Is monsterusers.com safe?\n",
            "1 = Is zerocensorship.com safe?\n",
            "1 = Is Shah Rukh Khan bald?\n",
            "1 = Is Trump winning?\n",
            "1 = Why aren't tampons/pads free?\n",
            "1 = Am I bisexual?\n",
            "1 = Time Travel Is It Possible?\n",
            "1 = Is licentie4u.com good?\n",
            "1 = Is Ayurveda boring?\n",
            "1 = Is 5'6 short?\n",
            "1 = Is Zlatan Ibrahimovic overrated?\n",
            "1 = What's Snow White's name?\n",
            "0.9510049819946289 = Which would be a better option DTU pct or USIT IT?\n",
            "1 = Proshred Elite & Max Horn Testimonial|Bodybuilding Combo?\n",
            "1 = Am I clairvoyant?\n",
            "0.9038615822792053 = Is it better to be circumcised or uncircumcised?\n",
            "1 = Rooting Samsung Galaxy S4 sm-975L?\n",
            "1 = RELATED TO MEDIA?\n",
            "1 = Iowa State Football Live Stream | Watch Iowa State Cyclones Football Game Today Live Streaming Online?\n",
            "0.9153992533683777 = What would be better for me (my academic score Secondary-72% and H.S 66%) so should I pursue C.A or go for M.B.A?\n",
            "1 = Is trackimei.com legit?\n",
            "1 = Why doesn't Salman Khan retire?\n",
            "1 = Was William Shakespeare Catholic?\n",
            "1 = What \"K\" means?\n",
            "1 = I Accidentally Uninstalled Superuser?\n",
            "1 = Is The Shawshank Redemption overrated?\n",
            "1 = WHAT IS DIFFRENCE BETWEEN COMPARATIVE AND SUPERLATIVE?\n",
            "1 = Is WikiLeaks trustworthy?\n",
            "1 = Nommez deux couturiers francais?\n",
            "1 = TurboTax vs. H&R Block?\n",
            "1 = How CAN I ORGANIZE MY PHD life?\n",
            "1 = What Quora mean?\n",
            "1 = Is Arijit Singh underrated?\n",
            "1 = Is Austin, TX overrated? How?\n",
            "1 = Science Po columbia?\n",
            "1 = Is Hillary Clinton Pro-War?\n",
            "1 = Is English Honors easy?\n",
            "1 = Is Donald Trump dangerous?\n",
            "1 = Is iamtexan.com reliable?\n",
            "1 = Is Kapil Sharma married?\n",
            "1 = Is Java 100% Object Oriented Programming Language?\n",
            "1 = Central Connecticut Football Live Stream | Watch Central Connecticut Blue Football Game Today Live Streaming Online?\n",
            "1 = How Can You Recover Your Gmail Password?\n",
            "1 = Is trackimei.com legit?\n",
            "1 = Can Gary Johnson win?\n",
            "1 = Is tradingeconomics.com reliable?\n",
            "1 = Will Flipkart survive?\n",
            "1 = How Do I Get Instant Cash Offer To Sell Your House Quickly?\n",
            "1 = Remembering fireign words?\n",
            "1 = Does God exist?\n",
            "1 = Is rnd useful?\n",
            "1 = What empathy?\n",
            "1 = Was Sigmund Freud mad?\n",
            "1 = HOW DO I DESCRIBE MY STRENGTH FOR A JOB INTERVIEW?\n",
            "1 = What Are Good Accessories For Cars? Where Do They Sell Car Accessories?\n",
            "0.9059761762619019 = What is a better option for B.A. (hons) Psychology, AUD or Jamia?\n",
            "1 = Did Bruce Wayne die?\n",
            "1 = Is Trump winning?\n",
            "1 = Is Karl Marx overrated?\n",
            "1 = Who threatens Shiva Karthikeyan?\n",
            "1 = Is codingparks.com legit?\n",
            "1 = Will Captain America: Civil War flop?\n",
            "1 = Was Bill Clinton impeached?\n",
            "1 = Is exclusiveoffer.com safe?\n",
            "1 = Do You Want To Become An Entrepreneur?\n",
            "1 = WHAT DO YOU UNDERSTAND BY TERM BUSINESS?\n",
            "1 = Was Amber Fort looted?\n",
            "1 = Define colour?\n",
            "1 = Was Justice Scalia assassinated?\n",
            "1 = Is Donald Trump obese?\n",
            "1 = Is Taylor Swift overrated?\n",
            "1 = Is Hillary Clinton crooked?\n",
            "1 = WHAT IS THE DIFFERENCE BETWEEN A eUNUCH AND TRANSSEXUAL?\n",
            "1 = Time Travel Is It Possible?\n",
            "1 = Northern Arizona Football Live Stream | Watch Northern Arizona Lumberjacks Football Game Today Live Streaming Online?\n",
            "1 = Is Detroit dead?\n",
            "1 = Is Russia changing?\n",
            "1 = Is trackimei.com legit?\n",
            "1 = Why doesn't Gary Johnson debate?\n",
            "1 = Is Donald Trump crazy?\n",
            "1 = Is Videocon DTH good?\n",
            "1 = Is beggingmoney.com legit?\n",
            "1 = Is RNA single-stranded?\n",
            "1 = What Are Good Accessories For Cars? Where Do They Sell Car Accessories?\n",
            "1 = Steps Involved In Buying A Android Application From An Auction ?\n",
            "1 = Should You Trust religion?\n",
            "1 = Is Mini Cooper safe?\n",
            "1 = Is PHP dead?\n",
            "1 = Why Nadeem Killed Gulshan Kumar?\n",
            "1 = What does: * mean?\n",
            "1 = Was Winston Churchill bad?\n",
            "0.9548608660697937 = Who would be a better president: Hillary Clinton or Donald Trump?\n",
            "1 = Could Trump win?\n",
            "1 = Why isn't Tywin Lannister king?\n",
            "1 = HH\n",
            "1 = Was Michelle Obama disbarred? If so, why?\n",
            "1 = Time Travel Is It Possible?\n",
            "1 = Butler Football Live Stream | Watch Butler Bulldogs Football Game Today Live Streaming Online?\n",
            "1 = Is Arnab Goswami great?\n",
            "1 = What Would Happen If I Rubbed Bleach In My Eyes?\n",
            "1 = TCS bgv process?\n",
            "1 = Is Martha MacCallum married?\n",
            "1 = Is Daenerys Targaryen bisexual?\n",
            "0.9058420658111572 = Which is better and why: PHP frameworks( Code ignitor,Yii etc.,) vs Django for an advance developer?\n",
            "1 = Moby Dick Club: Why Ishmael?\n",
            "1 = Is Julian Assange alive?\n",
            "1 = Is Bloodborne hard?\n",
            "1 = About MARATHA MORCHA?\n",
            "1 = What Is Page Authority?\n",
            "1 = What's Kim Kardashian like?\n",
            "1 = How grammarly.com work?\n",
            "1 = Is India changing?\n",
            "1 = Http://www.fitclown.com/pcos-wei...  #weight #loss #body #SEO #PBN?\n",
            "1 = Is Chennai safe?\n",
            "1 = Is Leonardo DiCaprio 5'9?\n",
            "1 = Is unifunds.com legit?\n",
            "1 = Why\n",
            "1 = How Alpha Force Testo works?\n",
            "0.9214594960212708 = What could be better SAS, or R, or Python?\n",
            "1 = Can I Get Pregnant From Oral Sex?\n",
            "1 = Is Adele okay?\n",
            "1 = What's infinity?\n",
            "1 = Is King Salam white?\n",
            "1 = Is Odisha developing?\n",
            "1 = Car Battery Store?\n",
            "1 = Who nomenclated Earth?\n",
            "1 = Is liberalsociety.com legit?\n",
            "1 = How IS CFA exams?\n",
            "1 = Korean iPhone quality?\n",
            "1 = Does Varun Dhawan overact?\n",
            "1 = Is Anders Kaseorg Jewish?\n",
            "1 = Is Sony Xperia C waterproof?\n",
            "1 = Is Deadpool (movie) overhyped?\n",
            "1 = Instant Talk@^! ^180.0@*2.51@*4.919 #Get Avast Antivirus Tech Support Phone number?\n",
            "1 = ERUs price?\n",
            "1 = Does Illuminati exist?\n",
            "1 = Is Ann Coulter Transgender?\n",
            "1 = Is Angular JS SEO friendly?\n",
            "0.9231339693069458 = Which would be a better course to take? Delhi University BBS or BBA from Christ University, NMIMS, Symbiosis, etc.?\n",
            "1 = Is Big Boss (An Indian TV Series) scripted?\n",
            "1 = Menstrual cycle?\n",
            "0.9073852896690369 = Which is better for mechanical engineering, PDPU or Nirma?\n",
            "1 = Is Arnab Goswami mad?\n",
            "1 = Princeton Football Live Stream | Watch Princeton Tigers Football Game Today Live Streaming Online?\n",
            "1 = How grammarly.com work?\n",
            "1 = What`s GIS?\n",
            "1 = Is 2pac alive?\n",
            "1 = Should I Join Coast Guard?\n",
            "1 = Are Turks white?\n",
            "1 = Employees’ Provident Fund?\n",
            "1 = Is backpage.com safe?\n",
            "1 = Yamaha enticer modifications?\n",
            "1 = Is TicketSwap.com safe?\n",
            "1 = Are cellos handmade?\n",
            "1 = Is WW3 inevitable?\n",
            "1 = South Carolina Football Live Stream | Watch South Carolina Gamecocks Football Game Today Live Streaming Online?\n",
            "1 = Is Engineering Drawing difficult?\n",
            "1 = Atlanta Falcons Live Streaming | Watch Atlanta Falcons Live Stream NFL Games Today Online?\n",
            "1 = Am I repulsive?\n",
            "0.9096846580505371 = Could Donald Trump actually be a good president, even better than Hillary Clinton would be?\n",
            "1 = Was Vladimir Oulianov Lenin Jewish?\n",
            "1 = Was Hitler insane?\n",
            "1 = [removed]\n",
            "1 = Why Is Kejriwal anti-national?\n",
            "1 = Is Julian Assange alive?\n",
            "1 = Jee motivation?\n",
            "1 = George Washington premed?\n",
            "1 = Is WW3 coming?\n",
            "1 = Trendy Outdoor Floor Tiles?\n",
            "1 = Is Paul Pogba overrated?\n",
            "1 = Did Michael Jackson smoke?\n",
            "1 = Prove that. Cos a.cos a/2-cos3a. cos9a= sin7a. Sin8a?\n",
            "1 = Who Is Most Powerful Astrologer In BANGKOK GURU JI N K RAI.?\n",
            "1 = Is Russia poor?\n",
            "1 = Is David Guetta married?\n",
            "1 = Is Donald Trump rich?\n",
            "1 = Why can't I sleep?\n",
            "1 = Is Donald Trump entertaining?\n",
            "1 = Mobile iOS Android windows?\n",
            "1 = What IS KNOWN AS ELEMENT?\n",
            "1 = IS IT POSSIBLE FOR LNOW STATUS ABOUT CYBERCRIME COMPLAINTS?\n",
            "1 = Is olderwomendating.com trustable?\n",
            "1 = MICROBIOLOGY JOBS IN QATAR?\n",
            "1 = Is Axl Rose gay?\n",
            "1 = Was Karl Marx bourgeois?\n",
            "1 = Which Comes First, Lyrics Or Music?\n",
            "1 = How CIBIL works?\n",
            "1 = Is desigirlsphone.com safe?\n",
            "1 = Does Topicanative asi exist?\n",
            "1 = Is Charlie Sheen winning?\n",
            "1 = Was Quora down?\n",
            "1 = Is WW3 coming?\n",
            "1 = Is Big Thunder Mountain Railroad autistic-friendly?\n",
            "1 = Porn Storylines?\n",
            "1 = Is Bitcoin legal?\n",
            "1 = Is y2mate.com safe?\n",
            "1 = Does God exist?\n",
            "1 = Does chiropracty work?\n",
            "1 = Is PHP hard?\n",
            "1 = Government sector?\n",
            "1 = Is 1/0 infinity?\n",
            "1 = Witty? CALL To ME*! *-{ {@1800`243`0051 * (/(*&*) \\) * Comodo Antivirus Tech Support Phone Number?\n",
            "1 = Is Satan real?\n",
            "1 = Is Pope Francis white?\n",
            "1 = Was Adolf Hitler Jewish?\n",
            "1 = What's Joseph Goebbels IQ?\n",
            "1 = Whats emotive distance?\n",
            "1 = Is BJP corrupt?\n",
            "1 = Was David Foster Wallace unique?\n",
            "1 = Is Donald Trump xenophobic?\n",
            "1 = Ride It Out Abigail Mac & Preston Parker (Doctor Adventuress)?\n",
            "1 = Null \n",
            "1 = Is Node.js overrated?\n",
            "1 = WHY SHOULD WE RECRUIT YOU?\n",
            "1 = Are liquors kosher?\n",
            "1 = Is Grenoble Ecole De Management reputable?\n",
            "0.9024085402488708 = Which Presidency would mean better for Indo-US relationship? Donald Trump's or Hillary Clinton's?\n",
            "1 = Edit\n",
            "1 = How Bruce Lee died?\n",
            "1 = Is Invisalign expensive?\n",
            "1 = Flan recipe?\n",
            "1 = Why can't I poop?\n",
            "1 = What namaste means?\n",
            "1 = What Is Masala Bond?\n",
            "1 = Is audiobookbay.com legit?\n",
            "1 = Is theidealmeal.com legit?\n",
            "1 = Did Hitler die?\n",
            "1 = Is Apple dying?\n",
            "1 = Is John Abraham Gujarati?\n",
            "1 = Is Tony Robbins fake?\n",
            "1 = Is uniquetravel.com legitimate?\n",
            "1 = Is Lenovo phabplus 4G voLTE?\n",
            "1 = Is The Joker insane?\n",
            "1 = Time Travel Is It Possible?\n",
            "1 = What is: |*>?\n",
            "1 = Is Leonardo DiCaprio 5'9.5?\n",
            "1 = Which Programming Language Should I Learn, C# Or C++?\n",
            "1 = Is justfly.com legit?\n",
            "1 = Is Star Wars overrated?\n",
            "1 = What Is Etymology?\n",
            "0.9548608660697937 = Who would be a better president: Hillary Clinton or Donald Trump?\n",
            "0.9308388233184814 = India deal with Russia for Fifth Generation Fighter Aircraft is over ,is AMCA would be better choice?\n",
            "1 = Is Coursera free?\n",
            "1 = Is Java dead?\n",
            "1 = What Are THE MOST Nutritious Foods?\n",
            "1 = Is Tony Robbins fake?\n",
            "1 = #@#? ~! ~ 1800^~^251^~~^4919@! ^! @ COMODO Antivirus Tech Support Number?\n",
            "1 = Is scamadviser.com legit?\n",
            "1 = Is Beyoncé overrated?\n",
            "1 = Is Dissociative Identity Disorder real?\n",
            "1 = Is Jennifer Aniston single?\n",
            "1 = Am I lazy?\n",
            "1 = Will Hillary Clinton lose?\n",
            "1 = Is Paul Graham religious?\n",
            "1 = ती सद्ध्या काय करते? Ti sadhya kay karte?\n",
            "1 = I don't know?\n",
            "0.9153397083282471 = Which company or job would be better if I move from BPO after 3 years for better future?\n",
            "1 = What 'A2A' means?\n",
            "1 = Are Near Death Experiences Proved?\n",
            "1 = Baby Girl Names Starting With A?\n",
            "1 = Adb Transfer Protocol Error?\n",
            "1 = Is DJ KSHMR Indian?\n",
            "1 = Why Does Business Need Software?\n",
            "1 = Is Pope Francis white?\n",
            "1 = How ESP work?\n",
            "1 = Indiana State Football Live Stream | Watch Indiana State Sycamores Football Game Today Live Streaming Online?\n",
            "1 = What Is Pronunciation?\n",
            "1 = Whiplash (2014 movie): Is Fletcher gay?\n",
            "1 = Purdue Football Live Stream | Watch Purdue Boilermakers Football Game Today Live Streaming Online?\n",
            "1 = Is simplyeyeglasses.com legit?\n",
            "1 = Who won World War 1?\n",
            "1 = 5+3+2=151012 9+2+4=183662 8+6+3=482466 5+4+5=202504 7+2+5=?\n",
            "1 = Does Sade Sati exist?\n",
            "1 = Is yeshyip.com legit?\n",
            "1 = What induces ovulation?\n",
            "0.9548608660697937 = Who would be a better president: Hillary Clinton or Donald Trump?\n",
            "1 = Is Mahendra Singh Dhoni overrated?\n",
            "1 = Is Hillary Clinton Pro-War?\n",
            "0.9256754517555237 = Is Infosys Technologies better or Wipro technologies? Which company would be better to join as a FRESHER and why?\n",
            "1 = What's The Ford Motor Company strategy?\n",
            "1 = What pleases American women?\n",
            "1 = Is WW3 coming?\n",
            "1 = If [math]f(x+1) +f(x+3) =f(x) +f(x+2)[/math] What's [math]f?[/math]\n",
            "1 = ????\n",
            "1 = What Is Schema?\n",
            "1 = Do plankton eat?\n",
            "1 = IS THERE ANY IT CAREER WHICH INVOLVES BOTH NETWORKING AND PROGRAMMING?\n",
            "1 = Is Jesus Alive?\n",
            "1 = Mexico American war?\n",
            "1 = Is Hitman real?\n",
            "1 = Is Nikola Tesla overrated?\n",
            "1 = Liberty Football Live Stream | Watch Liberty Flames Football Game Today Live Streaming Online?\n",
            "1 = Is hypothyroid curable?\n",
            "1 = Is Korea dangerous?\n",
            "1 = The Great Gatsby (1925 book): Is Daisy Buchanan misunderstood?\n",
            "0.9548608660697937 = Who would be a better president: Hillary Clinton or Donald Trump?\n",
            "1 = Who's Dennis Ritchie?\n",
            "1 = Is appjasmine.com legit?\n",
            "1 = Is Leonard DiCaprio 5'9?\n",
            "1 = Is Jon Snow smart?\n",
            "1 = Is Jared Leto gay?\n",
            "1 = Can Martin O'Malley win?\n",
            "1 = Extramarital Affairs hyderabad?\n",
            "1 = Do chipmunks bite?\n",
            "1 = Is Jake Williams smart?\n",
            "1 = Beginner Developer confused?\n",
            "1 = Is Donald Trump thin-skinned?\n",
            "0.9024085402488708 = Which Presidency would mean better for Indo-US relationship? Donald Trump's or Hillary Clinton's?\n",
            "1 = Is Ron Berkes Cool?\n",
            "1 = Is Alltop.com profitable?\n",
            "1 = WHAT'S THE POINT OF ASKING WHEN NO ONE BOTHERS TO READ ANYTHING?QUORA IS SUPPOSED TO BE FOR EXPERTISE AND NOT TO BOOST YOUR OWN BLOODY EGOS!\n",
            "1 = Can Donald Trump win?\n",
            "1 = Am I Turing complete?\n",
            "1 = Http://www.fitclown.com/pros-con... #SEO #PBN #medical #weiight #loss?\n",
            "1 = Is ghostbathacker legit?\n",
            "1 = Widsmlabs apttitude questions?\n",
            "1 = Does Vaseline clog pores? Why?\n",
            "1 = How Minoxidil works?\n",
            "1 = Are Persians White?\n",
            "1 = Why shouldn't Sushma Swaraj resign?\n",
            "0.9244785308837891 = Which of these two would be a better option for an MTech in CSE: IIIT-Bangalore or IIIT-Delhi?\n",
            "1 = Spam\n",
            "1 = Is Hillary Clinton trustworthy?\n",
            "1 = Why didn't Jesus marry?\n",
            "1 = What does: * mean?\n",
            "1 = Is Hindi dravidan language?\n",
            "1 = Is Leonardo DiCaprio 5'9?\n",
            "1 = WHAT IS THE BEST ROUT FOR NEPAL PASUPATI NATH TEMPLE FROM ASSAM?\n",
            "1 = What Is Masala Bond?\n",
            "1 = Exactly How Does Blackcore Edge Max Work?\n",
            "1 = Did Christ exist?\n",
            "1 = Who Is One Direction?\n",
            "0.9548608660697937 = Who would be a better president: Hillary Clinton or Donald Trump?\n",
            "1 = LENOVO VIBE X3 VS ASUS ZENFONE SELFIE?\n",
            "0.9009687900543213 = Tapastic, Webtoon or Medibang: Which is better for publishing manga?\n",
            "1 = Tennessee State Football Live Stream | Watch Tennessee State Tigers Football Game Today Live Streaming Online?\n",
            "1 = Is Shah Rukh Khan bald?\n",
            "1 = Is TicketSwap.com safe?\n",
            "1 = WHAT IS ANTI BULLYING ACT?\n",
            "1 = CAN A ATROGER DREAMS COME TRUE?\n",
            "1 = Is WW3 coming?\n",
            "1 = Debit questions?\n",
            "1 = Is skinnybodycare.com genuine?\n",
            "1 = Is monsterusers.com safe?\n",
            "1 = WHERE CAN I GET ARV SHOTS FOR DOG BITE IN BANGALORE?\n",
            "1 = Is tricks4me.com scam?\n",
            "1 = Is Envita.com legit?\n",
            "1 = Is Down’s Syndrome hereditary?\n",
            "0.9022911787033081 = Which is a better option mba from guru nanak dev University or MS from canada?\n",
            "1 = Is Facebook Live safe?\n",
            "1 = Is Singapore LGBT-friendly?\n",
            "1 = Who would be better for India, Donald Trump or Hillary Clinton?\n",
            "1 = Is unifunds.com legit?\n",
            "1 = GST BOON OR BANE?\n",
            "1 = Is Judaism polytheistic?\n",
            "1 = How To Use Social Media To Drive More Booking On Your Hotel/Boutique Site\n",
            "0.904620885848999 = What would be a better choice? UIC for MS in CS or UF for MS in CS?\n",
            "1 = Northern Iowa Football Live Stream | Watch Northern Iowa Panthers Football Game Today Live Streaming Online?\n",
            "1 = Time Travel Is It Possible?\n",
            "1 = Personality pamela courson?\n",
            "1 = Is World War III coming?\n",
            "0.9024085402488708 = Which Presidency would mean better for Indo-US relationship? Donald Trump's or Hillary Clinton's?\n",
            "1 = WHERE CAN WE BUY SLINGSHOT PURIFIFING WATER?\n",
            "1 = Is Jamie Azor Ahai?\n",
            "1 = Have netbooks disappeared?\n",
            "1 = Is 5' 2\" short?\n",
            "1 = Is Leonardo DiCaprio 5'9?\n",
            "1 = How priceline.com works?\n",
            "1 = Is tricks4me.com scam?\n",
            "1 = Was Peter Tchaikovsky gay?\n",
            "1 = How Can You Recover Your Gmail Password?\n",
            "1 = Constructoin management?\n",
            "1 = Is Jennifer Aniston single?\n",
            "1 = Is AMIE Tough For Non Diploma holder?\n",
            "1 = Is informer.com legit?\n",
            "1 = Is Yanni overrated?\n",
            "1 = Are Brahmins today's Dalits?\n",
            "1 = Does CogniQ work?\n",
            "1 = Is Alicia Keys gay?\n",
            "1 = Is Fitbit waterproof?\n",
            "1 = Children Jazz Dance Costumes--aodress.com?\n",
            "1 = Is Sri Sri Ravi Shankar married?\n",
            "1 = Which Comes First, Lyrics Or Music?\n",
            "1 = Blood Clots Using Nanoparticles Can Save Many Lives?\n",
            "1 = Iowa State Football Live Stream | Watch Iowa State Cyclones Football Game Today Live Streaming Online?\n",
            "1 = Is Star Wars Rebels bad?\n",
            "0.9006532430648804 = Which is better postgraduate option after a B.Arch: M.Arch or MBA?\n",
            "1 = Is Andy Burnham married?\n",
            "1 = Is WW3 inevitable?\n",
            "1 = Was Steve Jobs himself?\n",
            "1 = Is eBIZ fraud?\n",
            "1 = Is Emma Watson mean?\n",
            "0.9068921208381653 = Which Company is better for career growth for a fresher: One 97 Communication Ltd. or TCS?\n",
            "1 = IN JNTUH WHICH COURSE IS GOOD CIVIL OR EEE?\n",
            "1 = Was David Bowie gay?\n",
            "1 = Is Bojack Horseman Overrated?\n",
            "1 = I HAD CUM IN SHINY NYLON SHORTS WHEN I WAS 12... I NOW HAVE DEVELOPED A FETISH FOR THEM.. WHY?\n",
            "1 = Is Kobe Bryant retiring?\n",
            "1 = What Is The Logic Behind Two Consecutive Life Sentences To A Convicted Person?\n",
            "1 = Is Hong Kong livable?\n",
            "1 = Is IBM dead?\n",
            "1 = My Quora profile?\n",
            "1 = Http://www.fitclown.com/medi-wei... #medi #weight #loss #clinics #medicines #prescribed #PBN?\n",
            "0.9096846580505371 = Could Donald Trump actually be a good president, even better than Hillary Clinton would be?\n",
            "0.9040106534957886 = Would MBA from IMT Nagpur a better choice for MBA?\n",
            "1 = Is beggingmoney.com legit?\n",
            "1 = Was Shakespeare wealthy?\n",
            "1 = Is Citizen Kane overrated?\n",
            "1 = [math]\\displaystyle \\lim_{x \\to 0} \\left(\\frac{1}{x^2}-\\frac{1}{\\tan^2 x}\\right) =[/math] ?\n",
            "1 = If Lightsabers Were Real, Which Real Life Martial Art Would Be Most Suited For It?\n",
            "1 = Is Silk Road alive?\n",
            "1 = Why can't mules reproduce?\n",
            "1 = Is Zooqle.com legit?\n",
            "1 = Does Palestine exist?\n",
            "1 = Synchronous Generator Capability Curve?\n",
            "1 = Is Rock Music dying?\n",
            "1 = Is Modi overhyped?\n",
            "1 = Tax haven?\n",
            "1 = Where Can My Small Business Capital Injection Come From?\n",
            "1 = Is LabDoor.com reliable?\n",
            "1 = GUESS THE MOVIE  + ++✂+ Movie..name.?\n",
            "1 = Will Google Glass flop?\n",
            "1 = What's Calgary?\n",
            "1 = Was Khal Drogo intelligent?\n",
            "1 = Is 2pac dead?\n",
            "1 = Who exudes integrity?\n",
            "1 = Is Java 100% Object Oriented Programming Language?\n",
            "1 = Is antipsychotic-induced dystonia reversible?\n",
            "1 = Who diagnoses schizophrenia?\n",
            "1 = Are hives contagious?\n",
            "1 = Durbin Watson table?\n",
            "1 = Is India changing?\n",
            "1 = Was Winston Churchill American?\n",
            "1 = Girls WhatsApp group?\n",
            "1 = Is Julian Assange alive?\n",
            "0.902682363986969 = Which TV series would be better than movies?\n",
            "1 = HOW DO I MOTIVATE MYSELF TO LIFE LIFE HAPPILY WITHOUT TENSION?\n",
            "1 = Is wholekorea legit?\n",
            "1 = Is Disneyland haunted?\n",
            "1 = POW bandhi yuddh ke?\n",
            "1 = Is Zooqle.com legit?\n",
            "1 = Is cannibalism illegal?\n",
            "1 = Is Lord Rama parabrahman?\n",
            "1 = Is Costa Rica safe?\n",
            "1 = Are PS3 slims reliable?\n",
            "0.9548608660697937 = Who would be a better president: Hillary Clinton or Donald Trump?\n",
            "1 = Are THE MIRACLES OF EUCHARIST SCIENTIFICALLY EXPLAINED?\n",
            "1 = Is oyehappy.com genuine?\n",
            "1 = How Bombay Stock Exchange Work?\n",
            "1 = Is FaceTime safe?\n",
            "1 = How Do I Promote An Online Business?\n",
            "1 = Is Apple dying?\n",
            "1 = Is Ridley Scott married?\n",
            "1 = Is Donald Trump successful? If so, why?\n",
            "1 = Is Turin rich?\n",
            "1 = Could Trump win?\n",
            "1 = Is Hong Kong cosmopolitan?\n",
            "1 = Is AutoCAD outdated?\n",
            "1 = Is Vine dying?\n",
            "1 = SBI Vs Axis Bank. Which Is Good. In Aspect Of Online Transactions?\n",
            "1 = Logistic Regression: Why sigmoid function?\n",
            "1 = Which Is The Best SMS Sending Software?\n",
            "1 = Is Meryl Streep Future's mother?\n",
            "1 = Is WW3 coming?\n",
            "1 = How grammarly.com work?\n",
            "1 = Is David Lynch underrated? If yes, why?\n",
            "1 = Who would be better for India, Donald Trump or Hillary Clinton?\n",
            "1 = Is Rock Music dying?\n",
            "1 = Is Stevie Wonder married?\n",
            "1 = Can I self-study STREAM?\n",
            "1 = Is Assam Down Town University good?\n",
            "1 = Are Muslims dangerous?\n",
            "1 = What fascinates you?\n",
            "1 = Is Virat Kohli humble?\n",
            "1 = Was Winston Churchill bad?\n",
            "1 = Is twed.com legit?\n",
            "1 = Is Jake Williams smart?\n",
            "1 = Is Hamilton overrated?\n",
            "1 = Popular TV shows?\n",
            "1 = Is Answerly.com dead?\n",
            "1 = Shopping & fashion?\n",
            "1 = Is 1/0 infinity?\n",
            "1 = Is Hong Kong ugly?\n",
            "1 = Am I pregnant?\n",
            "1 = Is Bihar developing?\n",
            "1 = Is Buddhism hopeless?\n",
            "1 = Are K-Dramas addictive?\n",
            "1 = What Is rationalization?\n",
            "1 = Liberty Football Live Stream | Watch Liberty Flames Football Game Today Live Streaming Online?\n",
            "1 = Good Community College?\n",
            "1 = Is New Zealand racist?\n",
            "1 = Is (2^1023)-1 prime?\n",
            "1 = Is Lupe Fiasco Muslim?\n",
            "1 = What frustrates American women?\n",
            "1 = What IS American WORKFORCE?\n",
            "1 = Is Jake Williams married?\n",
            "1 = Is Modafinil harmful?\n",
            "1 = How Do I Introduce Myself In A Job Interview?\n",
            "1 = Does Illuminati exist?\n",
            "1 = Hh \n",
            "1 = Is Superman overpowered?\n",
            "1 = Is God perfect?\n",
            "0.9548608660697937 = Who would be a better president: Hillary Clinton or Donald Trump?\n",
            "1 = Is Node.js overrated?\n",
            "1 = WHY DID 2GO CHAT OR MOST CHATS APP FAIL?\n",
            "1 = Time Travel Is It Possible?\n",
            "1 = What \"K\" means?\n",
            "1 = How Can You Recover Your Gmail Password?\n",
            "1 = Is YG Entertainment good?\n",
            "1 = Is informer.com legit?\n",
            "1 = Is London haunted?\n",
            "1 = HOW DO I CHANGE A COSX +B COSY= SOME COS?\n",
            "1 = Who would be better for India, Donald Trump or Hillary Clinton?\n",
            "1 = Is Justin timberlake gay?\n",
            "1 = Is Stefan Molyneux smart?\n",
            "1 = WHAT IS THE BEST PLACE TO BUY OFFICE SUPPLIES LIKE CARTRIDGES ONLINE?\n",
            "1 = Are anti-Trump protestors anti-democracy?\n",
            "1 = μTorrent: How People Are Caught Illegally Downloading Music, Movie Torrents?\n",
            "1 = Does God exist?\n",
            "1 = Time Travel Is It Possible?\n",
            "1 = Is Donald Trump obese?\n",
            "1 = Charmaine Bell profile?\n",
            "1 = Is autowini.com legit?\n",
            "1 = Why can't I murder?\n",
            "1 = Is Narendra Modi gay?\n",
            "1 = Find [math]S=\\sum _{k=1}^n\\left(-1\\right)^k\\begin{pmatrix}2n-k\\\\ k\\end{pmatrix}[/math]?\n",
            "1 = Is unifunds legit?\n",
            "1 = Are Turks white?\n",
            "1 = Is Popcorn Time illegal?\n",
            "1 = Is Donald Trump rich?\n",
            "1 = Is TicketSwap.com safe?\n",
            "1 = Is World War III coming?\n",
            "1 = WHICH COLLEGE IS BEST AMONG PEOPLES BHOPAL OR SHRI AUROBINDO FOR BPT?\n",
            "1 = Is Carly Fiorina Italian?\n",
            "1 = Is Azerbaijan LGBT friendly?\n",
            "1 = Was Steve Jobs aloof?\n",
            "1 = Is Carlos Slim overrated?\n",
            "1 = Is Eminem single?\n",
            "1 = Is English transforming  Indian languages?\n",
            "1 = Is Zooqle.com legit?\n",
            "1 = Could Shelob speak?\n",
            "0.927829384803772 = Who would be better from indian perspective, Trump or Hillary?\n",
            "1 = Jimmy Kimmel Vs. Jimmy Fallon. Who wins?\n",
            "1 = Where's sex?\n",
            "1 = Is ime-9 safe?\n",
            "1 = What?\n",
            "1 = Visa API charge?\n",
            "1 = Is unifunds.com legit?\n",
            "1 = If аbc=1 (a^3+2) (b^3+2) (c^3+2) >=?\n",
            "1 = What Is Educational Psychology?\n",
            "1 = Does Tim Cook cook?\n",
            "1 = Is filial piety moral?\n",
            "1 = Is einthusan.com legal?\n",
            "0.9059761762619019 = Which option is better for a career, Android or iOS?\n",
            "1 = 1.8.0.0**2.5.1**4.9.1.9 ? (()) (( (Linksys Router Tech Support Phone Number?\n",
            "0.9110671877861023 = Which one is better for an IT fresher to join, TCS or Ericsson?\n",
            "1 = Who would be better for Pakistan, Donald Trump or Hillary Clinton?\n",
            "1 = Who nomenclated Earth?\n",
            "1 = Is South Korea developed?\n",
            "1 = Is Shireen Baratheon Azor Ahai?\n",
            "1 = Was Pope John Paul II enlightened?\n",
            "1 = Is Snopes.com biased?\n",
            "1 = Is J.K. Rowling married?\n",
            "1 = SIMILARITES AMONG PROTONS, NEUTRONS AND ELECTRONS?\n",
            "1 = Southern Illinois Football Live Stream | Watch Southern Illinois Illinois Salukis Football Game Today Live Streaming Online?\n",
            "1 = Is Modi's Swachh Abhiyan working?\n",
            "1 = What inspires?\n",
            "1 = Is Tom Hanks Jewish?\n",
            "1 = Can I Get Pregnant From Oral Sex?\n",
            "1 = Checking Against The Cyber Crimes?\n",
            "1 = How's texila American University?\n",
            "1 = Is Daniel Tosh funny?\n",
            "1 = Is English Honors easy?\n",
            "1 = Is Oracle 12c fast?\n",
            "1 = What Are Good Accessories For Cars? Where Do They Sell Car Accessories?\n",
            "1 = What's Stratford, London like?\n",
            "1 = Should I Join Coast Guard?\n",
            "1 = Did Teri Horton's Pollock sell?\n",
            "1 = Is The Big Bang Theory (TV Show) overrated?\n",
            "0.9026857018470764 = Are monospace or proportional fonts better for programming?\n",
            "1 = Is Care2.com legit?\n",
            "1 = Is Donald Trump racist?\n",
            "1 = Does \"Hong Kong nationalism\" exist?\n",
            "1 = Was Abdul Kalam communal?\n",
            "1 = Does Facebook Ad Audience Get Finished Or Consumed By The Ad?\n",
            "0.9548608660697937 = Who would be a better president: Hillary Clinton or Donald Trump?\n",
            "1 = Why don't igloos melt?\n",
            "1 = FISICA_TEORICA Google?\n",
            "1 = Is Mark Zuckerberg weird?\n",
            "1 = Equity-for-Services Tax Liability\n",
            "0.9096846580505371 = Could Donald Trump actually be a good president, even better than Hillary Clinton would be?\n",
            "1 = HI MY ZENFONE SELFIE STRUCK ON FASTBOOT MODE?\n",
            "1 = Are Persians White?\n",
            "1 = Is India doomed?\n",
            "1 = Is zerocensorship.com safe?\n",
            "1 = Is Lindsey Graham Republican?\n",
            "1 = Is unifunds.com legit?\n",
            "1 = Is VIT Vellore fun?\n",
            "1 = Is/was Jeff Bezos technical?\n",
            "0.9548608660697937 = Who would be a better president: Hillary Clinton or Donald Trump?\n",
            "1 = Was Adolf Hitler Jewish?\n",
            "1 = Are Cancerians shy?\n",
            "1 = Northern Arizona Football Live Stream | Watch Northern Arizona Lumberjacks Football Game Today Live Streaming Online?\n",
            "1 = Is Python hashable? How?\n",
            "1 = How HIV spreads?\n",
            "1 = Is trackimei.com legit?\n",
            "1 = How grammarly.com work?\n",
            "1 = Was Shakespeare bisexual?\n",
            "1 = How Alpha Force Testo works?\n",
            "1 = Is Superman Jewish?\n",
            "1 = Is Hillary Clinton liberal?\n",
            "1 = Does Judaism condone violence?\n",
            "1 = Deleted.\n",
            "1 = High CPC keyword?\n",
            "1 = Is Black Lives Matter misguided?\n",
            "1 = Is zerocensorship.com safe?\n",
            "1 = How Coal Bed Methane Process Works?\n",
            "1 = I Told Him I Love Him, He Said \"same here\".What? …\n",
            "1 = Is Magnus Carlsen autistic?\n",
            "1 = Is Mahavatar Babaji real?\n",
            "1 = What's Kim Kardashian like?\n",
            "1 = Is madbid.com safe?\n",
            "1 = Are handcraft popular?\n",
            "1 = Does Candy Crush Saga end?\n",
            "1 = What Quora mean?\n",
            "1 = Idaho State Football Live Stream | Watch Idaho State State Bengals Football Game Today Live Streaming Online?\n",
            "1 = Was Imran Khan handsome?\n",
            "1 = What Did The Mongols Call The Chinese During Their Rule In China?\n",
            "1 = Is Kolkata overpopulated?\n",
            "1 = Is Innsbruck safe?\n",
            "1 = Cricket (sport): Is MS Dhoni overrated?\n",
            "1 = Is William Shatner Jewish?\n",
            "1 = Is Kim Jong Un obese?\n",
            "1 = Is Hosni Mubarak married?\n",
            "1 = Is iamtexan.com reliable?\n",
            "1 = Is Mark Cuban Cuban?\n",
            "1 = Does God exist?\n",
            "1 = Who would be better for India, Donald Trump or Hillary Clinton?\n",
            "1 = MY CRUSH IGNORES ME HELP ASAP?\n",
            "1 = Was Jesus real?\n",
            "1 = Is monsterusers.com safe?\n",
            "1 = What's Uber T?\n",
            "1 = Am I clairvoyant?\n",
            "1 = Does Viagra work?\n",
            "1 = Was Jesus Christ Jewish?\n",
            "1 = Is Snopes.com biased?\n",
            "0.9132144451141357 = Which should be better for CSE, NIT Durgapur or Jadavpur University?\n",
            "1 = Is WW3 coming?\n",
            "1 = Is Travellingtrips.com legit?\n",
            "1 = Was Jimi Hendrix intelligent?\n",
            "1 = Is Udita Pal single?\n",
            "1 = Is madbid.com safe?\n",
            "1 = Is Yo Yo Honey Singh overhyped? Why?\n",
            "1 = Could Trump win?\n",
            "1 = Can Superman swim?\n",
            "1 = Has Quora evaporatively cooled?\n",
            "1 = Is Ne-Yo dead?\n",
            "1 = Is Stata declining?\n",
            "1 = HOW MANY INTERNS WILL BILL CLINTON SEDUCE IF HE IS INSTALLED AS AMERICA'S FIRST MALE FIRST LADY?\n",
            "1 = Is Mocha coffee?\n"
          ]
        },
        {
          "ename": "KeyboardInterrupt",
          "evalue": "ignored",
          "output_type": "error",
          "traceback": [
            "\u001b[0;31m---------------------------------------------------------------------------\u001b[0m",
            "\u001b[0;31mKeyboardInterrupt\u001b[0m                         Traceback (most recent call last)",
            "\u001b[0;32m<ipython-input-69-131f932293c5>\u001b[0m in \u001b[0;36m<module>\u001b[0;34m\u001b[0m\n\u001b[1;32m      3\u001b[0m \u001b[0;32mfor\u001b[0m \u001b[0mi\u001b[0m\u001b[0;34m,\u001b[0m\u001b[0mj\u001b[0m \u001b[0;32min\u001b[0m \u001b[0menumerate\u001b[0m\u001b[0;34m(\u001b[0m\u001b[0mdf\u001b[0m\u001b[0;34m[\u001b[0m\u001b[0;34m'question2'\u001b[0m\u001b[0;34m]\u001b[0m\u001b[0;34m)\u001b[0m\u001b[0;34m:\u001b[0m\u001b[0;34m\u001b[0m\u001b[0;34m\u001b[0m\u001b[0m\n\u001b[1;32m      4\u001b[0m   \u001b[0ms2_afv\u001b[0m \u001b[0;34m=\u001b[0m \u001b[0mavg_feature_vector\u001b[0m\u001b[0;34m(\u001b[0m\u001b[0mj\u001b[0m\u001b[0;34m,\u001b[0m \u001b[0mmodel\u001b[0m\u001b[0;34m=\u001b[0m\u001b[0mmodel_sg\u001b[0m\u001b[0;34m,\u001b[0m \u001b[0mnum_features\u001b[0m\u001b[0;34m=\u001b[0m\u001b[0;36m100\u001b[0m\u001b[0;34m,\u001b[0m \u001b[0mindex2word_set\u001b[0m\u001b[0;34m=\u001b[0m\u001b[0mindex2word_set\u001b[0m\u001b[0;34m)\u001b[0m\u001b[0;34m\u001b[0m\u001b[0;34m\u001b[0m\u001b[0m\n\u001b[0;32m----> 5\u001b[0;31m   \u001b[0msim\u001b[0m \u001b[0;34m=\u001b[0m \u001b[0;36m1\u001b[0m \u001b[0;34m-\u001b[0m \u001b[0mspatial\u001b[0m\u001b[0;34m.\u001b[0m\u001b[0mdistance\u001b[0m\u001b[0;34m.\u001b[0m\u001b[0mcosine\u001b[0m\u001b[0;34m(\u001b[0m\u001b[0ms1_afv\u001b[0m\u001b[0;34m,\u001b[0m \u001b[0ms2_afv\u001b[0m\u001b[0;34m)\u001b[0m\u001b[0;34m\u001b[0m\u001b[0;34m\u001b[0m\u001b[0m\n\u001b[0m\u001b[1;32m      6\u001b[0m   \u001b[0;32mif\u001b[0m \u001b[0msim\u001b[0m\u001b[0;34m>\u001b[0m\u001b[0;36m0.9\u001b[0m\u001b[0;34m:\u001b[0m \u001b[0mprint\u001b[0m\u001b[0;34m(\u001b[0m\u001b[0;34mf\"{sim} = {j}\"\u001b[0m\u001b[0;34m)\u001b[0m\u001b[0;34m\u001b[0m\u001b[0;34m\u001b[0m\u001b[0m\n",
            "\u001b[0;32m/usr/local/lib/python3.7/dist-packages/scipy/spatial/distance.py\u001b[0m in \u001b[0;36mcosine\u001b[0;34m(u, v, w)\u001b[0m\n\u001b[1;32m    745\u001b[0m     \u001b[0;31m#   or 'reflective correlation'\u001b[0m\u001b[0;34m\u001b[0m\u001b[0;34m\u001b[0m\u001b[0;34m\u001b[0m\u001b[0m\n\u001b[1;32m    746\u001b[0m     \u001b[0;31m# clamp the result to 0-2\u001b[0m\u001b[0;34m\u001b[0m\u001b[0;34m\u001b[0m\u001b[0;34m\u001b[0m\u001b[0m\n\u001b[0;32m--> 747\u001b[0;31m     \u001b[0;32mreturn\u001b[0m \u001b[0mmax\u001b[0m\u001b[0;34m(\u001b[0m\u001b[0;36m0\u001b[0m\u001b[0;34m,\u001b[0m \u001b[0mmin\u001b[0m\u001b[0;34m(\u001b[0m\u001b[0mcorrelation\u001b[0m\u001b[0;34m(\u001b[0m\u001b[0mu\u001b[0m\u001b[0;34m,\u001b[0m \u001b[0mv\u001b[0m\u001b[0;34m,\u001b[0m \u001b[0mw\u001b[0m\u001b[0;34m=\u001b[0m\u001b[0mw\u001b[0m\u001b[0;34m,\u001b[0m \u001b[0mcentered\u001b[0m\u001b[0;34m=\u001b[0m\u001b[0;32mFalse\u001b[0m\u001b[0;34m)\u001b[0m\u001b[0;34m,\u001b[0m \u001b[0;36m2.0\u001b[0m\u001b[0;34m)\u001b[0m\u001b[0;34m)\u001b[0m\u001b[0;34m\u001b[0m\u001b[0;34m\u001b[0m\u001b[0m\n\u001b[0m\u001b[1;32m    748\u001b[0m \u001b[0;34m\u001b[0m\u001b[0m\n\u001b[1;32m    749\u001b[0m \u001b[0;34m\u001b[0m\u001b[0m\n",
            "\u001b[0;32m/usr/local/lib/python3.7/dist-packages/scipy/spatial/distance.py\u001b[0m in \u001b[0;36mcorrelation\u001b[0;34m(u, v, w, centered)\u001b[0m\n\u001b[1;32m    696\u001b[0m     \u001b[0muv\u001b[0m \u001b[0;34m=\u001b[0m \u001b[0mnp\u001b[0m\u001b[0;34m.\u001b[0m\u001b[0maverage\u001b[0m\u001b[0;34m(\u001b[0m\u001b[0mu\u001b[0m \u001b[0;34m*\u001b[0m \u001b[0mv\u001b[0m\u001b[0;34m,\u001b[0m \u001b[0mweights\u001b[0m\u001b[0;34m=\u001b[0m\u001b[0mw\u001b[0m\u001b[0;34m)\u001b[0m\u001b[0;34m\u001b[0m\u001b[0;34m\u001b[0m\u001b[0m\n\u001b[1;32m    697\u001b[0m     \u001b[0muu\u001b[0m \u001b[0;34m=\u001b[0m \u001b[0mnp\u001b[0m\u001b[0;34m.\u001b[0m\u001b[0maverage\u001b[0m\u001b[0;34m(\u001b[0m\u001b[0mnp\u001b[0m\u001b[0;34m.\u001b[0m\u001b[0msquare\u001b[0m\u001b[0;34m(\u001b[0m\u001b[0mu\u001b[0m\u001b[0;34m)\u001b[0m\u001b[0;34m,\u001b[0m \u001b[0mweights\u001b[0m\u001b[0;34m=\u001b[0m\u001b[0mw\u001b[0m\u001b[0;34m)\u001b[0m\u001b[0;34m\u001b[0m\u001b[0;34m\u001b[0m\u001b[0m\n\u001b[0;32m--> 698\u001b[0;31m     \u001b[0mvv\u001b[0m \u001b[0;34m=\u001b[0m \u001b[0mnp\u001b[0m\u001b[0;34m.\u001b[0m\u001b[0maverage\u001b[0m\u001b[0;34m(\u001b[0m\u001b[0mnp\u001b[0m\u001b[0;34m.\u001b[0m\u001b[0msquare\u001b[0m\u001b[0;34m(\u001b[0m\u001b[0mv\u001b[0m\u001b[0;34m)\u001b[0m\u001b[0;34m,\u001b[0m \u001b[0mweights\u001b[0m\u001b[0;34m=\u001b[0m\u001b[0mw\u001b[0m\u001b[0;34m)\u001b[0m\u001b[0;34m\u001b[0m\u001b[0;34m\u001b[0m\u001b[0m\n\u001b[0m\u001b[1;32m    699\u001b[0m     \u001b[0mdist\u001b[0m \u001b[0;34m=\u001b[0m \u001b[0;36m1.0\u001b[0m \u001b[0;34m-\u001b[0m \u001b[0muv\u001b[0m \u001b[0;34m/\u001b[0m \u001b[0mnp\u001b[0m\u001b[0;34m.\u001b[0m\u001b[0msqrt\u001b[0m\u001b[0;34m(\u001b[0m\u001b[0muu\u001b[0m \u001b[0;34m*\u001b[0m \u001b[0mvv\u001b[0m\u001b[0;34m)\u001b[0m\u001b[0;34m\u001b[0m\u001b[0;34m\u001b[0m\u001b[0m\n\u001b[1;32m    700\u001b[0m     \u001b[0;31m# Return absolute value to avoid small negative value due to rounding\u001b[0m\u001b[0;34m\u001b[0m\u001b[0;34m\u001b[0m\u001b[0;34m\u001b[0m\u001b[0m\n",
            "\u001b[0;32m<__array_function__ internals>\u001b[0m in \u001b[0;36maverage\u001b[0;34m(*args, **kwargs)\u001b[0m\n",
            "\u001b[0;32m/usr/local/lib/python3.7/dist-packages/numpy/lib/function_base.py\u001b[0m in \u001b[0;36maverage\u001b[0;34m(a, axis, weights, returned)\u001b[0m\n\u001b[1;32m    378\u001b[0m \u001b[0;34m\u001b[0m\u001b[0m\n\u001b[1;32m    379\u001b[0m     \u001b[0;32mif\u001b[0m \u001b[0mweights\u001b[0m \u001b[0;32mis\u001b[0m \u001b[0;32mNone\u001b[0m\u001b[0;34m:\u001b[0m\u001b[0;34m\u001b[0m\u001b[0;34m\u001b[0m\u001b[0m\n\u001b[0;32m--> 380\u001b[0;31m         \u001b[0mavg\u001b[0m \u001b[0;34m=\u001b[0m \u001b[0ma\u001b[0m\u001b[0;34m.\u001b[0m\u001b[0mmean\u001b[0m\u001b[0;34m(\u001b[0m\u001b[0maxis\u001b[0m\u001b[0;34m)\u001b[0m\u001b[0;34m\u001b[0m\u001b[0;34m\u001b[0m\u001b[0m\n\u001b[0m\u001b[1;32m    381\u001b[0m         \u001b[0mscl\u001b[0m \u001b[0;34m=\u001b[0m \u001b[0mavg\u001b[0m\u001b[0;34m.\u001b[0m\u001b[0mdtype\u001b[0m\u001b[0;34m.\u001b[0m\u001b[0mtype\u001b[0m\u001b[0;34m(\u001b[0m\u001b[0ma\u001b[0m\u001b[0;34m.\u001b[0m\u001b[0msize\u001b[0m\u001b[0;34m/\u001b[0m\u001b[0mavg\u001b[0m\u001b[0;34m.\u001b[0m\u001b[0msize\u001b[0m\u001b[0;34m)\u001b[0m\u001b[0;34m\u001b[0m\u001b[0;34m\u001b[0m\u001b[0m\n\u001b[1;32m    382\u001b[0m     \u001b[0;32melse\u001b[0m\u001b[0;34m:\u001b[0m\u001b[0;34m\u001b[0m\u001b[0;34m\u001b[0m\u001b[0m\n",
            "\u001b[0;32m/usr/local/lib/python3.7/dist-packages/numpy/core/_methods.py\u001b[0m in \u001b[0;36m_mean\u001b[0;34m(a, axis, dtype, out, keepdims, where)\u001b[0m\n\u001b[1;32m    177\u001b[0m             \u001b[0mis_float16_result\u001b[0m \u001b[0;34m=\u001b[0m \u001b[0;32mTrue\u001b[0m\u001b[0;34m\u001b[0m\u001b[0;34m\u001b[0m\u001b[0m\n\u001b[1;32m    178\u001b[0m \u001b[0;34m\u001b[0m\u001b[0m\n\u001b[0;32m--> 179\u001b[0;31m     \u001b[0mret\u001b[0m \u001b[0;34m=\u001b[0m \u001b[0mumr_sum\u001b[0m\u001b[0;34m(\u001b[0m\u001b[0marr\u001b[0m\u001b[0;34m,\u001b[0m \u001b[0maxis\u001b[0m\u001b[0;34m,\u001b[0m \u001b[0mdtype\u001b[0m\u001b[0;34m,\u001b[0m \u001b[0mout\u001b[0m\u001b[0;34m,\u001b[0m \u001b[0mkeepdims\u001b[0m\u001b[0;34m,\u001b[0m \u001b[0mwhere\u001b[0m\u001b[0;34m=\u001b[0m\u001b[0mwhere\u001b[0m\u001b[0;34m)\u001b[0m\u001b[0;34m\u001b[0m\u001b[0;34m\u001b[0m\u001b[0m\n\u001b[0m\u001b[1;32m    180\u001b[0m     \u001b[0;32mif\u001b[0m \u001b[0misinstance\u001b[0m\u001b[0;34m(\u001b[0m\u001b[0mret\u001b[0m\u001b[0;34m,\u001b[0m \u001b[0mmu\u001b[0m\u001b[0;34m.\u001b[0m\u001b[0mndarray\u001b[0m\u001b[0;34m)\u001b[0m\u001b[0;34m:\u001b[0m\u001b[0;34m\u001b[0m\u001b[0;34m\u001b[0m\u001b[0m\n\u001b[1;32m    181\u001b[0m         ret = um.true_divide(\n",
            "\u001b[0;31mKeyboardInterrupt\u001b[0m: "
          ]
        }
      ],
      "source": [
        "data = {}\n",
        "s1_afv = avg_feature_vector(a, model=model_sg, num_features=100, index2word_set=index2word_set)\n",
        "for i,j in enumerate(df['question2']):\n",
        "  s2_afv = avg_feature_vector(j, model=model_sg, num_features=100, index2word_set=index2word_set)\n",
        "  sim = 1 - spatial.distance.cosine(s1_afv, s2_afv)\n",
        "  if sim>0.9: print(f\"{sim} = {j}\")"
      ]
    },
    {
      "cell_type": "code",
      "execution_count": null,
      "metadata": {
        "id": "CE9hylGLEwdn"
      },
      "outputs": [],
      "source": [
        "data"
      ]
    },
    {
      "attachments": {},
      "cell_type": "markdown",
      "metadata": {
        "id": "xwKFMqDr10KG"
      },
      "source": [
        "# Bag of Word"
      ]
    },
    {
      "cell_type": "code",
      "execution_count": null,
      "metadata": {
        "id": "Xvr5FvU_13oQ"
      },
      "outputs": [],
      "source": [
        "q1=df['question1']\n",
        "q2=df['question2']\n",
        "ques = np.concatenate((q1,q2),axis=0)\n",
        "print(len(ques))"
      ]
    },
    {
      "cell_type": "code",
      "execution_count": null,
      "metadata": {
        "id": "hYy5HC1Q2N4h"
      },
      "outputs": [],
      "source": [
        "vectorizer2= CountVectorizer()\n",
        "vectorizer2.fit(ques)\n",
        "print(len(vectorizer2.vocabulary_))"
      ]
    },
    {
      "cell_type": "code",
      "execution_count": null,
      "metadata": {
        "id": "q9RIHlcP2Q40"
      },
      "outputs": [],
      "source": [
        "bow_vector = vectorizer2.transform(ques)\n",
        "print(bow_vector.shape)\n",
        "print(bow_vector[0])"
      ]
    },
    {
      "attachments": {},
      "cell_type": "markdown",
      "metadata": {
        "id": "-wTMgh8svD9f"
      },
      "source": [
        "## Xgboost"
      ]
    },
    {
      "cell_type": "code",
      "execution_count": null,
      "metadata": {
        "colab": {
          "base_uri": "https://localhost:8080/"
        },
        "id": "Ew1dMLFcq-ba",
        "outputId": "93f3de26-903d-4afc-b339-055007384a66"
      },
      "outputs": [
        {
          "name": "stdout",
          "output_type": "stream",
          "text": [
            "training score: 0.5583329839621789\n",
            "validation score: 0.5573457026584304\n",
            "              precision    recall  f1-score   support\n",
            "\n",
            "           0       0.67      0.96      0.79     83975\n",
            "           1       0.77      0.20      0.32     49441\n",
            "\n",
            "    accuracy                           0.68    133416\n",
            "   macro avg       0.72      0.58      0.56    133416\n",
            "weighted avg       0.71      0.68      0.62    133416\n",
            "\n"
          ]
        }
      ],
      "source": [
        "count_vect = CountVectorizer(analyzer='word', token_pattern=r'\\w{1,}')\n",
        "count_vect.fit(pd.concat((df['question1'],df['question2'])).unique())\n",
        "trainq1_trans = count_vect.transform(df['question1'].values)\n",
        "trainq2_trans = count_vect.transform(df['question2'].values)\n",
        "labels = df['is_duplicate'].values\n",
        "X = scipy.sparse.hstack((trainq1_trans,trainq2_trans))\n",
        "y = labels\n",
        "X_train,X_valid,y_train,y_valid = train_test_split(X,y, test_size = 0.33, random_state = 42)\n",
        "\n",
        "xgb_model = xgb.XGBClassifier(n_estimators=80).fit(X_train, y_train)\n",
        "xgb_prediction = xgb_model.predict(X_valid)\n",
        "\n",
        "from sklearn.metrics import f1_score, classification_report, accuracy_score\n",
        "\n",
        "print('training score:', f1_score(y_train, xgb_model.predict(X_train), average='macro'))\n",
        "print('validation score:', f1_score(y_valid, xgb_model.predict(X_valid), average='macro'))\n",
        "print(classification_report(y_valid, xgb_prediction))"
      ]
    },
    {
      "attachments": {},
      "cell_type": "markdown",
      "metadata": {
        "id": "0pSHIv2U4guu"
      },
      "source": [
        "## Random Forest\n",
        "\n"
      ]
    },
    {
      "cell_type": "code",
      "execution_count": null,
      "metadata": {
        "colab": {
          "base_uri": "https://localhost:8080/"
        },
        "id": "0_Iz-qFt2c_N",
        "outputId": "376ba7a3-6a1e-444c-9175-941e0bbd7414"
      },
      "outputs": [
        {
          "name": "stdout",
          "output_type": "stream",
          "text": [
            "word level tf-idf validation score: 0.7822300988561282\n"
          ]
        }
      ],
      "source": [
        "count_vect = CountVectorizer(analyzer='word', token_pattern=r'\\w{1,}')\n",
        "count_vect.fit(pd.concat((df['question1'],df['question2'])).unique())\n",
        "trainq1_trans = count_vect.transform(df['question1'].values)\n",
        "trainq2_trans = count_vect.transform(df['question2'].values)\n",
        "labels = df['is_duplicate'].values\n",
        "X = scipy.sparse.hstack((trainq1_trans,trainq2_trans))\n",
        "y = labels\n",
        "X_train,X_valid,y_train,y_valid = train_test_split(X,y, test_size = 0.33, random_state = 42)\n",
        "\n",
        "clf = RandomForestClassifier(n_estimators=80).fit(X_train,y_train)\n",
        "adb = clf.predict(X_valid)\n",
        "print('word level tf-idf validation score:', f1_score(y_valid, clf.predict(X_valid), average='macro'))"
      ]
    },
    {
      "cell_type": "code",
      "execution_count": null,
      "metadata": {
        "colab": {
          "base_uri": "https://localhost:8080/"
        },
        "id": "9SySQ8opvQYg",
        "outputId": "aa125dae-a2f3-493c-fde6-973727599c6a"
      },
      "outputs": [
        {
          "name": "stdout",
          "output_type": "stream",
          "text": [
            "0.8103300953408886\n",
            "              precision    recall  f1-score   support\n",
            "\n",
            "           0       0.80      0.93      0.86     83975\n",
            "           1       0.83      0.61      0.70     49441\n",
            "\n",
            "    accuracy                           0.81    133416\n",
            "   macro avg       0.82      0.77      0.78    133416\n",
            "weighted avg       0.81      0.81      0.80    133416\n",
            "\n"
          ]
        }
      ],
      "source": [
        "from sklearn.metrics import f1_score, classification_report, accuracy_score\n",
        "print(accuracy_score(y_valid,adb))\n",
        "print(classification_report(y_valid,adb))"
      ]
    },
    {
      "attachments": {},
      "cell_type": "markdown",
      "metadata": {
        "id": "5MmvKaYo4khX"
      },
      "source": [
        "## Ada Boost"
      ]
    },
    {
      "cell_type": "code",
      "execution_count": null,
      "metadata": {
        "id": "pE_02M_3RoeV"
      },
      "outputs": [],
      "source": [
        "Ada_model = AdaBoostClassifier(base_estimator=DecisionTreeClassifier(),n_estimators=80).fit(X_train, y_train)\n",
        "Ada_prediction = Ada_model.predict(X_valid)"
      ]
    },
    {
      "cell_type": "code",
      "execution_count": null,
      "metadata": {
        "colab": {
          "base_uri": "https://localhost:8080/"
        },
        "id": "Jdhu15YCGvmh",
        "outputId": "2b05a1ba-da8b-48b3-d9be-a143ccae5de3"
      },
      "outputs": [
        {
          "name": "stdout",
          "output_type": "stream",
          "text": [
            "0.7627271091923008\n",
            "              precision    recall  f1-score   support\n",
            "\n",
            "           0       0.76      0.92      0.83     83975\n",
            "           1       0.79      0.49      0.61     49441\n",
            "\n",
            "    accuracy                           0.76    133416\n",
            "   macro avg       0.77      0.71      0.72    133416\n",
            "weighted avg       0.77      0.76      0.75    133416\n",
            "\n"
          ]
        }
      ],
      "source": [
        "print(accuracy_score(y_valid,Ada_prediction))\n",
        "print(classification_report(y_valid,Ada_prediction))"
      ]
    }
  ],
  "metadata": {
    "colab": {
      "collapsed_sections": [
        "Fz7d6rMBZPE1",
        "dSw3WUDoy6ob",
        "ADLhnygr3-jL",
        "68PWxg4SlJwI",
        "H-snonCmwt4S",
        "xwKFMqDr10KG"
      ],
      "provenance": []
    },
    "kernelspec": {
      "display_name": "Python 3",
      "name": "python3"
    },
    "language_info": {
      "name": "python"
    }
  },
  "nbformat": 4,
  "nbformat_minor": 0
}
